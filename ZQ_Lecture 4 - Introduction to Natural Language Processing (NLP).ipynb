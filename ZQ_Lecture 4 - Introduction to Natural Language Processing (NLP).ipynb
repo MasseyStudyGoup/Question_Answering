{
 "cells": [
  {
   "cell_type": "code",
   "execution_count": 1,
   "metadata": {},
   "outputs": [
    {
     "data": {
      "text/html": [
       "<style>.container { width:90% !important; }</style>"
      ],
      "text/plain": [
       "<IPython.core.display.HTML object>"
      ]
     },
     "metadata": {},
     "output_type": "display_data"
    }
   ],
   "source": [
    "from IPython.core.display import display, HTML\n",
    "display(HTML(\"<style>.container { width:90% !important; }</style>\"))"
   ]
  },
  {
   "cell_type": "markdown",
   "metadata": {},
   "source": [
    "# Introduction to Natural Language Processing"
   ]
  },
  {
   "cell_type": "markdown",
   "metadata": {},
   "source": [
    "# Table of Contents\n",
    "* [Introduction to Natural Language Processing](#Introduction-to-Natural-Language-Processing)\n",
    "\t* &nbsp;\n",
    "\t\t* [Learning Outcomes](#Learning-Outcomes)\n",
    "* [NLP Basics](#NLP-Basics)\n",
    "\t* &nbsp;\n",
    "\t\t* [What is NLP?](#What-is-NLP?)\n",
    "\t\t* [Why is NLP useful?](#Why-is-NLP-useful?)\n",
    "\t\t* [What are some of the higher level task areas?](#What-are-some-of-the-higher-level-task-areas?)\n",
    "\t\t* [What are some of the lower level components?](#What-are-some-of-the-lower-level-components?)\n",
    "\t\t* [Why is NLP hard?](#Why-is-NLP-hard?)\n",
    "\t\t* [How does NLP work?](#How-does-NLP-work?)\n",
    "\t\t* [What areas of NLP have we mostly solved?](#What-areas-of-NLP-have-we-mostly-solved?)\n",
    "\t\t* [What areas of NLP are we making progress in?](#What-areas-of-NLP-are-we-making-progress-in?)\n",
    "\t\t* [What areas of NLP are we still struggling with?](#What-areas-of-NLP-are-we-still-struggling-with?)\n",
    "* [Natural Language Toolkit (NLTK)](#Natural-Language-Toolkit-%28NLTK%29)\n",
    "* [Text Data Acquisition](#Text-Data-Acquisition)\n",
    "* [Text Preparation](#Text-Preparation)\n",
    "\t* [Processing Unicode Chars](#Processing-Unicode-Chars)\n",
    "* [Text Tokenization](#Text-Tokenization)\n",
    "\t* [Create a user-defined tokenizer](#Create-a-user-defined-tokenizer)\n",
    "\t\t* [NLTK Text Object](#NLTK-Text-Object)\n",
    "\t* [Plotting Word Frequencies](#Plotting-Word-Frequencies)\n",
    "\t* [Sentence-level tokenization](#Sentence-level-tokenization)\n",
    "* [Text Cleaning](#Text-Cleaning)\n",
    "\t* [Non-English Words and Spelling Errors](#Non-English-Words-and-Spelling-Errors)\n",
    "\t* [Stopwords](#Stopwords)\n",
    "\t\t* [Valid Words Only](#Valid-Words-Only)\n",
    "\t\t* [WordClouds](#WordClouds)\n",
    "* [Text Normalisation](#Text-Normalisation)\n",
    "\t* &nbsp;\n",
    "\t\t* [Stemming](#Stemming)\n",
    "\t\t* [Lemmatization](#Lemmatization)\n",
    "* [Text Semantic Analysis](#Text-Semantic-Analysis)\n",
    "* [Text Sentiment Analysis](#Text-Sentiment-Analysis)\n",
    "\t* &nbsp;\n",
    "\t\t* [TextBlob - Simplified NLP](#TextBlob---Simplified-NLP)\n",
    "\t* [Sentiment Analysis with TextBlob](#Sentiment-Analysis-with-TextBlob)\n",
    "* [Text Feature Extraction](#Text-Feature-Extraction)\n",
    "\t* [Collocations and n-grams](#Collocations-and-n-grams)\n",
    "* [TF-IDF](#TF-IDF)\n",
    "\t* [Document Topic Discovery](#Document-Topic-Discovery)\n",
    "* [Text Classification](#Text-Classification)\n",
    "\t* [Training a Classifier for Sentiment Classification  From Scratch](#Training-a-Classifier-for-Sentiment-Classification--From-Scratch)\n",
    "\t\t* [Use default CountVectorizer to train entire dataset first and test it against the training set too](#Use-default-CountVectorizer-to-train-entire-dataset-first-and-test-it-against-the-training-set-too)\n",
    "\t\t* [Use default CountVectorizer which creates a list of term/frequency features for every review on  a split dataset](#Use-default-CountVectorizer-which-creates-a-list-of-term/frequency-features-for-every-review-on--a-split-dataset)\n",
    "\t\t* [Use default CountVectorizer with filtered stopwords](#Use-default-CountVectorizer-with-filtered-stopwords)\n",
    "\t\t* [Use default CountVectorizer with filtered stopwords and select top 100](#Use-default-CountVectorizer-with-filtered-stopwords-and-select-top-100)\n",
    "\t\t* [Use TF-IDF](#Use-TF-IDF)\n",
    "\t\t* [Use LDA](#Use-LDA)\n",
    "\t\t* [Alternative Features Engineering Techinques](#Alternative-Features-Engineering-Techinques)\n",
    "* [Information Retreival](#Information-Retreival)\n"
   ]
  },
  {
   "cell_type": "markdown",
   "metadata": {},
   "source": [
    "---"
   ]
  },
  {
   "cell_type": "markdown",
   "metadata": {},
   "source": [
    "### Learning Outcomes"
   ]
  },
  {
   "cell_type": "markdown",
   "metadata": {},
   "source": [
    "At the end of this lecture, you should be able to:\n",
    "\n",
    "* describe the basic components of conducting NLP\n",
    "* perform basic operations using the NLTK\n",
    "* apply algorithms to documents in order to produce summaries\n",
    "* perform introductory level text analysis\n",
    "\n",
    "Content in this notebook is based on material in :\n",
    ">Russell, M. A. (2013). Mining the Social Web: Data Mining Facebook, Twitter, LinkedIn, Google+, GitHub, and More. \" O'Reilly Media, Inc.\". Chicago\n",
    "\n",
    "> Bird, S., Klein, E., & Loper, E. (2009). Natural language processing with Python. \" O'Reilly Media, Inc.\".\n",
    "\n",
    "---"
   ]
  },
  {
   "cell_type": "code",
   "execution_count": null,
   "metadata": {
    "scrolled": false
   },
   "outputs": [],
   "source": [
    "from IPython.core.display import HTML\n",
    "HTML(\"<iframe src=http://www.wsj.com/articles/googles-open-source-parsey-mcparseface-helps-machines-understand-english-1463088180 width=1000 height=450></iframe>\")"
   ]
  },
  {
   "cell_type": "code",
   "execution_count": null,
   "metadata": {
    "scrolled": false
   },
   "outputs": [],
   "source": [
    "from IPython.core.display import HTML\n",
    "HTML(\"<iframe src=https://www.rt.com/usa/342982-google-artificial-intelligence-software/ width=1000 height=450></iframe>\")\n"
   ]
  },
  {
   "cell_type": "markdown",
   "metadata": {},
   "source": [
    "http://www.cnet.com/news/google-offers-parsey-mcparseface-and-syntaxnet-ai-software-for-free/\n",
    "\n",
    "https://research.googleblog.com/2016/05/announcing-syntaxnet-worlds-most.html"
   ]
  },
  {
   "cell_type": "markdown",
   "metadata": {},
   "source": [
    "# NLP Basics"
   ]
  },
  {
   "cell_type": "markdown",
   "metadata": {},
   "source": [
    "### What is NLP?"
   ]
  },
  {
   "cell_type": "markdown",
   "metadata": {},
   "source": [
    "- Using computers to process (analyze, understand, generate) natural human languages"
   ]
  },
  {
   "cell_type": "markdown",
   "metadata": {},
   "source": [
    "### Why is NLP useful?"
   ]
  },
  {
   "cell_type": "markdown",
   "metadata": {},
   "source": [
    "- Most knowledge created by humans is unstructured text\n",
    " - Need some way to make sense of it\n",
    " - Enables quantitative analysis of text data"
   ]
  },
  {
   "cell_type": "markdown",
   "metadata": {},
   "source": [
    "### What are some of the higher level task areas?"
   ]
  },
  {
   "cell_type": "markdown",
   "metadata": {},
   "source": [
    "- **Speech recognition and generation**: Apple Siri\n",
    "     - Speech to text\n",
    "     - Text to speech\n",
    " - **Question answering**: IBM Watson\n",
    "     - Match query with knowledge base\n",
    "     - Reasoning about intent of question\n",
    " - **Machine translation**: Google Translate\n",
    "     - One language to another to another\n",
    " - **Information retrieval**: Google\n",
    "     - Finding relevant results\n",
    "     - Finding similar results\n",
    " - **Information extraction**: Gmail\n",
    "     - Structured information from unstructured documents\n",
    " - **Assistive technologies**: Google autocompletion\n",
    "     - Predictive text input\n",
    "     - Text simplification\n",
    " - **Natural Language Generation**: computer-generated articles\n",
    "     - Generating text from data\n",
    " - **Automatic summarization**: Google News\n",
    "     - Extractive summarization\n",
    "     - Abstractive summarization\n",
    " - **Sentiment analysis**: Twitter analysis\n",
    "     - Attitude of speaker"
   ]
  },
  {
   "cell_type": "markdown",
   "metadata": {},
   "source": [
    "### What are some of the lower level components?"
   ]
  },
  {
   "cell_type": "markdown",
   "metadata": {},
   "source": [
    "- **Tokenization**: breaking text into tokens (words, sentences, n-grams)\n",
    "- **Stopword removal**: a/an/the\n",
    " - **Stemming and lemmatization**: root word\n",
    " - **TF-IDF**: word importance\n",
    " - **Part-of-speech tagging**: noun/verb/adjective\n",
    " - **Named entity recognition**: person/organization/location\n",
    " - **Spelling correction**: \"New Yrok City\"\n",
    " - **Word sense disambiguation**: \"buy a mouse\"\n",
    " - **Segmentation**: \"New York City subway\"\n",
    " - **Language detection**: \"translate this page\"\n",
    " - **Machine learning**"
   ]
  },
  {
   "cell_type": "markdown",
   "metadata": {},
   "source": [
    "### Why is NLP hard?"
   ]
  },
  {
   "cell_type": "markdown",
   "metadata": {},
   "source": [
    "- **Ambiguity**:\n",
    "     - Teacher Strikes Idle Kids\n",
    "     - Red Tape Holds Up New Bridges\n",
    "     - Hospitals are Sued by 7 Foot Doctors\n",
    "     - Juvenile Court to Try Shooting Defendant\n",
    "     - Local High School Dropouts Cut in Half\n",
    " - **Non-standard English**: tweets/text messages\n",
    " - **Idioms**: \"throw in the towel\"\n",
    " - **Newly coined words**: \"retweet\"\n",
    " - **Tricky entity names**: \"Where is A Bug's Life playing?\"\n",
    " - **World knowledge**: \"Mary and Sue are sisters\", \"Mary and Sue are mothers\""
   ]
  },
  {
   "cell_type": "markdown",
   "metadata": {},
   "source": [
    "### How does NLP work?"
   ]
  },
  {
   "cell_type": "markdown",
   "metadata": {},
   "source": [
    "- Build probabilistic model using data about a language\n",
    " - Requires an understanding of the language\n",
    " - Requires an understanding of the world (or a particular domain)"
   ]
  },
  {
   "cell_type": "markdown",
   "metadata": {},
   "source": [
    "### What areas of NLP have we mostly solved?"
   ]
  },
  {
   "cell_type": "markdown",
   "metadata": {},
   "source": [
    "- spam detection\n",
    " - POS detection\n",
    " - NER"
   ]
  },
  {
   "cell_type": "markdown",
   "metadata": {},
   "source": [
    "### What areas of NLP are we making progress in?"
   ]
  },
  {
   "cell_type": "markdown",
   "metadata": {},
   "source": [
    "- sentiment analysis\n",
    " - parsing\n",
    " - machine translation\n",
    " - information extraction\n",
    " - word sense disambiguation"
   ]
  },
  {
   "cell_type": "markdown",
   "metadata": {},
   "source": [
    "### What areas of NLP are we still struggling with?"
   ]
  },
  {
   "cell_type": "markdown",
   "metadata": {},
   "source": [
    "- Q&A\n",
    " - paraphrasing\n",
    " - summarisation\n",
    " - unrestrained dialogue\n",
    "\n",
    "Technologies based on NLP are becoming increasingly widespread. For example,\n",
    "phones and handheld computers support predictive text and handwriting recognition;\n",
    "web search engines give access to information locked up in unstructured text and machine\n",
    "translation. On top of this, with the explosion in social media, text mining, text analytics and semantic analysis have become big areas or research.\n",
    "\n",
    "NLP is important for scientific, economic, social, and cultural reasons. \n",
    "\n",
    "NLP is experiencing rapid growth as its theories and methods are deployed in a variety of new language\n",
    "technologies. For this reason it is important for a wide range of people to have a\n",
    "working knowledge of NLP. \n",
    "\n",
    "Within industry, this includes people in human-computer\n",
    "interaction, business information analysis, and web software development. Within\n",
    "academia, it includes people in areas from humanities computing and corpus linguistics\n",
    "through to computer science and artificial intelligence. In academia, NLP is known by the name of “Computational Linguistics.”\n",
    "\n",
    "> Bird, S., Klein, E., & Loper, E. (2009). Natural language processing with Python. \" O'Reilly Media, Inc.\"."
   ]
  },
  {
   "cell_type": "markdown",
   "metadata": {},
   "source": [
    "# Natural Language Toolkit (NLTK)"
   ]
  },
  {
   "cell_type": "markdown",
   "metadata": {},
   "source": [
    "NLTK was originally created in 2001 as part of a computational linguistics course in\n",
    "the Department of Computer and Information Science at the University of Pennsylvania.\n",
    "Since then it has been developed and expanded with the help of dozens of contributors.\n",
    "It has now been adopted in courses in dozens of universities, and serves as\n",
    "the basis of many research projects."
   ]
  },
  {
   "cell_type": "markdown",
   "metadata": {},
   "source": [
    "One of the most important sources of texts is undoubtedly the Web. \n",
    "\n",
    "It’s convenient to have existing text collections to explore, such as the compiled corpora, but there is much analysis to be done on non compiled texts."
   ]
  },
  {
   "cell_type": "code",
   "execution_count": null,
   "metadata": {},
   "outputs": [],
   "source": [
    "#!pip install feedparser"
   ]
  },
  {
   "cell_type": "code",
   "execution_count": 2,
   "metadata": {},
   "outputs": [],
   "source": [
    "import pandas as pd\n",
    "import numpy as np\n",
    "import matplotlib as mtpl\n",
    "import matplotlib.pyplot as plt\n",
    "import seaborn as sns"
   ]
  },
  {
   "cell_type": "code",
   "execution_count": 3,
   "metadata": {},
   "outputs": [],
   "source": [
    "from pylab import rcParams\n",
    "rcParams['figure.figsize'] = 15, 10\n",
    "rcParams['font.size'] = 20\n",
    "rcParams['figure.dpi'] = 350\n",
    "rcParams['lines.linewidth'] = 2\n",
    "rcParams['axes.facecolor'] = 'white'\n",
    "rcParams['patch.edgecolor'] = 'white'\n",
    "rcParams['font.family'] = 'StixGeneral'"
   ]
  },
  {
   "cell_type": "code",
   "execution_count": 4,
   "metadata": {},
   "outputs": [],
   "source": [
    "import nltk"
   ]
  },
  {
   "cell_type": "markdown",
   "metadata": {
    "collapsed": true
   },
   "source": [
    "The following command enables us to download and install text corpora and extra packages through NLTK:"
   ]
  },
  {
   "cell_type": "code",
   "execution_count": 5,
   "metadata": {},
   "outputs": [
    {
     "name": "stdout",
     "output_type": "stream",
     "text": [
      "showing info https://raw.githubusercontent.com/nltk/nltk_data/gh-pages/index.xml\n"
     ]
    },
    {
     "data": {
      "text/plain": [
       "True"
      ]
     },
     "execution_count": 5,
     "metadata": {},
     "output_type": "execute_result"
    }
   ],
   "source": [
    "#make sure you set up your massey log in credentials if you are doing this in the lab\n",
    "#CREDENTIALS = %run cred.py\n",
    "#nltk.set_proxy('http://alb-cache.massey.ac.nz/:8080', CREDENTIALS) \n",
    "#nltk.set_proxy('http://alb-cache.massey.ac.nz/:8080', ('YOUR_USERNAME', 'YOUR_PASSWORD'))\n",
    "\n",
    "# if the above does not work in the lab, then try\n",
    "#nltk.set_proxy(\"http://alb-cache1.massey.ac.nz:8080\")\n",
    "\n",
    "nltk.download()\n",
    "#when the NLTK Donwloader window pops up, select the 'book' identifier and then press the download button to download att the necessary corpora\n",
    "\n",
    "#you might have to change server index to: http://nltk.org/nltk_data/"
   ]
  },
  {
   "cell_type": "markdown",
   "metadata": {},
   "source": [
    "# Text Data Acquisition"
   ]
  },
  {
   "cell_type": "code",
   "execution_count": 7,
   "metadata": {},
   "outputs": [],
   "source": [
    "import os\n",
    "import sys\n",
    "import json\n",
    "import requests\n",
    "import pandas as pd\n",
    "from nltk import clean_html\n",
    "import urllib2\n",
    "from bs4 import BeautifulSoup as bs\n",
    "\n",
    "massey_proxies = {\n",
    "  \"http\": \"http://alb-cache.massey.ac.nz/\",\n",
    "  \"https\": \"http://alb-cache.massey.ac.nz/\",\n",
    "}\n",
    "\n",
    "massey_proxies = \"\""
   ]
  },
  {
   "cell_type": "markdown",
   "metadata": {},
   "source": [
    "Let's get text from an article on the web and do some processing of it:"
   ]
  },
  {
   "cell_type": "code",
   "execution_count": null,
   "metadata": {
    "scrolled": true
   },
   "outputs": [],
   "source": [
    "from IPython.core.display import HTML\n",
    "HTML(\"<iframe src=https://www.yanisvaroufakis.eu/2017/05/03/paul-masons-review-of-adults-in-the-room/ width=1000 height=350></iframe>\")"
   ]
  },
  {
   "cell_type": "code",
   "execution_count": 39,
   "metadata": {},
   "outputs": [
    {
     "data": {
      "text/plain": [
       "<Response [200]>"
      ]
     },
     "execution_count": 39,
     "metadata": {},
     "output_type": "execute_result"
    }
   ],
   "source": [
    "HTML_PAGE = 'https://www.yanisvaroufakis.eu/2017/05/03/paul-masons-review-of-adults-in-the-room/'\n",
    "\n",
    "response = requests.get(HTML_PAGE)#, proxies=massey_proxies)\n",
    "response"
   ]
  },
  {
   "cell_type": "code",
   "execution_count": 40,
   "metadata": {},
   "outputs": [
    {
     "data": {
      "text/plain": [
       "'<!DOCTYPE html>\\n<html lang=\"en-GB\">\\n<head>\\n\\t<meta charset=\"UTF-8\"/>\\n\\t<meta http-equiv=\"X-UA-Compatible\" content=\"IE=edge,chrome=1\"/>\\n\\t<meta name=\"viewport\" content=\"width=device-width, initial-scale=1.0, maximum-scale=1.0, user-scalable=no\" />\\n\\t<title>Paul Mason&#8217;s review of Adults in the Room in The Guardian &#8211; Yanis Varoufakis</title>\\n<link rel=\\'dns-prefetch\\' href=\\'//s0.wp.com\\' />\\n<link rel=\\'dns-prefetch\\' href=\\'//secure.gravatar.com\\' />\\n<link rel=\\'dns-prefetch\\' href=\\'//maxcdn.bootstrapcdn.com\\' />\\n<link rel=\\'dns-prefetch\\' href=\\'//fonts.googleapis.com\\' />\\n<link rel=\\'dns-prefetch\\' href=\\'//s.w.org\\' />\\n<link rel=\"alternate\" type=\"application/rss+xml\" title=\"Yanis Varoufakis &raquo; Feed\" href=\"https://www.yanisvaroufakis.eu/feed/\" />\\n<link rel=\"alternate\" type=\"application/rss+xml\" title=\"Yanis Varoufakis &raquo; Comments Feed\" href=\"https://www.yanisvaroufakis.eu/comments/feed/\" />\\n<link rel=\"alternate\" type=\"application/rss+xml\" title=\"Yanis Varoufakis &raquo; Paul Mason&#8217'"
      ]
     },
     "execution_count": 40,
     "metadata": {},
     "output_type": "execute_result"
    }
   ],
   "source": [
    "page = response.content\n",
    "page[:1000]"
   ]
  },
  {
   "cell_type": "markdown",
   "metadata": {},
   "source": [
    "# Text Preparation "
   ]
  },
  {
   "cell_type": "markdown",
   "metadata": {},
   "source": [
    "The page variable has all the markup symbols which we need to strip away first of all."
   ]
  },
  {
   "cell_type": "code",
   "execution_count": 41,
   "metadata": {},
   "outputs": [
    {
     "data": {
      "text/plain": [
       "u'\\n\\n\\n\\n\\nPaul Mason\\u2019s review of Adults in the Room in The Guardian \\u2013 Yanis Varoufakis\\n\\n\\n\\n\\n\\n\\n\\n\\n\\n\\n\\n\\n\\n\\n\\n\\n\\n\\n\\n\\n\\n\\n\\n\\n\\n\\nbody.admin-bar #header {background:black;}\\n\\n.homePageMostViewed .col-sm-5 {display:none;}\\n\\n\\n.homePageMostViewed .col-sm-7 {width:100%!important;}\\n\\na.custom-logo-link {cursor:default;}\\n\\n.nav-menu > li.menu-item > a {\\npadding:0px 10px!important;\\n}\\n\\na[title=Box0_TOP_GRE],\\na[title=Box0_TOP_ENG],\\na[title=Box1_GRE],\\na[title=Box2_GRE],\\na[title=Box3_GRE],\\na[title=Box4_GRE],\\na[title=Box1_ENG],\\na[title=Box2_ENG],\\na[title=Box3_ENG],\\na[title=Box4_ENG],\\na[title=Uncategorized] {\\ndisplay:none;\\n}\\n\\n#slider1 .shadow {\\nbackground: rgba(0, 0, 0, 0.7)!important;\\n}\\n\\n\\n\\n\\n\\n\\t\\t.side-area, .side-area select {\\n\\t\\t\\tbackground: #101010 ;\\n\\t\\t}\\n\\n\\t\\t.side-area,\\n\\t\\t.side-area h1,\\n\\t\\t.side-area h2,\\n\\t\\t.side-area h3,\\n\\t\\t.side-area h4,\\n\\t\\t.side-area .widget .widget-title h4,\\n\\t\\t.side-area, .side-area a , .side-area select option, .widget_calendar caption {\\n\\t\\t\\tcolor:  #f2f2f2;\\n\\t\\t}\\n\\n\\t\\t.bgcolor,\\n\\t\\t.left-menu-button,\\n\\t\\t.entry-cat'"
      ]
     },
     "execution_count": 41,
     "metadata": {},
     "output_type": "execute_result"
    }
   ],
   "source": [
    "bs_object = bs(page, \"lxml\")  \n",
    "raw = bs_object.get_text()\n",
    "raw[:1000]"
   ]
  },
  {
   "cell_type": "markdown",
   "metadata": {},
   "source": [
    "We only get a partial job done. There is still a lot of rubbish in the text. "
   ]
  },
  {
   "cell_type": "code",
   "execution_count": 42,
   "metadata": {},
   "outputs": [
    {
     "name": "stdout",
     "output_type": "stream",
     "text": [
      "5599\n",
      "14751\n"
     ]
    }
   ],
   "source": [
    "#print len(raw)\n",
    "print raw.find('Yanis Varoufakis once bought me a gin and tonic.')\n",
    "print raw.find('But above all it needs to talk to the mass of people in language born out of the years of toil it takes to build a party and a movement.')\n",
    "\n",
    "start = raw.find('Yanis Varoufakis once bought me a gin and tonic.')\n",
    "end = raw.find('But above all it needs to talk to the mass of people in language born out of the years of toil it takes to build a party and a movement.')"
   ]
  },
  {
   "cell_type": "code",
   "execution_count": 44,
   "metadata": {
    "scrolled": false
   },
   "outputs": [
    {
     "data": {
      "text/plain": [
       "u'Yanis Varoufakis once bought me a gin and tonic. His wife once gave me a cup of tea. While dodging my questions, as finance ministers are obliged to, he never once told me an outright lie. And I\\u2019ve hosted him at two all-ticketed events. I list these transactions because of what I am about to say: that Varoufakis has written one of the greatest political memoirs of all time. It stands alongside Alan Clark\\u2019s for frankness, Denis Healey\\u2019s for attacks on former allies, and \\u2013 as a manual for exploring the perils of statecraft \\u2013 will probably gain the same stature as Robert Caro\\u2019s biography of Lyndon B Johnson.\\n(Click here for the Guardian\\u2019s website)\\n\\n\\n\\n\\n\\nYet Varoufakis\\u2019s account of the crisis that has scarred Greece between 2010 and today also stands in a category of its own: it is the inside story of high politics told by an outsider. Varoufakis began on the outside \\u2013 both of elite politics and the Greek far left \\u2013 swerved to the inside, and then abruptly abandoned it, after he was sacked by his former ally, Greek prime minister Alexis Tsipras, in July 2015. He dramatises his intent throughout the crisis with a telling anecdote. He\\u2019s in Washington for a meeting with Larry Summers, the former US treasury secretary and Obama confidant. Summers asks him point blank: do you want to be on the inside or the outside? \\u201cOutsiders prioritise their freedom to speak their version of the truth. The price is that they are ignored by the insiders, who make the important decisions,\\u201d Summers warns.\\n\\n\\n\\n\\nElected politicians have little power; Wall Street and a network of hedge funds, billionaires and media owners have the real power, and the art of being in politics is to recognise this as a fact of life and achieve what you can without disrupting the system. That was the offer. Varoufakis not only rejected it \\u2013 by describing it in frank detail now, he is arming us against the stupidity of the left\\u2019s occasional fantasies that the system built by neoliberalism can somehow bend or compromise to our desire for social justice.\\nIn this book, then, Varoufakis gives one of the most accurate and detailed descriptions of modern power ever written \\u2013 an achievement that outweighs his desire for self-justification during the Greek crisis. He explains, with a weariness born of nights in soulless hotels and harsh-lit briefing rooms, how the modern power network is built. Aris gets a loan from Zorba\\u2019s bank; Zorba writes off the loan but Zorba\\u2019s construction company gets a contract from Aris\\u2019s ministry. Aris\\u2019s son gets a job at Zorba\\u2019s TV station, which for some reason is always bankrupt and so can never pay tax \\u2013 and so on.\\n\\n\\nVaroufakis with Christine Lagarde of the IMF during a meeting of Eurozone finance ministers in June 2015. Photograph: Virginia Mayo/AP\\n\\u201cThe key to such power networks is exclusion and opacity,\\u201d Varoufakis writes. As sensitive information is bartered, \\u201ctwo-person alliances forge links with other such alliances \\u2026 involving conspirators who conspire de facto without being conscious conspirators\\u201d. In the process of telling this story, Varoufakis not only spills the beans but beans of the kind the Greeks call gigantes \\u2013 fat ones, full of juice.\\n\\nThe first revelation is that not only was Greece bankrupt in 2010 when the EU bailed it out, and that the bailout was designed to save the French and German banks, but that Angela Merkel and Nicolas Sarkozy knew this; and they knew it would be a disaster.\\n\\nThis charge is not new \\u2013 it was levelled at the financial elite at the time by leftwing activists and rightwing economists. But Varoufakis substantiates it with quotes \\u2013 some gleaned from the tapes of conversations and phone calls he was, unbeknown to the participants, making at the time.\\nEven now, two years after the last Greek election, this is of more than academic interest. Greece remains burdened by billions of euros of debt it cannot pay. Because of the actions taken in 2010-11 \\u2013 saving private banks by saddling north European states with massive debts \\u2013 it is French and German taxpayers who will pay the price when the Greek debt is inevitably written off.\\n\\n\\n\\nThe second revelation is that close members of Varoufakis\\u2019s family were threatened with violence when, with the masses in control of the streets and squares, he began to line up with those denouncing the initial bailout as unworkable. It was in response to these threats \\u2013 delivered via an anonymous phone call with oligarchic calm \\u2013 that Varoufakis says he left Greece for the US.\\nAs a result, on his return, as he swung towards active support of the radical left party Syriza, Varoufakis experienced the unfolding crisis as an outsider in a different sense. When asked to speak to the crowd occupying Syntagma Square in May-June 2011, he recalls: \\u201cThe last time I addressed a demonstration was in Nottinghamshire, at a picket line during the 1984 miners\\u2019 strike.\\u201d\\nHe was about to join a cadre of leftwing political operatives \\u2013 headed by Tsipras, flanked by his Glasgow-educated chief of staff Nikos Pappas \\u2013 in a fight to the finish with neoliberalism. But he had scant experience of the organised Greek left and was viewed by many among them as a neoliberal himself.\\nVaroufakis\\u2019s academic achievements had been in the application of game theory to economics. So when he designed Syriza\\u2019s confrontation strategy, he was explicit: the enemy had to believe Syriza was prepared to default, or cut loose from the euro system \\u2013 enough to persuade the EU powers to roll over loans that were coming due, and to deter them from triggering the collapse of the Greek banking system.\\nThis worked \\u2013 although at the price of a big rhetorical climbdown and retreat on Syriza\\u2019s domestic programme in February 2015. It failed in July because, having fought and won an emotional referendum campaign, Tsipras chose compromise over the prospect of a rerun of the Greek civil war.\\nI interviewed Varoufakis on the night of that referendum victory. He seemed stunned by its size (he admits in the book he expected to lose) and certain that it would hand Tsipras the ammunition to face down the so-called troika of lenders. It is now clear, however, that both men miscalculated. Varoufakis understood \\u2013 on the authority of the German finance minister, Wolfgang Sch\\xe4uble \\u2013 that Germany would not try to force Greece out of the euro. By the time it did exactly this, two weeks of closed banks and collapsing growth had made the stakes of the game all or nothing.\\n\\n\\nVaroufakis gives one of the most accurate and detailed descriptions of modern power ever written\\n\\n\\nGetting sacked left Varoufakis with a clean skin \\u2013 although the price has been self-imposed exile once again from active politics in Greece. If, as is possible, the situation spirals towards economic doom, his voice \\u2013 together with those of veteran anti-euro communists who split from Syriza \\u2013 may be all that remains to rally the left for a last-ditch fight against fascism and dictatorship.\\nBut I continue to believe Tsipras was right to climb down in the face of the EU\\u2019s ultimatum, and that Varoufakis was at fault for the way he designed the \\u201cgame\\u201d strategy. For Tsipras \\u2013 and for the older generation of former detainees and torture victims who rebuilt the Greek left after 1974 \\u2013 staying in power as a dented shield against austerity was preferable to handing power back to a bunch of political mafiosi backed by a mob of baying rich-kid fashionistas.\\n\\nIn the end, Tsipras\\u2019s government proved a not very effective shield for the Greek working class, but an effective protection for the million-plus Syrian migrants who landed on Greek shores in the weeks following the economic surrender. The Greek armed forces, judiciary and riot police are replete with people who would have gladly seen the rubber dinghies sunk, their surviving occupants rounded up, interned on landing and deported en masse.\\nThough Syriza\\u2019s handling of the mass migration has been at times inept, at the crucial moment \\u2013 from July to December 2015 \\u2013 left-led Greece provided a conduit and a haven for people fleeing terror and destruction. A right-conservative government would have given a very different and much nastier welcome to the Syrians.\\nIn this context, Varoufakis\\u2019s version of the Tsipras story needs to be challenged. Varoufakis alleges that Tsipras is prone to frivolity, melancholy and indecision, and that he is determined to prove he is \\u201cno shooting star\\u201d. But unlike Varoufakis, Tsipras built a party capable of crushing the elite politicians who have drained Greece of wealth and credibility for a generation, and of governing. Tsipras \\u2013 together with his aide Pappas, whom Varoufakis describes correctly as a major influence on events \\u2013 built something that he calculated could survive defeat.\\nVaroufakis built a reputation, but not a party. Indeed the world of parties \\u2013 of activists huddled against the rainy windows of suburban cafes, of leaflet drops, of strikes and anti-fascist demos \\u2013 is absent from this memoir.\\nIf the global left \\u2013 which was on a roll during 2011-2013 \\u2013 is to regain momentum, it needs leaders like Tsipras to find thinkers and doers like Varoufakis, and to nurture them. But above all it needs to talk to the mass of people in language born out of the years of toil it takes to build a party and a movement.'"
      ]
     },
     "execution_count": 44,
     "metadata": {},
     "output_type": "execute_result"
    }
   ],
   "source": [
    "cleaned_article = raw[start : end + len('But above all it needs to talk to the mass of people in language born out of the years of toil it takes to build a party and a movement.')]\n",
    "cleaned_article"
   ]
  },
  {
   "cell_type": "markdown",
   "metadata": {},
   "source": [
    "You will notice that after the text has been cleaned, there are still many special unicode characters in the text, which you may or may not want to remove for further processing."
   ]
  },
  {
   "cell_type": "markdown",
   "metadata": {},
   "source": [
    "## Processing Unicode Chars"
   ]
  },
  {
   "cell_type": "markdown",
   "metadata": {},
   "source": [
    "Here is how to covert a unicode to ascii, ignoring and removing all unicode chars that cannot be represented in ascii:"
   ]
  },
  {
   "cell_type": "code",
   "execution_count": 45,
   "metadata": {
    "scrolled": true
   },
   "outputs": [
    {
     "data": {
      "text/plain": [
       "'Yanis Varoufakis once bought me a gin and tonic. His wife once gave me a cup of tea. While dodging my questions, as finance ministers are obliged to, he never once told me an outright lie. And Ive hosted him at two all-ticketed events. I list these transactions because of what I am about to say: that Varoufakis has written one of the greatest political memoirs of all time. It stands alongside Alan Clarks for frankness, Denis Healeys for attacks on former allies, and  as a manual for exploring the perils of statecraft  will probably gain the same stature as Robert Caros biography of Lyndon B Johnson.\\n(Click here for the Guardians website)\\n\\n\\n\\n\\n\\nYet Varoufakiss account of the crisis that has scarred Greece between 2010 and today also stands in a category of its own: it is the inside story of high politics told by an outsider. Varoufakis began on the outside  both of elite politics and the Greek far left  swerved to the inside, and then abruptly abandoned it, after he was sacked by his for'"
      ]
     },
     "execution_count": 45,
     "metadata": {},
     "output_type": "execute_result"
    }
   ],
   "source": [
    "cleaned_article = cleaned_article.encode('ascii','ignore')\n",
    "cleaned_article[:1000]"
   ]
  },
  {
   "cell_type": "markdown",
   "metadata": {},
   "source": [
    "**Exercise:** Below is journalistic article covering the tertiary sector and the problem of increasingly unaffordable fees. Your goal is to extract the relevant text from the url below, clean it, and store it as a string in  a variable called cleaned_article2.\n",
    "\n",
    "https://www.theguardian.com/higher-education-network/2017/jul/13/its-time-to-radically-rethink-university-tuition-fees"
   ]
  },
  {
   "cell_type": "code",
   "execution_count": 34,
   "metadata": {},
   "outputs": [],
   "source": [
    "My_HTML_PAGE = 'https://www.theguardian.com/higher-education-network/2017/jul/13/its-time-to-radically-rethink-university-tuition-fees/'\n",
    "\n",
    "response = requests.get(My_HTML_PAGE)\n",
    "page = response.content\n",
    "bs_object = bs(page, \"lxml\")  \n",
    "raw = bs_object.get_text()"
   ]
  },
  {
   "cell_type": "code",
   "execution_count": 35,
   "metadata": {},
   "outputs": [
    {
     "data": {
      "text/plain": [
       "'niversity tuition fees are back in the spotlight. Labours manifesto pledge to abolish fees saw a re-energised student constituency help put paid to expectations of a Conservative majority. Now, Conservative political leaders are scrambling to respond to the issue. The overwhelming impression we are left with is that the current system has lost credibility. It must be swept away and replaced with one that is both fair and financially sustainable.\\nStudents and their parents feel they have been unfairly treated by paying the bulk of their higher education costs themselves  they are right. Under the 2017 system the average debt for graduates is over 50,000, with students from the lowest income families averaging nearly 60,000. This is politically unsustainable.\\n\\n\\n\\n\\nPoorest students will finish university with 57,000 debt, says IFS\\n\\n\\n\\n\\n\\n\\n \\n\\n\\nRead more\\n\\n\\n\\n\\n\\n\\nI believe there needs to be a fresh approach. It is in the national interest for universities in England to be able to educate students'"
      ]
     },
     "execution_count": 35,
     "metadata": {},
     "output_type": "execute_result"
    }
   ],
   "source": [
    "start = raw.find('niversity tuition fees are back in the spotlight. ')\n",
    "end = raw.find('Reform is needed now in the interests of the students, graduates, universities and the country as a whole.')\n",
    "my_cleaned_article = raw[start : end + len('Reform is needed now in the interests of the students, graduates, universities and the country as a whole.')]\n",
    "my_cleaned_article = cleaned_article.encode('ascii','ignore')\n",
    "my_cleaned_article[:1000]\n"
   ]
  },
  {
   "cell_type": "markdown",
   "metadata": {},
   "source": [
    "# Text Tokenization "
   ]
  },
  {
   "cell_type": "code",
   "execution_count": 46,
   "metadata": {},
   "outputs": [
    {
     "data": {
      "text/plain": [
       "str"
      ]
     },
     "execution_count": 46,
     "metadata": {},
     "output_type": "execute_result"
    }
   ],
   "source": [
    "type(cleaned_article)"
   ]
  },
  {
   "cell_type": "markdown",
   "metadata": {},
   "source": [
    "In compiler and linguistic technical terms, characters combine to define **tokens**. \n",
    "\n",
    "**Tokens** are are individual words, symbols or numbers that have some meaning. Before any sense can be made of a text, it must first be tokenized into individual tokens."
   ]
  },
  {
   "cell_type": "code",
   "execution_count": 37,
   "metadata": {},
   "outputs": [
    {
     "data": {
      "text/plain": [
       "['I', 'went', 'to', 'uni', 'today', '.', 'I', 'had', 'lots', 'of', 'fun', '!']"
      ]
     },
     "execution_count": 37,
     "metadata": {},
     "output_type": "execute_result"
    }
   ],
   "source": [
    "some_text  = 'I went to uni today. I had lots of fun!'\n",
    "\n",
    "tokens = nltk.word_tokenize(some_text)\n",
    "tokens"
   ]
  },
  {
   "cell_type": "code",
   "execution_count": 47,
   "metadata": {
    "scrolled": false
   },
   "outputs": [
    {
     "data": {
      "text/plain": [
       "['Yanis',\n",
       " 'Varoufakis',\n",
       " 'once',\n",
       " 'bought',\n",
       " 'me',\n",
       " 'a',\n",
       " 'gin',\n",
       " 'and',\n",
       " 'tonic',\n",
       " '.']"
      ]
     },
     "execution_count": 47,
     "metadata": {},
     "output_type": "execute_result"
    }
   ],
   "source": [
    "tokenized_article = nltk.word_tokenize(cleaned_article)\n",
    "tokenized_article[:10]"
   ]
  },
  {
   "cell_type": "markdown",
   "metadata": {},
   "source": [
    "## Create a user-defined tokenizer"
   ]
  },
  {
   "cell_type": "markdown",
   "metadata": {},
   "source": [
    "In order to do full semantic analysis or machine translation of a piece of text, it is necessary to retain symbols that might be a part of speech and impart meaning. \n",
    "\n",
    "There are however times when we want to remove them altogether. Below is a piece of code that creates a custom tokenizer which strips symbols from a string and converts into a list of tokens."
   ]
  },
  {
   "cell_type": "code",
   "execution_count": 48,
   "metadata": {},
   "outputs": [],
   "source": [
    "from nltk.tokenize import RegexpTokenizer\n",
    "\n",
    "#w means tokens are made of only alphanumeric characters where + indicates that they comprise of one or more of such characters\n",
    "tokenizer = RegexpTokenizer('\\w+')"
   ]
  },
  {
   "cell_type": "markdown",
   "metadata": {},
   "source": [
    "Rules for writing regular expressions can be found here: https://docs.python.org/2/howto/regex.html"
   ]
  },
  {
   "cell_type": "code",
   "execution_count": 49,
   "metadata": {
    "scrolled": true
   },
   "outputs": [
    {
     "data": {
      "text/plain": [
       "['I', 'went', 'to', 'uni', 'today', 'I', 'had', 'lots', 'of', 'fun']"
      ]
     },
     "execution_count": 49,
     "metadata": {},
     "output_type": "execute_result"
    }
   ],
   "source": [
    "tokens_cleaned = tokenizer.tokenize(some_text)\n",
    "tokens_cleaned"
   ]
  },
  {
   "cell_type": "markdown",
   "metadata": {},
   "source": [
    "We can take the *cleaned_article* string from the first example and create a NLTK Text object out of it which enables us to perform some additional operations on the text."
   ]
  },
  {
   "cell_type": "code",
   "execution_count": 50,
   "metadata": {
    "scrolled": true
   },
   "outputs": [
    {
     "data": {
      "text/plain": [
       "['Yanis',\n",
       " 'Varoufakis',\n",
       " 'once',\n",
       " 'bought',\n",
       " 'me',\n",
       " 'a',\n",
       " 'gin',\n",
       " 'and',\n",
       " 'tonic',\n",
       " 'His']"
      ]
     },
     "execution_count": 50,
     "metadata": {},
     "output_type": "execute_result"
    }
   ],
   "source": [
    "tokenized_article = tokenizer.tokenize(cleaned_article)\n",
    "tokenized_article[:10]"
   ]
  },
  {
   "cell_type": "markdown",
   "metadata": {},
   "source": [
    "### NLTK Text Object"
   ]
  },
  {
   "cell_type": "markdown",
   "metadata": {},
   "source": [
    "We now create the Text object from it which gives us a number of methods that we can perform on it."
   ]
  },
  {
   "cell_type": "code",
   "execution_count": 51,
   "metadata": {},
   "outputs": [
    {
     "data": {
      "text/plain": [
       "<Text: Yanis Varoufakis once bought me a gin and...>"
      ]
     },
     "execution_count": 51,
     "metadata": {},
     "output_type": "execute_result"
    }
   ],
   "source": [
    "text_article = nltk.Text(tokenized_article)\n",
    "text_article"
   ]
  },
  {
   "cell_type": "markdown",
   "metadata": {},
   "source": [
    "We can now search for words or phrases in this Text and be shown the context in which they appear:"
   ]
  },
  {
   "cell_type": "code",
   "execution_count": 52,
   "metadata": {},
   "outputs": [
    {
     "name": "stdout",
     "output_type": "stream",
     "text": [
      "Displaying 8 of 8 matches:\n",
      "count of the crisis that has scarred Greece between 2010 and today also stands i\n",
      "irst revelation is that not only was Greece bankrupt in 2010 when the EU bailed \n",
      "is is of more than academic interest Greece remains burdened by billions of euro\n",
      "ic calm that Varoufakis says he left Greece for the US As a result on his return\n",
      " that Germany would not try to force Greece out of the euro By the time it did e\n",
      "e once again from active politics in Greece If as is possible the situation spir\n",
      " from July to December 2015 left led Greece provided a conduit and a haven for p\n",
      "e elite politicians who have drained Greece of wealth and credibility for a gene\n"
     ]
    }
   ],
   "source": [
    "text_article.concordance('Greece')"
   ]
  },
  {
   "cell_type": "markdown",
   "metadata": {},
   "source": [
    "**Exercise:** Perform the same steps in order to create a Text object from the article you cleaned previously and perform a concordance search for the word \"unsustainable\"."
   ]
  },
  {
   "cell_type": "code",
   "execution_count": 71,
   "metadata": {},
   "outputs": [
    {
     "data": {
      "text/plain": [
       "<Text: niversity tuition fees are back in the spotlight...>"
      ]
     },
     "execution_count": 71,
     "metadata": {},
     "output_type": "execute_result"
    }
   ],
   "source": [
    "my_tokenized_article = nltk.word_tokenize(my_cleaned_article)\n",
    "my_tokenized_article = tokenizer.tokenize(my_cleaned_article)\n",
    "my_text_article = nltk.Text(my_tokenized_article)\n",
    "my_text_article"
   ]
  },
  {
   "cell_type": "code",
   "execution_count": null,
   "metadata": {},
   "outputs": [],
   "source": []
  },
  {
   "cell_type": "markdown",
   "metadata": {},
   "source": [
    "## Plotting Word Frequencies"
   ]
  },
  {
   "cell_type": "markdown",
   "metadata": {},
   "source": [
    "We can plot the frequencies of the most commonly occuring words (30 in this example):"
   ]
  },
  {
   "cell_type": "code",
   "execution_count": 55,
   "metadata": {},
   "outputs": [
    {
     "data": {
      "image/png": "[encoded data removed]",
      "text/plain": [
       "<Figure size 1296x432 with 1 Axes>"
      ]
     },
     "metadata": {},
     "output_type": "display_data"
    }
   ],
   "source": [
    "%matplotlib inline\n",
    "f = plt.figure( figsize=(18, 6))\n",
    "plt.xlabel('Words', size=75)\n",
    "plt.ylabel('Counts', size=75)\n",
    "plt.xticks(size=70)\n",
    "plt.title('Sorted histogram of word frequencies', size=50)\n",
    "rcParams['xtick.labelsize'] = 40\n",
    "rcParams['ytick.labelsize'] = 30\n",
    "text_article.plot(30)\n",
    "ax = f.get_axes()\n",
    "\n"
   ]
  },
  {
   "cell_type": "markdown",
   "metadata": {},
   "source": [
    "**Exercise:** Plot the word frequencies for the article you cleaned previously."
   ]
  },
  {
   "cell_type": "code",
   "execution_count": 72,
   "metadata": {},
   "outputs": [
    {
     "data": {
      "image/png": "[encoded data removed]",
      "text/plain": [
       "<Figure size 1296x432 with 1 Axes>"
      ]
     },
     "metadata": {},
     "output_type": "display_data"
    }
   ],
   "source": [
    "%matplotlib inline\n",
    "f = plt.figure( figsize=(18, 6))\n",
    "plt.xlabel('Words', size=75)\n",
    "plt.ylabel('Counts', size=75)\n",
    "plt.xticks(size=70)\n",
    "plt.title('Sorted histogram of word frequencies', size=50)\n",
    "rcParams['xtick.labelsize'] = 40\n",
    "rcParams['ytick.labelsize'] = 30\n",
    "my_text_article.plot(30)\n",
    "ax = f.get_axes()\n"
   ]
  },
  {
   "cell_type": "markdown",
   "metadata": {},
   "source": [
    "## Sentence-level tokenization"
   ]
  },
  {
   "cell_type": "code",
   "execution_count": 57,
   "metadata": {},
   "outputs": [
    {
     "data": {
      "text/plain": [
       "['Yanis Varoufakis once bought me a gin and tonic.',\n",
       " 'His wife once gave me a cup of tea.',\n",
       " 'While dodging my questions, as finance ministers are obliged to, he never once told me an outright lie.',\n",
       " 'And Ive hosted him at two all-ticketed events.',\n",
       " 'I list these transactions because of what I am about to say: that Varoufakis has written one of the greatest political memoirs of all time.']"
      ]
     },
     "execution_count": 57,
     "metadata": {},
     "output_type": "execute_result"
    }
   ],
   "source": [
    "nltk.sent_tokenize(cleaned_article)[:5]"
   ]
  },
  {
   "cell_type": "markdown",
   "metadata": {},
   "source": [
    "# Text Cleaning "
   ]
  },
  {
   "cell_type": "markdown",
   "metadata": {},
   "source": [
    "## Non-English Words and Spelling Errors"
   ]
  },
  {
   "cell_type": "code",
   "execution_count": 58,
   "metadata": {
    "scrolled": false
   },
   "outputs": [
    {
     "data": {
      "text/plain": [
       "[u'A',\n",
       " u'a',\n",
       " u'aa',\n",
       " u'aal',\n",
       " u'aalii',\n",
       " u'aam',\n",
       " u'Aani',\n",
       " u'aardvark',\n",
       " u'aardwolf',\n",
       " u'Aaron',\n",
       " u'Aaronic',\n",
       " u'Aaronical',\n",
       " u'Aaronite',\n",
       " u'Aaronitic',\n",
       " u'Aaru',\n",
       " u'Ab',\n",
       " u'aba',\n",
       " u'Ababdeh',\n",
       " u'Ababua',\n",
       " u'abac',\n",
       " u'abaca',\n",
       " u'abacate',\n",
       " u'abacay',\n",
       " u'abacinate',\n",
       " u'abacination',\n",
       " u'abaciscus',\n",
       " u'abacist',\n",
       " u'aback',\n",
       " u'abactinal',\n",
       " u'abactinally']"
      ]
     },
     "execution_count": 58,
     "metadata": {},
     "output_type": "execute_result"
    }
   ],
   "source": [
    "#all valid English words according to this corpus\n",
    "nltk.corpus.words.words()[:30]"
   ]
  },
  {
   "cell_type": "code",
   "execution_count": 59,
   "metadata": {},
   "outputs": [
    {
     "data": {
      "text/plain": [
       "['Yanis',\n",
       " 'Varoufakis',\n",
       " 'once',\n",
       " 'bought',\n",
       " 'me',\n",
       " 'a',\n",
       " 'gin',\n",
       " 'and',\n",
       " 'tonic',\n",
       " 'His']"
      ]
     },
     "execution_count": 59,
     "metadata": {},
     "output_type": "execute_result"
    }
   ],
   "source": [
    "tokenized_article[:10]"
   ]
  },
  {
   "cell_type": "code",
   "execution_count": 60,
   "metadata": {},
   "outputs": [
    {
     "data": {
      "text/plain": [
       "{'His', 'a', 'and', 'bought', 'gin', 'me', 'once', 'tonic'}"
      ]
     },
     "execution_count": 60,
     "metadata": {},
     "output_type": "execute_result"
    }
   ],
   "source": [
    "valid_words = set(word for word in tokenized_article[:10] if  word.lower() in nltk.corpus.words.words())\n",
    "valid_words"
   ]
  },
  {
   "cell_type": "markdown",
   "metadata": {},
   "source": [
    "## Stopwords"
   ]
  },
  {
   "cell_type": "markdown",
   "metadata": {},
   "source": [
    "Notice that the **collection of elements from the text comprises of elements which are not all words**. \n",
    "\n",
    "Some words may be misspelled as well in which case we might want to take them out. \n",
    "\n",
    "Below is an example of how we can extract only words from a given text that appear in a dictionary from a corpus. This command is not something you want to execute on  a large corpus though since it is slow:"
   ]
  },
  {
   "cell_type": "markdown",
   "metadata": {},
   "source": [
    "There is also a corpus of **stopwords**, that is, high-frequency words such as: the, to etc that we sometimes want to filter out of a document before further processing. \n",
    "\n",
    "Stopwords usually have little lexical content or meaning, and their presence in a text thus fails to distinguish\n",
    "it from other texts."
   ]
  },
  {
   "cell_type": "code",
   "execution_count": 61,
   "metadata": {},
   "outputs": [
    {
     "data": {
      "text/plain": [
       "[u'i',\n",
       " u'me',\n",
       " u'my',\n",
       " u'myself',\n",
       " u'we',\n",
       " u'our',\n",
       " u'ours',\n",
       " u'ourselves',\n",
       " u'you',\n",
       " u\"you're\",\n",
       " u\"you've\",\n",
       " u\"you'll\",\n",
       " u\"you'd\",\n",
       " u'your',\n",
       " u'yours',\n",
       " u'yourself',\n",
       " u'yourselves',\n",
       " u'he',\n",
       " u'him',\n",
       " u'his',\n",
       " u'himself',\n",
       " u'she',\n",
       " u\"she's\",\n",
       " u'her',\n",
       " u'hers',\n",
       " u'herself',\n",
       " u'it',\n",
       " u\"it's\",\n",
       " u'its',\n",
       " u'itself']"
      ]
     },
     "execution_count": 61,
     "metadata": {},
     "output_type": "execute_result"
    }
   ],
   "source": [
    "from nltk.corpus import stopwords\n",
    "stopwords = stopwords.words('english')\n",
    "stopwords[0:30]"
   ]
  },
  {
   "cell_type": "markdown",
   "metadata": {},
   "source": [
    "We can remove all the stop words from our list of tokens:"
   ]
  },
  {
   "cell_type": "code",
   "execution_count": 62,
   "metadata": {
    "scrolled": false
   },
   "outputs": [
    {
     "name": "stdout",
     "output_type": "stream",
     "text": [
      "['Yanis', 'Varoufakis', 'once', 'bought', 'me', 'a', 'gin', 'and', 'tonic', 'His', 'wife', 'once', 'gave', 'me', 'a', 'cup', 'of', 'tea', 'While', 'dodging', 'my', 'questions', 'as', 'finance', 'ministers', 'are', 'obliged', 'to', 'he', 'never', 'once', 'told', 'me', 'an', 'outright', 'lie', 'And', 'Ive', 'hosted', 'him', 'at', 'two', 'all', 'ticketed', 'events', 'I', 'list', 'these', 'transactions', 'because', 'of', 'what', 'I', 'am', 'about', 'to', 'say', 'that', 'Varoufakis', 'has', 'written', 'one', 'of', 'the', 'greatest', 'political', 'memoirs', 'of', 'all', 'time', 'It', 'stands', 'alongside', 'Alan', 'Clarks', 'for', 'frankness', 'Denis', 'Healeys', 'for', 'attacks', 'on', 'former', 'allies', 'and', 'as', 'a', 'manual', 'for', 'exploring', 'the', 'perils', 'of', 'statecraft', 'will', 'probably', 'gain', 'the', 'same', 'stature']\n"
     ]
    },
    {
     "data": {
      "text/plain": [
       "['Yanis',\n",
       " 'Varoufakis',\n",
       " 'bought',\n",
       " 'gin',\n",
       " 'tonic',\n",
       " 'wife',\n",
       " 'gave',\n",
       " 'cup',\n",
       " 'tea',\n",
       " 'dodging',\n",
       " 'questions',\n",
       " 'finance',\n",
       " 'ministers',\n",
       " 'obliged',\n",
       " 'never',\n",
       " 'told',\n",
       " 'outright',\n",
       " 'lie',\n",
       " 'Ive',\n",
       " 'hosted',\n",
       " 'two',\n",
       " 'ticketed',\n",
       " 'events',\n",
       " 'list',\n",
       " 'transactions',\n",
       " 'say',\n",
       " 'Varoufakis',\n",
       " 'written',\n",
       " 'one',\n",
       " 'greatest']"
      ]
     },
     "execution_count": 62,
     "metadata": {},
     "output_type": "execute_result"
    }
   ],
   "source": [
    "print tokenized_article[:100]\n",
    "[word for word in tokenized_article if word.lower() not in stopwords][:30]"
   ]
  },
  {
   "cell_type": "markdown",
   "metadata": {},
   "source": [
    "**Exercise:** Create another Text object from the article in the previous exercises which this time has all the stopwords removed from it and plot the 30 most frequently occuring words:"
   ]
  },
  {
   "cell_type": "code",
   "execution_count": 80,
   "metadata": {},
   "outputs": [
    {
     "name": "stdout",
     "output_type": "stream",
     "text": [
      "['niversity', 'tuition', 'fees', 'are', 'back', 'in', 'the', 'spotlight', 'Labours', 'manifesto', 'pledge', 'to', 'abolish', 'fees', 'saw', 'a', 're', 'energised', 'student', 'constituency', 'help', 'put', 'paid', 'to', 'expectations', 'of', 'a', 'Conservative', 'majority', 'Now', 'Conservative', 'political', 'leaders', 'are', 'scrambling', 'to', 'respond', 'to', 'the', 'issue', 'The', 'overwhelming', 'impression', 'we', 'are', 'left', 'with', 'is', 'that', 'the', 'current', 'system', 'has', 'lost', 'credibility', 'It', 'must', 'be', 'swept', 'away', 'and', 'replaced', 'with', 'one', 'that', 'is', 'both', 'fair', 'and', 'financially', 'sustainable', 'Students', 'and', 'their', 'parents', 'feel', 'they', 'have', 'been', 'unfairly', 'treated', 'by', 'paying', 'the', 'bulk', 'of', 'their', 'higher', 'education', 'costs', 'themselves', 'they', 'are', 'right', 'Under', 'the', '2017', 'system', 'the', 'average']\n"
     ]
    },
    {
     "data": {
      "image/png": "[encoded data removed]",
      "text/plain": [
       "<Figure size 1296x432 with 1 Axes>"
      ]
     },
     "metadata": {},
     "output_type": "display_data"
    }
   ],
   "source": [
    "print my_tokenized_article[:100]\n",
    "no_stops_text = nltk.Text([word for word in my_tokenized_article if word.lower() not in stopwords])\n",
    "no_stops_text[:30]\n",
    "\n",
    "%matplotlib inline\n",
    "f = plt.figure( figsize=(18, 6))\n",
    "plt.xlabel('Words', size=75)\n",
    "plt.ylabel('Counts', size=75)\n",
    "plt.xticks(size=70)\n",
    "plt.title('Sorted histogram of word frequencies', size=50)\n",
    "rcParams['xtick.labelsize'] = 40\n",
    "rcParams['ytick.labelsize'] = 30\n",
    "no_stops_text.plot(30)\n",
    "ax = f.get_axes()\n"
   ]
  },
  {
   "cell_type": "markdown",
   "metadata": {},
   "source": [
    "### Valid Words Only"
   ]
  },
  {
   "cell_type": "markdown",
   "metadata": {},
   "source": [
    "If we needed to, we could remove all words from a piece of text which are not spelled correctly or are not words by verifying if they occur in an english dictionary:\n",
    "\n",
    "*** The code below will take a few minutes to execute ***"
   ]
  },
  {
   "cell_type": "code",
   "execution_count": 89,
   "metadata": {},
   "outputs": [
    {
     "name": "stdout",
     "output_type": "stream",
     "text": [
      "1565\n"
     ]
    },
    {
     "data": {
      "text/plain": [
       "['Yanis',\n",
       " 'Varoufakis',\n",
       " 'once',\n",
       " 'bought',\n",
       " 'me',\n",
       " 'a',\n",
       " 'gin',\n",
       " 'and',\n",
       " 'tonic',\n",
       " 'His']"
      ]
     },
     "execution_count": 89,
     "metadata": {},
     "output_type": "execute_result"
    }
   ],
   "source": [
    "print len(tokenized_article)\n",
    "tokenized_article[:10]"
   ]
  },
  {
   "cell_type": "code",
   "execution_count": 92,
   "metadata": {
    "scrolled": true
   },
   "outputs": [
    {
     "name": "stdout",
     "output_type": "stream",
     "text": [
      "['once', 'bought', 'me', 'a', 'gin', 'and', 'tonic', 'His', 'wife', 'once', 'gave', 'me', 'a', 'cup', 'of', 'tea', 'While', 'my', 'as', 'finance', 'are', 'obliged', 'to', 'he', 'never', 'once', 'told', 'me', 'an', 'outright', 'lie', 'And', 'him', 'at', 'two', 'all', 'I', 'list', 'these', 'because', 'of', 'what', 'I', 'am', 'about', 'to', 'say', 'that', 'written', 'one', 'of', 'the', 'political', 'of', 'all', 'time', 'It', 'alongside', 'Alan', 'for', 'frankness', 'for', 'on', 'former', 'allies', 'and', 'as', 'a', 'manual', 'for', 'exploring', 'the', 'of', 'statecraft', 'will', 'probably', 'gain', 'the', 'same', 'stature', 'as', 'biography', 'of', 'B', 'Click', 'here', 'for', 'the', 'Yet', 'account', 'of', 'the', 'crisis', 'that', 'scarred', 'between', 'and', 'today', 'also', 'in']\n"
     ]
    }
   ],
   "source": [
    "valid_words = [word for word in tokenized_article if  word.lower() in nltk.corpus.words.words()]\n",
    "print valid_words[:100]"
   ]
  },
  {
   "cell_type": "markdown",
   "metadata": {},
   "source": [
    "We can from this, if we wish, create a vocabulary of the words used in a given text:"
   ]
  },
  {
   "cell_type": "code",
   "execution_count": 97,
   "metadata": {},
   "outputs": [],
   "source": [
    "valid_words_lower = [ word.lower() for word in valid_words]"
   ]
  },
  {
   "cell_type": "code",
   "execution_count": 98,
   "metadata": {
    "scrolled": true
   },
   "outputs": [
    {
     "data": {
      "text/plain": [
       "['once',\n",
       " 'bought',\n",
       " 'me',\n",
       " 'a',\n",
       " 'gin',\n",
       " 'and',\n",
       " 'tonic',\n",
       " 'his',\n",
       " 'wife',\n",
       " 'once',\n",
       " 'gave',\n",
       " 'me',\n",
       " 'a',\n",
       " 'cup',\n",
       " 'of',\n",
       " 'tea',\n",
       " 'while',\n",
       " 'my',\n",
       " 'as',\n",
       " 'finance',\n",
       " 'are',\n",
       " 'obliged',\n",
       " 'to',\n",
       " 'he',\n",
       " 'never',\n",
       " 'once',\n",
       " 'told',\n",
       " 'me',\n",
       " 'an',\n",
       " 'outright',\n",
       " 'lie',\n",
       " 'and',\n",
       " 'him',\n",
       " 'at',\n",
       " 'two',\n",
       " 'all',\n",
       " 'i',\n",
       " 'list',\n",
       " 'these',\n",
       " 'because',\n",
       " 'of',\n",
       " 'what',\n",
       " 'i',\n",
       " 'am',\n",
       " 'about',\n",
       " 'to',\n",
       " 'say',\n",
       " 'that',\n",
       " 'written',\n",
       " 'one',\n",
       " 'of',\n",
       " 'the',\n",
       " 'political',\n",
       " 'of',\n",
       " 'all',\n",
       " 'time',\n",
       " 'it',\n",
       " 'alongside',\n",
       " 'alan',\n",
       " 'for',\n",
       " 'frankness',\n",
       " 'for',\n",
       " 'on',\n",
       " 'former',\n",
       " 'allies',\n",
       " 'and',\n",
       " 'as',\n",
       " 'a',\n",
       " 'manual',\n",
       " 'for',\n",
       " 'exploring',\n",
       " 'the',\n",
       " 'of',\n",
       " 'statecraft',\n",
       " 'will',\n",
       " 'probably',\n",
       " 'gain',\n",
       " 'the',\n",
       " 'same',\n",
       " 'stature',\n",
       " 'as',\n",
       " 'biography',\n",
       " 'of',\n",
       " 'b',\n",
       " 'click',\n",
       " 'here',\n",
       " 'for',\n",
       " 'the',\n",
       " 'yet',\n",
       " 'account',\n",
       " 'of',\n",
       " 'the',\n",
       " 'crisis',\n",
       " 'that',\n",
       " 'scarred',\n",
       " 'between',\n",
       " 'and',\n",
       " 'today',\n",
       " 'also',\n",
       " 'in',\n",
       " 'a',\n",
       " 'category',\n",
       " 'of',\n",
       " 'its',\n",
       " 'own',\n",
       " 'it',\n",
       " 'is',\n",
       " 'the',\n",
       " 'inside',\n",
       " 'story',\n",
       " 'of',\n",
       " 'high',\n",
       " 'politics',\n",
       " 'told',\n",
       " 'by',\n",
       " 'an',\n",
       " 'outsider',\n",
       " 'on',\n",
       " 'the',\n",
       " 'outside',\n",
       " 'both',\n",
       " 'of',\n",
       " 'elite',\n",
       " 'politics',\n",
       " 'and',\n",
       " 'the',\n",
       " 'far',\n",
       " 'left',\n",
       " 'to',\n",
       " 'the',\n",
       " 'inside',\n",
       " 'and',\n",
       " 'then',\n",
       " 'abruptly',\n",
       " 'abandoned',\n",
       " 'it',\n",
       " 'after',\n",
       " 'he',\n",
       " 'was',\n",
       " 'sacked',\n",
       " 'by',\n",
       " 'his',\n",
       " 'former',\n",
       " 'ally',\n",
       " 'prime',\n",
       " 'minister',\n",
       " 'in',\n",
       " 'he',\n",
       " 'his',\n",
       " 'intent',\n",
       " 'throughout',\n",
       " 'the',\n",
       " 'crisis',\n",
       " 'with',\n",
       " 'a',\n",
       " 'telling',\n",
       " 'anecdote',\n",
       " 'in',\n",
       " 'for',\n",
       " 'a',\n",
       " 'meeting',\n",
       " 'with',\n",
       " 'larry',\n",
       " 'the',\n",
       " 'former',\n",
       " 'us',\n",
       " 'treasury',\n",
       " 'secretary',\n",
       " 'and',\n",
       " 'confidant',\n",
       " 'him',\n",
       " 'point',\n",
       " 'blank',\n",
       " 'do',\n",
       " 'you',\n",
       " 'want',\n",
       " 'to',\n",
       " 'be',\n",
       " 'on',\n",
       " 'the',\n",
       " 'inside',\n",
       " 'or',\n",
       " 'the',\n",
       " 'outside',\n",
       " 'their',\n",
       " 'freedom',\n",
       " 'to',\n",
       " 'speak',\n",
       " 'their',\n",
       " 'version',\n",
       " 'of',\n",
       " 'the',\n",
       " 'truth',\n",
       " 'the',\n",
       " 'price',\n",
       " 'is',\n",
       " 'that',\n",
       " 'they',\n",
       " 'are',\n",
       " 'by',\n",
       " 'the',\n",
       " 'who',\n",
       " 'make',\n",
       " 'the',\n",
       " 'important',\n",
       " 'have',\n",
       " 'little',\n",
       " 'power',\n",
       " 'wall',\n",
       " 'street',\n",
       " 'and',\n",
       " 'a',\n",
       " 'network',\n",
       " 'of',\n",
       " 'hedge',\n",
       " 'funds',\n",
       " 'and',\n",
       " 'media',\n",
       " 'have',\n",
       " 'the',\n",
       " 'real',\n",
       " 'power',\n",
       " 'and',\n",
       " 'the',\n",
       " 'art',\n",
       " 'of',\n",
       " 'being',\n",
       " 'in',\n",
       " 'politics',\n",
       " 'is',\n",
       " 'to',\n",
       " 'this',\n",
       " 'as',\n",
       " 'a',\n",
       " 'fact',\n",
       " 'of',\n",
       " 'life',\n",
       " 'and',\n",
       " 'achieve',\n",
       " 'what',\n",
       " 'you',\n",
       " 'can',\n",
       " 'without',\n",
       " 'the',\n",
       " 'system',\n",
       " 'that',\n",
       " 'was',\n",
       " 'the',\n",
       " 'offer',\n",
       " 'not',\n",
       " 'only',\n",
       " 'it',\n",
       " 'by',\n",
       " 'it',\n",
       " 'in',\n",
       " 'frank',\n",
       " 'detail',\n",
       " 'now',\n",
       " 'he',\n",
       " 'is',\n",
       " 'arming',\n",
       " 'us',\n",
       " 'against',\n",
       " 'the',\n",
       " 'stupidity',\n",
       " 'of',\n",
       " 'the',\n",
       " 'occasional',\n",
       " 'that',\n",
       " 'the',\n",
       " 'system',\n",
       " 'built',\n",
       " 'by',\n",
       " 'can',\n",
       " 'somehow',\n",
       " 'bend',\n",
       " 'or',\n",
       " 'compromise',\n",
       " 'to',\n",
       " 'our',\n",
       " 'desire',\n",
       " 'for',\n",
       " 'social',\n",
       " 'justice',\n",
       " 'in',\n",
       " 'this',\n",
       " 'book',\n",
       " 'then',\n",
       " 'one',\n",
       " 'of',\n",
       " 'the',\n",
       " 'most',\n",
       " 'accurate',\n",
       " 'and',\n",
       " 'detailed',\n",
       " 'of',\n",
       " 'modern',\n",
       " 'power',\n",
       " 'ever',\n",
       " 'written',\n",
       " 'an',\n",
       " 'achievement',\n",
       " 'that',\n",
       " 'his',\n",
       " 'desire',\n",
       " 'for',\n",
       " 'self',\n",
       " 'justification',\n",
       " 'during',\n",
       " 'the',\n",
       " 'crisis',\n",
       " 'he',\n",
       " 'with',\n",
       " 'a',\n",
       " 'weariness',\n",
       " 'born',\n",
       " 'of',\n",
       " 'nights',\n",
       " 'in',\n",
       " 'soulless',\n",
       " 'and',\n",
       " 'harsh',\n",
       " 'lit',\n",
       " 'briefing',\n",
       " 'how',\n",
       " 'the',\n",
       " 'modern',\n",
       " 'power',\n",
       " 'network',\n",
       " 'is',\n",
       " 'built',\n",
       " 'a',\n",
       " 'loan',\n",
       " 'from',\n",
       " 'bank',\n",
       " 'off',\n",
       " 'the',\n",
       " 'loan',\n",
       " 'but',\n",
       " 'construction',\n",
       " 'company',\n",
       " 'a',\n",
       " 'contract',\n",
       " 'from',\n",
       " 'ministry',\n",
       " 'son',\n",
       " 'a',\n",
       " 'job',\n",
       " 'at',\n",
       " 'station',\n",
       " 'which',\n",
       " 'for',\n",
       " 'some',\n",
       " 'reason',\n",
       " 'is',\n",
       " 'always',\n",
       " 'bankrupt',\n",
       " 'and',\n",
       " 'so',\n",
       " 'can',\n",
       " 'never',\n",
       " 'pay',\n",
       " 'tax',\n",
       " 'and',\n",
       " 'so',\n",
       " 'on',\n",
       " 'with',\n",
       " 'of',\n",
       " 'the',\n",
       " 'during',\n",
       " 'a',\n",
       " 'meeting',\n",
       " 'of',\n",
       " 'finance',\n",
       " 'in',\n",
       " 'june',\n",
       " 'photograph',\n",
       " 'the',\n",
       " 'key',\n",
       " 'to',\n",
       " 'such',\n",
       " 'power',\n",
       " 'is',\n",
       " 'exclusion',\n",
       " 'and',\n",
       " 'opacity',\n",
       " 'as',\n",
       " 'sensitive',\n",
       " 'information',\n",
       " 'is',\n",
       " 'two',\n",
       " 'person',\n",
       " 'forge',\n",
       " 'links',\n",
       " 'with',\n",
       " 'other',\n",
       " 'such',\n",
       " 'who',\n",
       " 'conspire',\n",
       " 'de',\n",
       " 'without',\n",
       " 'being',\n",
       " 'conscious',\n",
       " 'in',\n",
       " 'the',\n",
       " 'process',\n",
       " 'of',\n",
       " 'telling',\n",
       " 'this',\n",
       " 'story',\n",
       " 'not',\n",
       " 'only',\n",
       " 'the',\n",
       " 'but',\n",
       " 'of',\n",
       " 'the',\n",
       " 'kind',\n",
       " 'the',\n",
       " 'call',\n",
       " 'fat',\n",
       " 'full',\n",
       " 'of',\n",
       " 'juice',\n",
       " 'the',\n",
       " 'first',\n",
       " 'revelation',\n",
       " 'is',\n",
       " 'that',\n",
       " 'not',\n",
       " 'only',\n",
       " 'was',\n",
       " 'bankrupt',\n",
       " 'in',\n",
       " 'when',\n",
       " 'the',\n",
       " 'eu',\n",
       " 'it',\n",
       " 'out',\n",
       " 'and',\n",
       " 'that',\n",
       " 'the',\n",
       " 'was',\n",
       " 'designed',\n",
       " 'to',\n",
       " 'save',\n",
       " 'the',\n",
       " 'and',\n",
       " 'german',\n",
       " 'but',\n",
       " 'that',\n",
       " 'and',\n",
       " 'knew',\n",
       " 'this',\n",
       " 'and',\n",
       " 'they',\n",
       " 'knew',\n",
       " 'it',\n",
       " 'would',\n",
       " 'be',\n",
       " 'a',\n",
       " 'disaster',\n",
       " 'this',\n",
       " 'charge',\n",
       " 'is',\n",
       " 'not',\n",
       " 'new',\n",
       " 'it',\n",
       " 'was',\n",
       " 'at',\n",
       " 'the',\n",
       " 'financial',\n",
       " 'elite',\n",
       " 'at',\n",
       " 'the',\n",
       " 'time',\n",
       " 'by',\n",
       " 'and',\n",
       " 'but',\n",
       " 'it',\n",
       " 'with',\n",
       " 'some',\n",
       " 'from',\n",
       " 'the',\n",
       " 'of',\n",
       " 'and',\n",
       " 'phone',\n",
       " 'he',\n",
       " 'was',\n",
       " 'unbeknown',\n",
       " 'to',\n",
       " 'the',\n",
       " 'making',\n",
       " 'at',\n",
       " 'the',\n",
       " 'time',\n",
       " 'even',\n",
       " 'now',\n",
       " 'two',\n",
       " 'after',\n",
       " 'the',\n",
       " 'last',\n",
       " 'election',\n",
       " 'this',\n",
       " 'is',\n",
       " 'of',\n",
       " 'more',\n",
       " 'than',\n",
       " 'academic',\n",
       " 'interest',\n",
       " 'remains',\n",
       " 'by',\n",
       " 'of',\n",
       " 'of',\n",
       " 'debt',\n",
       " 'it',\n",
       " 'cannot',\n",
       " 'pay',\n",
       " 'because',\n",
       " 'of',\n",
       " 'the',\n",
       " 'taken',\n",
       " 'in',\n",
       " 'saving',\n",
       " 'private',\n",
       " 'by',\n",
       " 'saddling',\n",
       " 'north',\n",
       " 'with',\n",
       " 'massive',\n",
       " 'it',\n",
       " 'is',\n",
       " 'and',\n",
       " 'german',\n",
       " 'who',\n",
       " 'will',\n",
       " 'pay',\n",
       " 'the',\n",
       " 'price',\n",
       " 'when',\n",
       " 'the',\n",
       " 'debt',\n",
       " 'is',\n",
       " 'inevitably',\n",
       " 'written',\n",
       " 'off',\n",
       " 'the',\n",
       " 'second',\n",
       " 'revelation',\n",
       " 'is',\n",
       " 'that',\n",
       " 'close',\n",
       " 'of',\n",
       " 'family',\n",
       " 'were',\n",
       " 'with',\n",
       " 'violence',\n",
       " 'when',\n",
       " 'with',\n",
       " 'the',\n",
       " 'in',\n",
       " 'control',\n",
       " 'of',\n",
       " 'the',\n",
       " 'streets',\n",
       " 'and',\n",
       " 'he',\n",
       " 'to',\n",
       " 'line',\n",
       " 'up',\n",
       " 'with',\n",
       " 'those',\n",
       " 'the',\n",
       " 'initial',\n",
       " 'as',\n",
       " 'unworkable',\n",
       " 'it',\n",
       " 'was',\n",
       " 'in',\n",
       " 'response',\n",
       " 'to',\n",
       " 'these',\n",
       " 'via',\n",
       " 'an',\n",
       " 'anonymous',\n",
       " 'phone',\n",
       " 'call',\n",
       " 'with',\n",
       " 'oligarchic',\n",
       " 'calm',\n",
       " 'that',\n",
       " 'he',\n",
       " 'left',\n",
       " 'for',\n",
       " 'the',\n",
       " 'us',\n",
       " 'as',\n",
       " 'a',\n",
       " 'result',\n",
       " 'on',\n",
       " 'his',\n",
       " 'return',\n",
       " 'as',\n",
       " 'he',\n",
       " 'swung',\n",
       " 'towards',\n",
       " 'active',\n",
       " 'support',\n",
       " 'of',\n",
       " 'the',\n",
       " 'radical',\n",
       " 'left',\n",
       " 'party',\n",
       " 'experienced',\n",
       " 'the',\n",
       " 'unfolding',\n",
       " 'crisis',\n",
       " 'as',\n",
       " 'an',\n",
       " 'outsider',\n",
       " 'in',\n",
       " 'a',\n",
       " 'different',\n",
       " 'sense',\n",
       " 'when',\n",
       " 'to',\n",
       " 'speak',\n",
       " 'to',\n",
       " 'the',\n",
       " 'crowd',\n",
       " 'syntagma',\n",
       " 'square',\n",
       " 'in',\n",
       " 'may',\n",
       " 'june',\n",
       " 'he',\n",
       " 'the',\n",
       " 'last',\n",
       " 'time',\n",
       " 'i',\n",
       " 'a',\n",
       " 'demonstration',\n",
       " 'was',\n",
       " 'in',\n",
       " 'at',\n",
       " 'a',\n",
       " 'picket',\n",
       " 'line',\n",
       " 'during',\n",
       " 'the',\n",
       " 'strike',\n",
       " 'he',\n",
       " 'was',\n",
       " 'about',\n",
       " 'to',\n",
       " 'join',\n",
       " 'a',\n",
       " 'cadre',\n",
       " 'of',\n",
       " 'political',\n",
       " 'headed',\n",
       " 'by',\n",
       " 'flanked',\n",
       " 'by',\n",
       " 'his',\n",
       " 'educated',\n",
       " 'chief',\n",
       " 'of',\n",
       " 'staff',\n",
       " 'in',\n",
       " 'a',\n",
       " 'fight',\n",
       " 'to',\n",
       " 'the',\n",
       " 'finish',\n",
       " 'with',\n",
       " 'but',\n",
       " 'he',\n",
       " 'had',\n",
       " 'scant',\n",
       " 'experience',\n",
       " 'of',\n",
       " 'the',\n",
       " 'left',\n",
       " 'and',\n",
       " 'was',\n",
       " 'by',\n",
       " 'many',\n",
       " 'among',\n",
       " 'them',\n",
       " 'as',\n",
       " 'a',\n",
       " 'himself',\n",
       " 'academic',\n",
       " 'had',\n",
       " 'been',\n",
       " 'in',\n",
       " 'the',\n",
       " 'application',\n",
       " 'of',\n",
       " 'game',\n",
       " 'theory',\n",
       " 'to',\n",
       " 'economics',\n",
       " 'so',\n",
       " 'when',\n",
       " 'he',\n",
       " 'designed',\n",
       " 'confrontation',\n",
       " 'strategy',\n",
       " 'he',\n",
       " 'was',\n",
       " 'explicit',\n",
       " 'the',\n",
       " 'enemy',\n",
       " 'had',\n",
       " 'to',\n",
       " 'believe',\n",
       " 'was',\n",
       " 'prepared',\n",
       " 'to',\n",
       " 'default',\n",
       " 'or',\n",
       " 'cut',\n",
       " 'loose',\n",
       " 'from',\n",
       " 'the',\n",
       " 'system',\n",
       " 'enough',\n",
       " 'to',\n",
       " 'persuade',\n",
       " 'the',\n",
       " 'eu',\n",
       " 'to',\n",
       " 'roll',\n",
       " 'over',\n",
       " 'that',\n",
       " 'were',\n",
       " 'coming',\n",
       " 'due',\n",
       " 'and',\n",
       " 'to',\n",
       " 'deter',\n",
       " 'them',\n",
       " 'from',\n",
       " 'the',\n",
       " 'collapse',\n",
       " 'of',\n",
       " 'the',\n",
       " 'banking',\n",
       " 'system',\n",
       " 'this',\n",
       " 'worked',\n",
       " 'although',\n",
       " 'at',\n",
       " 'the',\n",
       " 'price',\n",
       " 'of',\n",
       " 'a',\n",
       " 'big',\n",
       " 'rhetorical',\n",
       " 'and',\n",
       " 'retreat',\n",
       " 'on',\n",
       " 'domestic',\n",
       " 'in',\n",
       " 'it',\n",
       " 'in',\n",
       " 'because',\n",
       " 'fought',\n",
       " 'and',\n",
       " 'won',\n",
       " 'an',\n",
       " 'emotional',\n",
       " 'referendum',\n",
       " 'campaign',\n",
       " 'chose',\n",
       " 'compromise',\n",
       " 'over',\n",
       " 'the',\n",
       " 'prospect',\n",
       " 'of',\n",
       " 'a',\n",
       " 'rerun',\n",
       " 'of',\n",
       " 'the',\n",
       " 'civil',\n",
       " 'war',\n",
       " 'i',\n",
       " 'on',\n",
       " 'the',\n",
       " 'night',\n",
       " 'of',\n",
       " 'that',\n",
       " 'referendum',\n",
       " 'victory',\n",
       " 'he',\n",
       " 'by',\n",
       " 'its',\n",
       " 'size',\n",
       " 'he',\n",
       " 'in',\n",
       " 'the',\n",
       " 'book',\n",
       " 'he',\n",
       " 'to',\n",
       " 'lose',\n",
       " 'and',\n",
       " 'certain',\n",
       " 'that',\n",
       " 'it',\n",
       " 'would',\n",
       " 'hand',\n",
       " 'the',\n",
       " 'ammunition',\n",
       " 'to',\n",
       " 'face',\n",
       " 'down',\n",
       " 'the',\n",
       " 'so',\n",
       " 'troika',\n",
       " 'of',\n",
       " 'it',\n",
       " 'is',\n",
       " 'now',\n",
       " 'clear',\n",
       " 'however',\n",
       " 'that',\n",
       " 'both',\n",
       " 'men',\n",
       " 'understood',\n",
       " 'on',\n",
       " 'the',\n",
       " 'authority',\n",
       " 'of',\n",
       " 'the',\n",
       " 'german',\n",
       " 'finance',\n",
       " 'minister',\n",
       " 'that',\n",
       " 'would',\n",
       " 'not',\n",
       " 'try',\n",
       " 'to',\n",
       " 'force',\n",
       " 'out',\n",
       " 'of',\n",
       " 'the',\n",
       " 'by',\n",
       " 'the',\n",
       " 'time',\n",
       " 'it',\n",
       " 'did',\n",
       " 'exactly',\n",
       " 'this',\n",
       " 'two',\n",
       " 'of',\n",
       " 'closed',\n",
       " 'and',\n",
       " 'growth',\n",
       " 'had',\n",
       " 'made',\n",
       " 'the',\n",
       " 'of',\n",
       " 'the',\n",
       " 'game',\n",
       " 'all',\n",
       " 'or',\n",
       " 'nothing',\n",
       " 'one',\n",
       " 'of',\n",
       " 'the',\n",
       " 'most',\n",
       " 'accurate',\n",
       " 'and',\n",
       " 'detailed',\n",
       " 'of',\n",
       " 'modern',\n",
       " 'power',\n",
       " 'ever',\n",
       " 'written',\n",
       " 'getting',\n",
       " 'sacked',\n",
       " 'left',\n",
       " 'with',\n",
       " 'a',\n",
       " 'clean',\n",
       " 'skin',\n",
       " 'although',\n",
       " 'the',\n",
       " 'price',\n",
       " 'been',\n",
       " 'self',\n",
       " 'exile',\n",
       " 'once',\n",
       " 'again',\n",
       " 'from',\n",
       " 'active',\n",
       " 'politics',\n",
       " 'in',\n",
       " 'if',\n",
       " 'as',\n",
       " 'is',\n",
       " 'possible',\n",
       " 'the',\n",
       " 'situation',\n",
       " 'towards',\n",
       " 'economic',\n",
       " 'doom',\n",
       " 'his',\n",
       " 'voice',\n",
       " 'together',\n",
       " 'with',\n",
       " 'those',\n",
       " 'of',\n",
       " 'veteran',\n",
       " 'anti',\n",
       " 'who',\n",
       " 'split',\n",
       " 'from',\n",
       " 'may',\n",
       " 'be',\n",
       " 'all',\n",
       " 'that',\n",
       " 'remains',\n",
       " 'to',\n",
       " 'rally',\n",
       " 'the',\n",
       " 'left',\n",
       " 'for',\n",
       " 'a',\n",
       " 'last',\n",
       " 'ditch',\n",
       " 'fight',\n",
       " 'against',\n",
       " 'fascism',\n",
       " 'and',\n",
       " 'dictatorship',\n",
       " 'but',\n",
       " 'i',\n",
       " 'continue',\n",
       " 'to',\n",
       " 'believe',\n",
       " 'was',\n",
       " 'right',\n",
       " 'to',\n",
       " 'climb',\n",
       " 'down',\n",
       " 'in',\n",
       " 'the',\n",
       " 'face',\n",
       " 'of',\n",
       " 'the',\n",
       " 'ultimatum',\n",
       " 'and',\n",
       " 'that',\n",
       " 'was',\n",
       " 'at',\n",
       " 'fault',\n",
       " 'for',\n",
       " 'the',\n",
       " 'way',\n",
       " 'he',\n",
       " 'designed',\n",
       " 'the',\n",
       " 'game',\n",
       " 'strategy',\n",
       " 'for',\n",
       " 'and',\n",
       " 'for',\n",
       " 'the',\n",
       " 'older',\n",
       " 'generation',\n",
       " 'of',\n",
       " 'former',\n",
       " 'and',\n",
       " 'torture',\n",
       " 'who',\n",
       " 'rebuilt',\n",
       " 'the',\n",
       " 'left',\n",
       " 'after',\n",
       " 'in',\n",
       " 'power',\n",
       " 'as',\n",
       " 'a',\n",
       " 'shield',\n",
       " 'against',\n",
       " 'austerity',\n",
       " 'was',\n",
       " 'preferable',\n",
       " 'to',\n",
       " 'power',\n",
       " 'back',\n",
       " 'to',\n",
       " 'a',\n",
       " 'bunch',\n",
       " 'of',\n",
       " 'political',\n",
       " 'backed',\n",
       " 'by',\n",
       " ...]"
      ]
     },
     "execution_count": 98,
     "metadata": {},
     "output_type": "execute_result"
    }
   ],
   "source": [
    "valid_words_lower"
   ]
  },
  {
   "cell_type": "markdown",
   "metadata": {},
   "source": [
    "\n",
    "\n",
    "**Exercise:** Your task now is to remove both all non-English words as well as the stopwords from the article in the previous exercises, and plot the frequency of those words."
   ]
  },
  {
   "cell_type": "code",
   "execution_count": 99,
   "metadata": {},
   "outputs": [
    {
     "name": "stdout",
     "output_type": "stream",
     "text": [
      "['niversity', 'tuition', 'fees', 'are', 'back', 'in', 'the', 'spotlight', 'Labours', 'manifesto', 'pledge', 'to', 'abolish', 'fees', 'saw', 'a', 're', 'energised', 'student', 'constituency', 'help', 'put', 'paid', 'to', 'expectations', 'of', 'a', 'Conservative', 'majority', 'Now', 'Conservative', 'political', 'leaders', 'are', 'scrambling', 'to', 'respond', 'to', 'the', 'issue', 'The', 'overwhelming', 'impression', 'we', 'are', 'left', 'with', 'is', 'that', 'the', 'current', 'system', 'has', 'lost', 'credibility', 'It', 'must', 'be', 'swept', 'away', 'and', 'replaced', 'with', 'one', 'that', 'is', 'both', 'fair', 'and', 'financially', 'sustainable', 'Students', 'and', 'their', 'parents', 'feel', 'they', 'have', 'been', 'unfairly', 'treated', 'by', 'paying', 'the', 'bulk', 'of', 'their', 'higher', 'education', 'costs', 'themselves', 'they', 'are', 'right', 'Under', 'the', '2017', 'system', 'the', 'average']\n"
     ]
    },
    {
     "data": {
      "image/png": "[encoded data removed]",
      "text/plain": [
       "<Figure size 1296x432 with 1 Axes>"
      ]
     },
     "metadata": {},
     "output_type": "display_data"
    }
   ],
   "source": [
    "print my_tokenized_article[:100]\n",
    "no_stops_text = nltk.Text([word for word in my_tokenized_article if word.lower() not in stopwords])\n",
    "no_stops_text[:30]\n",
    "\n",
    "%matplotlib inline\n",
    "f = plt.figure( figsize=(18, 6))\n",
    "plt.xlabel('Words', size=75)\n",
    "plt.ylabel('Counts', size=75)\n",
    "plt.xticks(size=70)\n",
    "plt.title('Sorted histogram of word frequencies', size=50)\n",
    "rcParams['xtick.labelsize'] = 40\n",
    "rcParams['ytick.labelsize'] = 30\n",
    "no_stops_text.plot(30)\n",
    "ax = f.get_axes()\n"
   ]
  },
  {
   "cell_type": "markdown",
   "metadata": {},
   "source": [
    "### WordClouds"
   ]
  },
  {
   "cell_type": "markdown",
   "metadata": {},
   "source": [
    "WordClouds are very good at showing visually what the most common words are in the text. However, they are usually not able to preserve the semantic meaning of the words in a visualisation.\n",
    "\n",
    "There is interesting scientific research being done into semantic-wordclounds which not only encode and convery word frequencies, but also group and visualise commonly ocurring words together. (http://wordcloud.cs.arizona.edu/faq.html)"
   ]
  },
  {
   "cell_type": "code",
   "execution_count": null,
   "metadata": {},
   "outputs": [],
   "source": [
    "!pip install wordcloud"
   ]
  },
  {
   "cell_type": "code",
   "execution_count": 81,
   "metadata": {},
   "outputs": [],
   "source": [
    "import random \n",
    "import wordcloud\n",
    "#wordcloud = reload(wordcloud)\n",
    "from wordcloud import WordCloud, STOPWORDS"
   ]
  },
  {
   "cell_type": "code",
   "execution_count": 82,
   "metadata": {},
   "outputs": [],
   "source": [
    "def grey_color_func(word, font_size, position, orientation, random_state=None, **kwargs):\n",
    "    return \"hsl(0, 0%%, %d%%)\" % random.randint(1, 20)"
   ]
  },
  {
   "cell_type": "code",
   "execution_count": 83,
   "metadata": {},
   "outputs": [
    {
     "data": {
      "image/png": "[encoded data removed]",
      "text/plain": [
       "<Figure size 720x1440 with 1 Axes>"
      ]
     },
     "metadata": {},
     "output_type": "display_data"
    }
   ],
   "source": [
    "stp = STOPWORDS.copy()\n",
    "#STOPWORDS.add( \"code\")\n",
    "wc = WordCloud(background_color=\"white\", max_words=50,  stopwords=stp)\n",
    "# generate word cloud\n",
    "wc.generate(cleaned_article)\n",
    "\n",
    "# show\n",
    "plt.figure(figsize=(10,20))\n",
    "plt.imshow(wc.recolor(color_func=grey_color_func, random_state=3))\n",
    "plt.axis(\"off\")\n",
    "plt.show()"
   ]
  },
  {
   "cell_type": "markdown",
   "metadata": {},
   "source": [
    "\n",
    "\n",
    "**Exercise:** generate a wordcloud for the article in the previous exercises that you have extracted and cleaned."
   ]
  },
  {
   "cell_type": "code",
   "execution_count": null,
   "metadata": {},
   "outputs": [],
   "source": []
  },
  {
   "cell_type": "markdown",
   "metadata": {},
   "source": [
    "# Text Normalisation\n"
   ]
  },
  {
   "cell_type": "markdown",
   "metadata": {},
   "source": [
    "Text normalization reduce a word to its base or stem form so that text analysis can be more accurate and meaningful by considering words that differ slightly as being same. There are two startegies for this: stemming and lemmatization."
   ]
  },
  {
   "cell_type": "markdown",
   "metadata": {},
   "source": [
    "### Stemming"
   ]
  },
  {
   "cell_type": "markdown",
   "metadata": {},
   "source": [
    "Stemming is the simplest and computationally least expensive strategy which essentially chops off the ending of words in order to arrive at a normalized form."
   ]
  },
  {
   "cell_type": "code",
   "execution_count": 93,
   "metadata": {},
   "outputs": [
    {
     "data": {
      "text/plain": [
       "['women', 'run', u'run', u'run', 'ran']"
      ]
     },
     "execution_count": 93,
     "metadata": {},
     "output_type": "execute_result"
    }
   ],
   "source": [
    "from nltk.stem import PorterStemmer\n",
    "porter_stemmer = PorterStemmer()\n",
    "\n",
    "text = tokenizer.tokenize('women run running runs ran')\n",
    "[ porter_stemmer.stem(word) for word in text]"
   ]
  },
  {
   "cell_type": "code",
   "execution_count": 94,
   "metadata": {},
   "outputs": [],
   "source": [
    "from nltk.stem.snowball import SnowballStemmer\n",
    "snowball_stemmer = SnowballStemmer('english')"
   ]
  },
  {
   "cell_type": "code",
   "execution_count": 95,
   "metadata": {},
   "outputs": [
    {
     "name": "stdout",
     "output_type": "stream",
     "text": [
      "charg\n",
      "charg\n",
      "charg\n",
      "charg\n"
     ]
    }
   ],
   "source": [
    "# example stemming\n",
    "print snowball_stemmer.stem('charge')\n",
    "print snowball_stemmer.stem('charging')\n",
    "print snowball_stemmer.stem('charged')\n",
    "print snowball_stemmer.stem('charges')"
   ]
  },
  {
   "cell_type": "code",
   "execution_count": 96,
   "metadata": {
    "scrolled": true
   },
   "outputs": [
    {
     "data": {
      "text/plain": [
       "[u'yani',\n",
       " u'varoufaki',\n",
       " u'onc',\n",
       " u'bought',\n",
       " 'me',\n",
       " 'a',\n",
       " u'gin',\n",
       " u'and',\n",
       " u'tonic',\n",
       " u'his',\n",
       " u'wife',\n",
       " u'onc',\n",
       " u'gave',\n",
       " 'me',\n",
       " 'a',\n",
       " u'cup',\n",
       " 'of',\n",
       " u'tea',\n",
       " u'while',\n",
       " u'dodg',\n",
       " 'my',\n",
       " u'question',\n",
       " 'as',\n",
       " u'financ',\n",
       " u'minist']"
      ]
     },
     "execution_count": 96,
     "metadata": {},
     "output_type": "execute_result"
    }
   ],
   "source": [
    "# stem the tokens\n",
    "clean_tokens = tokenizer.tokenize(cleaned_article) \n",
    "stemmed_tokens = [snowball_stemmer.stem(t) for t in clean_tokens]\n",
    "stemmed_tokens[:25]"
   ]
  },
  {
   "cell_type": "markdown",
   "metadata": {},
   "source": [
    "### Lemmatization"
   ]
  },
  {
   "cell_type": "markdown",
   "metadata": {},
   "source": [
    "Lemmatization is much more powerful since it employs a dictionary. Lemmatization employs a broader scope of fuzzy word matching."
   ]
  },
  {
   "cell_type": "code",
   "execution_count": 100,
   "metadata": {},
   "outputs": [
    {
     "name": "stdout",
     "output_type": "stream",
     "text": [
      "dog\n",
      "dog\n",
      "wolv\n",
      "wolf\n",
      "automobil\n",
      "automobile\n"
     ]
    }
   ],
   "source": [
    "lemmatizer = nltk.WordNetLemmatizer()\n",
    "\n",
    "# compare stemmer to lemmatizer\n",
    "print porter_stemmer.stem('dogs')\n",
    "print lemmatizer.lemmatize('dogs')\n",
    "\n",
    "print porter_stemmer.stem('wolves') # Beter for information retrieval and search\n",
    "print lemmatizer.lemmatize('wolves') # Better for text analysis\n",
    "\n",
    "# compare stemmer to lemmatizer\n",
    "print porter_stemmer.stem('automobiles')\n",
    "print lemmatizer.lemmatize('automobiles')"
   ]
  },
  {
   "cell_type": "markdown",
   "metadata": {},
   "source": [
    "WorldNet Lemmatizer accepts the word if it is in the dictionary: "
   ]
  },
  {
   "cell_type": "code",
   "execution_count": 101,
   "metadata": {
    "scrolled": true
   },
   "outputs": [
    {
     "data": {
      "text/plain": [
       "['Yanis',\n",
       " 'Varoufakis',\n",
       " 'once',\n",
       " 'bought',\n",
       " 'me',\n",
       " 'a',\n",
       " 'gin',\n",
       " 'and',\n",
       " 'tonic',\n",
       " 'His',\n",
       " 'wife',\n",
       " 'once',\n",
       " 'gave',\n",
       " 'me',\n",
       " 'a',\n",
       " 'cup',\n",
       " 'of',\n",
       " 'tea',\n",
       " 'While',\n",
       " 'dodging',\n",
       " 'my',\n",
       " u'question',\n",
       " u'a',\n",
       " 'finance',\n",
       " u'minister',\n",
       " 'are',\n",
       " 'obliged',\n",
       " 'to',\n",
       " 'he',\n",
       " 'never',\n",
       " 'once',\n",
       " 'told',\n",
       " 'me',\n",
       " 'an',\n",
       " 'outright']"
      ]
     },
     "execution_count": 101,
     "metadata": {},
     "output_type": "execute_result"
    }
   ],
   "source": [
    "lemmatizer_tokens = [lemmatizer.lemmatize(t) for t in clean_tokens]\n",
    "lemmatizer_tokens[:35]"
   ]
  },
  {
   "cell_type": "markdown",
   "metadata": {},
   "source": [
    "**Exercise:** Lemmatize all the words from the article in the previous exercises that you have extracted and cleaned."
   ]
  },
  {
   "cell_type": "code",
   "execution_count": 106,
   "metadata": {},
   "outputs": [
    {
     "data": {
      "text/plain": [
       "'niversity tuition fees are back in '"
      ]
     },
     "execution_count": 106,
     "metadata": {},
     "output_type": "execute_result"
    }
   ],
   "source": [
    "my_cleaned_article[:35]"
   ]
  },
  {
   "cell_type": "code",
   "execution_count": 107,
   "metadata": {},
   "outputs": [
    {
     "data": {
      "text/plain": [
       "['niversity',\n",
       " 'tuition',\n",
       " u'fee',\n",
       " 'are',\n",
       " 'back',\n",
       " 'in',\n",
       " 'the',\n",
       " 'spotlight',\n",
       " 'Labours',\n",
       " 'manifesto']"
      ]
     },
     "execution_count": 107,
     "metadata": {},
     "output_type": "execute_result"
    }
   ],
   "source": [
    "my_clean_tokens = tokenizer.tokenize(my_cleaned_article)\n",
    "my_lemmatizer_tokens = [lemmatizer.lemmatize(t) for t in my_clean_tokens]\n",
    "my_lemmatizer_tokens[:10]"
   ]
  },
  {
   "cell_type": "markdown",
   "metadata": {},
   "source": [
    "# Text Semantic Analysis "
   ]
  },
  {
   "cell_type": "markdown",
   "metadata": {},
   "source": [
    "The usual NLP pipeline involved in semantic analysis of text consists of the following steps depending on the domain and purpose of analysis: \n",
    "\n",
    "1. End of Sentence (EOS) Detection, then\n",
    "2. Tokenization, then\n",
    "3. Part-of-Speech (POS) Tagging, then\n",
    "4. Chunking, then\n",
    "5. Information Extraction"
   ]
  },
  {
   "cell_type": "markdown",
   "metadata": {},
   "source": [
    "http://googleresearch.blogspot.co.nz/2016/05/announcing-syntaxnet-worlds-most.html"
   ]
  },
  {
   "cell_type": "markdown",
   "metadata": {},
   "source": [
    "We have seen what tokenization and normalization are and how they are used at the most basic level of text processing. In order to make meaning of text though, words must be organised into sentences and then words in sentences must be identified according to their types.\n",
    "\n",
    "The (EOS) Detection part looks at a text and first attempts to segment it based on sentences. It looks for beginning and the end of each sentence in order to give text structure."
   ]
  },
  {
   "cell_type": "code",
   "execution_count": 108,
   "metadata": {},
   "outputs": [
    {
     "data": {
      "text/plain": [
       "['Dr. Sheldon Cooper can be very abraisive to others with what he says.',\n",
       " 'Dr. Sheldon Cooper is sometimes not much liked, but is very amusing.']"
      ]
     },
     "execution_count": 108,
     "metadata": {},
     "output_type": "execute_result"
    }
   ],
   "source": [
    "text = 'Dr. Sheldon Cooper can be very abraisive to others with what he says. Dr. Sheldon Cooper is sometimes not much liked, but is very amusing.'\n",
    "sentences = nltk.tokenize.sent_tokenize(text)\n",
    "sentences"
   ]
  },
  {
   "cell_type": "markdown",
   "metadata": {},
   "source": [
    "Following the EOS segmentation, the individual sentences are then tokenized as we have seen before."
   ]
  },
  {
   "cell_type": "code",
   "execution_count": 109,
   "metadata": {
    "scrolled": true
   },
   "outputs": [
    {
     "data": {
      "text/plain": [
       "[['Dr',\n",
       "  'Sheldon',\n",
       "  'Cooper',\n",
       "  'can',\n",
       "  'be',\n",
       "  'very',\n",
       "  'abraisive',\n",
       "  'to',\n",
       "  'others',\n",
       "  'with',\n",
       "  'what',\n",
       "  'he',\n",
       "  'says'],\n",
       " ['Dr',\n",
       "  'Sheldon',\n",
       "  'Cooper',\n",
       "  'is',\n",
       "  'sometimes',\n",
       "  'not',\n",
       "  'much',\n",
       "  'liked',\n",
       "  'but',\n",
       "  'is',\n",
       "  'very',\n",
       "  'amusing']]"
      ]
     },
     "execution_count": 109,
     "metadata": {},
     "output_type": "execute_result"
    }
   ],
   "source": [
    "tokens = [tokenizer.tokenize(sentence) for sentence in sentences] \n",
    "tokens"
   ]
  },
  {
   "cell_type": "markdown",
   "metadata": {},
   "source": [
    "POS tagging is very important for semantic analysis. \n",
    "\n",
    "Each word/token is decorated with a part of the speech or linguistic construct it belongs to. \n",
    "\n",
    "This can later be used for deriving meaning from a text and for example, for applying machine learning. "
   ]
  },
  {
   "cell_type": "raw",
   "metadata": {},
   "source": [
    "Number  Tag    Description\n",
    "1.  \tCC  \tCoordinating conjunction\n",
    "2.  \tCD  \tCardinal number\n",
    "3. \t    DT  \tDeterminer\n",
    "4.  \tEX  \tExistential there\n",
    "5.  \tFW  \tForeign word\n",
    "6.  \tIN  \tPreposition or subordinating conjunction\n",
    "7.  \tJJ  \tAdjective\n",
    "8.  \tJJR \tAdjective, comparative\n",
    "9.  \tJJS \tAdjective, superlative\n",
    "10. \tLS  \tList item marker\n",
    "11. \tMD  \tModal\n",
    "12. \tNN  \tNoun, singular or mass\n",
    "13. \tNNS \tNoun, plural\n",
    "14. \tNNP \tProper noun, singular\n",
    "15. \tNNPS \tProper noun, plural\n",
    "16. \tPDT \tPredeterminer\n",
    "17. \tPOS \tPossessive ending\n",
    "18. \tPRP \tPersonal pronoun\n",
    "19. \tPRP$ \tPossessive pronoun\n",
    "20. \tRB  \tAdverb\n",
    "21. \tRBR \tAdverb, comparative\n",
    "22. \tRBS \tAdverb, superlative\n",
    "23. \tRP  \tParticle\n",
    "24. \tSYM \tSymbol\n",
    "25. \tTO  \tto\n",
    "26. \tUH  \tInterjection\n",
    "27. \tVB  \tVerb, base form\n",
    "28. \tVBD \tVerb, past tense\n",
    "29. \tVBG \tVerb, gerund or present participle\n",
    "30. \tVBN \tVerb, past participle\n",
    "31. \tVBP \tVerb, non-3rd person singular present\n",
    "32. \tVBZ \tVerb, 3rd person singular present\n",
    "33. \tWDT \tWh-determiner\n",
    "34. \tWP  \tWh-pronoun\n",
    "35. \tWP$ \tPossessive wh-pronoun\n",
    "36. \tWRB \tWh-adverb \n",
    "\n",
    "Source: http://www.ling.upenn.edu/courses/Fall_2003/ling001/penn_treebank_pos.html"
   ]
  },
  {
   "cell_type": "code",
   "execution_count": 110,
   "metadata": {
    "scrolled": true
   },
   "outputs": [
    {
     "data": {
      "text/plain": [
       "[[('Dr', 'NNP'),\n",
       "  ('Sheldon', 'NNP'),\n",
       "  ('Cooper', 'NNP'),\n",
       "  ('can', 'MD'),\n",
       "  ('be', 'VB'),\n",
       "  ('very', 'RB'),\n",
       "  ('abraisive', 'JJ'),\n",
       "  ('to', 'TO'),\n",
       "  ('others', 'NNS'),\n",
       "  ('with', 'IN'),\n",
       "  ('what', 'WP'),\n",
       "  ('he', 'PRP'),\n",
       "  ('says', 'VBZ')],\n",
       " [('Dr', 'NNP'),\n",
       "  ('Sheldon', 'NNP'),\n",
       "  ('Cooper', 'NNP'),\n",
       "  ('is', 'VBZ'),\n",
       "  ('sometimes', 'RB'),\n",
       "  ('not', 'RB'),\n",
       "  ('much', 'JJ'),\n",
       "  ('liked', 'VBN'),\n",
       "  ('but', 'CC'),\n",
       "  ('is', 'VBZ'),\n",
       "  ('very', 'RB'),\n",
       "  ('amusing', 'JJ')]]"
      ]
     },
     "execution_count": 110,
     "metadata": {},
     "output_type": "execute_result"
    }
   ],
   "source": [
    "pos_tagged_tokens = [nltk.pos_tag(token) for token in tokens] \n",
    "pos_tagged_tokens"
   ]
  },
  {
   "cell_type": "markdown",
   "metadata": {},
   "source": [
    "Chunk extraction is a useful step towards achieving information extraction. It generates a parse tree from unstructured text. Given a parse tree of a sentence,  more specific information extraction like named entity recognition and relation extraction can be accomplished as a final step."
   ]
  },
  {
   "cell_type": "code",
   "execution_count": 111,
   "metadata": {},
   "outputs": [
    {
     "data": {
      "text/plain": [
       "[Tree('S', [('Dr', 'NNP'), ('Sheldon', 'NNP'), ('Cooper', 'NNP'), ('can', 'MD'), ('be', 'VB'), ('very', 'RB'), ('abraisive', 'JJ'), ('to', 'TO'), ('others', 'NNS'), ('with', 'IN'), ('what', 'WP'), ('he', 'PRP'), ('says', 'VBZ')]),\n",
       " Tree('S', [('Dr', 'NNP'), ('Sheldon', 'NNP'), ('Cooper', 'NNP'), ('is', 'VBZ'), ('sometimes', 'RB'), ('not', 'RB'), ('much', 'JJ'), ('liked', 'VBN'), ('but', 'CC'), ('is', 'VBZ'), ('very', 'RB'), ('amusing', 'JJ')])]"
      ]
     },
     "execution_count": 111,
     "metadata": {},
     "output_type": "execute_result"
    }
   ],
   "source": [
    "pos_tagged_chunks = [nltk.ne_chunk(chunk) for chunk in pos_tagged_tokens] \n",
    "pos_tagged_chunks"
   ]
  },
  {
   "cell_type": "markdown",
   "metadata": {},
   "source": [
    "The chunks can  be visually portrayed:"
   ]
  },
  {
   "cell_type": "code",
   "execution_count": 112,
   "metadata": {},
   "outputs": [
    {
     "name": "stdout",
     "output_type": "stream",
     "text": [
      "(S\n",
      "  Dr/NNP\n",
      "  Sheldon/NNP\n",
      "  Cooper/NNP\n",
      "  can/MD\n",
      "  be/VB\n",
      "  very/RB\n",
      "  abraisive/JJ\n",
      "  to/TO\n",
      "  others/NNS\n",
      "  with/IN\n",
      "  what/WP\n",
      "  he/PRP\n",
      "  says/VBZ)\n"
     ]
    }
   ],
   "source": [
    "pos_tagged_chunks[0].pprint()"
   ]
  },
  {
   "cell_type": "code",
   "execution_count": 113,
   "metadata": {},
   "outputs": [],
   "source": [
    "pos_tagged_chunks[0].draw()"
   ]
  },
  {
   "cell_type": "markdown",
   "metadata": {},
   "source": [
    "Information Extraction involves analyzing each chunk and associating it with an additional tag. Information Extraction standardly consists of three subtasks: Named Entity Recognition, Relation Extraction and Template Filling.\n"
   ]
  },
  {
   "cell_type": "markdown",
   "metadata": {},
   "source": [
    "# Text Sentiment Analysis "
   ]
  },
  {
   "cell_type": "markdown",
   "metadata": {},
   "source": [
    "### TextBlob - Simplified NLP"
   ]
  },
  {
   "cell_type": "markdown",
   "metadata": {},
   "source": [
    "\n",
    "> TextBlob is a Python (2 and 3) library for processing textual data. It provides a simple API for diving into common natural language processing (NLP) tasks such as part-of-speech tagging, noun phrase extraction, sentiment analysis, classification, translation, and more.\n",
    "\n",
    "TextBlob stands on the giant shoulders of NLTK and pattern, and plays nicely with both.\n",
    "\n",
    "Features:\n",
    "\n",
    "    Noun phrase extraction\n",
    "    Part-of-speech tagging\n",
    "    Sentiment analysis\n",
    "    Classification (Naive Bayes, Decision Tree)\n",
    "    Language translation and detection powered by Google Translate\n",
    "    Tokenization (splitting text into words and sentences)\n",
    "    Word and phrase frequencies\n",
    "    Parsing\n",
    "    n-grams\n",
    "    Word inflection (pluralization and singularization) and lemmatization\n",
    "    Spelling correction\n",
    "    Add new models or languages through extensions\n",
    "    WordNet integration\n",
    "\n",
    "\n",
    "Source: https://textblob.readthedocs.org/en/dev/"
   ]
  },
  {
   "cell_type": "code",
   "execution_count": null,
   "metadata": {},
   "outputs": [],
   "source": [
    "!pip install TextBlob"
   ]
  },
  {
   "cell_type": "code",
   "execution_count": 114,
   "metadata": {},
   "outputs": [
    {
     "data": {
      "text/plain": [
       "WordList(['Tom', 'and', 'Jerry', 'are', 'Computer', 'Science', 'students', 'at', 'Massey', 'University', 'in', 'Auckland'])"
      ]
     },
     "execution_count": 114,
     "metadata": {},
     "output_type": "execute_result"
    }
   ],
   "source": [
    "from textblob import TextBlob, Word\n",
    "\n",
    "# identify words\n",
    "blob = TextBlob('Tom and Jerry are Computer Science students at Massey University in Auckland')\n",
    "blob.words#a function that we can call on Word\n"
   ]
  },
  {
   "cell_type": "code",
   "execution_count": 115,
   "metadata": {},
   "outputs": [
    {
     "data": {
      "text/plain": [
       "WordList(['tom', 'jerry', 'computer', u'science students', 'massey', 'auckland'])"
      ]
     },
     "execution_count": 115,
     "metadata": {},
     "output_type": "execute_result"
    }
   ],
   "source": [
    "# identify noun phrases\n",
    "blob.noun_phrases"
   ]
  },
  {
   "cell_type": "code",
   "execution_count": 116,
   "metadata": {},
   "outputs": [
    {
     "name": "stdout",
     "output_type": "stream",
     "text": [
      "['I', 'see', 'many', 'tree']\n",
      "['we', 'sees', 'manies', 'treess']\n"
     ]
    }
   ],
   "source": [
    "# singularize and pluralize - not perfect\n",
    "blob = TextBlob('I see many trees')\n",
    "print [word.singularize() for word in blob.words]\n",
    "print [word.pluralize() for word in blob.words]\n"
   ]
  },
  {
   "cell_type": "markdown",
   "metadata": {},
   "source": [
    "## Sentiment Analysis with TextBlob"
   ]
  },
  {
   "cell_type": "markdown",
   "metadata": {},
   "source": [
    "The textblob.sentiments module contains two sentiment analysis implementations, PatternAnalyzer (based on the pattern library) and NaiveBayesAnalyzer (an NLTK classifier trained on a movie reviews corpus).\n",
    "\n",
    "The default implementation is PatternAnalyzer, but you can override the analyzer by passing another implementation into a TextBlob’s constructor."
   ]
  },
  {
   "cell_type": "code",
   "execution_count": 117,
   "metadata": {},
   "outputs": [],
   "source": [
    "from textblob.sentiments import NaiveBayesAnalyzer, PatternAnalyzer\n",
    "from textblob import Blobber\n",
    "tba = Blobber(analyzer=NaiveBayesAnalyzer())"
   ]
  },
  {
   "cell_type": "markdown",
   "metadata": {},
   "source": [
    " For instance, the NaiveBayesAnalyzer returns its result as a namedtuple of the form: Sentiment(classification, p_pos, p_neg)."
   ]
  },
  {
   "cell_type": "code",
   "execution_count": 118,
   "metadata": {},
   "outputs": [
    {
     "name": "stdout",
     "output_type": "stream",
     "text": [
      "Sentiment(classification='pos', p_pos=0.9090178756547229, p_neg=0.09098212434527589)\n"
     ]
    }
   ],
   "source": [
    "print tba(\"I love natural language processing. It is very difficult though but I still enjoy it.\").sentiment"
   ]
  },
  {
   "cell_type": "code",
   "execution_count": 119,
   "metadata": {},
   "outputs": [
    {
     "data": {
      "text/plain": [
       "[Sentence(\"I love natural language processing.\"),\n",
       " Sentence(\"It is very difficult though but I still enjoy it.\")]"
      ]
     },
     "execution_count": 119,
     "metadata": {},
     "output_type": "execute_result"
    }
   ],
   "source": [
    "# sentiment analysis\n",
    "blob = TextBlob('I love natural language processing. It is very difficult though but I still enjoy it.', analyzer=PatternAnalyzer())\n",
    "blob.sentences \n"
   ]
  },
  {
   "cell_type": "code",
   "execution_count": 120,
   "metadata": {},
   "outputs": [
    {
     "data": {
      "text/plain": [
       "Sentiment(polarity=0.0875, subjectivity=0.625)"
      ]
     },
     "execution_count": 120,
     "metadata": {},
     "output_type": "execute_result"
    }
   ],
   "source": [
    "#Polarity ranges from -1 to 1 (1 = positive sentiment). \n",
    "#Subjectivity how much opinion is expressed within a given sentence: 0 = objective 1 = subjective\n",
    "blob.sentiment\n"
   ]
  },
  {
   "cell_type": "markdown",
   "metadata": {},
   "source": [
    "The sentiment property returns a namedtuple of the form Sentiment(polarity, subjectivity). The polarity score is a float within the range [-1.0, 1.0]. The subjectivity is a float within the range [0.0, 1.0] where 0.0 is very objective and 1.0 is very subjective."
   ]
  },
  {
   "cell_type": "code",
   "execution_count": 121,
   "metadata": {},
   "outputs": [
    {
     "data": {
      "text/plain": [
       "0.0875"
      ]
     },
     "execution_count": 121,
     "metadata": {},
     "output_type": "execute_result"
    }
   ],
   "source": [
    "blob.sentiment.polarity\n"
   ]
  },
  {
   "cell_type": "code",
   "execution_count": 122,
   "metadata": {},
   "outputs": [
    {
     "data": {
      "text/plain": [
       "[0.3, -0.125]"
      ]
     },
     "execution_count": 122,
     "metadata": {},
     "output_type": "execute_result"
    }
   ],
   "source": [
    "[sent.sentiment.polarity for sent in blob.sentences]\n"
   ]
  },
  {
   "cell_type": "code",
   "execution_count": 123,
   "metadata": {},
   "outputs": [
    {
     "name": "stdout",
     "output_type": "stream",
     "text": [
      "0.6\n",
      "0.0\n"
     ]
    }
   ],
   "source": [
    "# sentiment subjectivity\n",
    "print TextBlob(\"I am a really good programmer\").sentiment.subjectivity #  subjective\n",
    "print TextBlob(\"I am a programmer\").sentiment.subjectivity #  objective\n"
   ]
  },
  {
   "cell_type": "markdown",
   "metadata": {},
   "source": [
    "**Exercise:** Extract each sentence from the article in the previous exercises that you have downloaded and list each sentence with its sentiment."
   ]
  },
  {
   "cell_type": "code",
   "execution_count": 125,
   "metadata": {
    "scrolled": false
   },
   "outputs": [
    {
     "data": {
      "text/plain": [
       "['pos', 'pos', 'pos']"
      ]
     },
     "execution_count": 125,
     "metadata": {},
     "output_type": "execute_result"
    }
   ],
   "source": [
    "blob = TextBlob(my_cleaned_article, analyzer=NaiveBayesAnalyzer())\n",
    "[sent.sentiment.classification for sent in blob.sentences[:3]]\n"
   ]
  },
  {
   "cell_type": "code",
   "execution_count": 126,
   "metadata": {},
   "outputs": [
    {
     "data": {
      "text/plain": [
       "[0.0, 0.0, 0.0]"
      ]
     },
     "execution_count": 126,
     "metadata": {},
     "output_type": "execute_result"
    }
   ],
   "source": [
    "blob = TextBlob(my_cleaned_article, analyzer=PatternAnalyzer())\n",
    "[sent.sentiment.polarity for sent in blob.sentences[:3]]"
   ]
  },
  {
   "cell_type": "markdown",
   "metadata": {
    "collapsed": true
   },
   "source": [
    "We can train our own sentiment classifiers using TextBlob."
   ]
  },
  {
   "cell_type": "code",
   "execution_count": 127,
   "metadata": {},
   "outputs": [],
   "source": [
    "from textblob import TextBlob\n",
    "from textblob.classifiers import NaiveBayesClassifier\n",
    "train = [\n",
    "     ('I love this course.', 'pos'),\n",
    "     ('This univeristy is an amazing place!', 'pos'),\n",
    "     ('I feel very good about these assignments.', 'pos'),\n",
    "     ('I do not like this lab', 'neg'),\n",
    "     ('I am tired of this semester.', 'neg'),\n",
    "     (\"I can't deal with this anymore\", 'neg'),\n",
    "     (\"My lecturer is horrible.\", \"neg\")\n",
    "     ]\n"
   ]
  },
  {
   "cell_type": "code",
   "execution_count": 132,
   "metadata": {},
   "outputs": [
    {
     "data": {
      "text/plain": [
       "'neg'"
      ]
     },
     "execution_count": 132,
     "metadata": {},
     "output_type": "execute_result"
    }
   ],
   "source": [
    "cl = NaiveBayesClassifier(train)\n",
    "cl.classify(\"I feel horrible!\")\n"
   ]
  },
  {
   "cell_type": "code",
   "execution_count": 129,
   "metadata": {},
   "outputs": [
    {
     "name": "stdout",
     "output_type": "stream",
     "text": [
      "The course is good.\n",
      "pos\n",
      "But the stress is horrible.\n",
      "neg\n"
     ]
    }
   ],
   "source": [
    "#Breaks down text into seperate sentences and analyses them\n",
    "blob = TextBlob(\"The course is good. But the stress is horrible.\", classifier=cl)\n",
    "for s in blob.sentences:\n",
    "    print(s)\n",
    "    print(s.classify())\n",
    "    "
   ]
  },
  {
   "cell_type": "markdown",
   "metadata": {
    "collapsed": true
   },
   "source": [
    "**Exercise:** Modify the above training dataset to include an additional class called 'neutral'. Create several sample sentences which represent a neutral sentiment. Train the classifier and test it out against several cases:"
   ]
  },
  {
   "cell_type": "code",
   "execution_count": 137,
   "metadata": {},
   "outputs": [],
   "source": [
    "my_train = [\n",
    "     ('I love this course.', 'pos'),\n",
    "     ('This univeristy is an amazing place!', 'neutral'),\n",
    "     ('I feel very good about these assignments.', 'pos'),\n",
    "     ('I do not like this lab', 'neutral'),\n",
    "     ('I am tired of this semester.', 'neg'),\n",
    "     (\"I can't deal with this anymore\", 'neutral'),\n",
    "     (\"My lecturer is horrible.\", \"neg\")\n",
    "     ]\n"
   ]
  },
  {
   "cell_type": "code",
   "execution_count": 138,
   "metadata": {},
   "outputs": [
    {
     "name": "stdout",
     "output_type": "stream",
     "text": [
      "The course is good.\n",
      "pos\n",
      "But the stress is horrible.\n",
      "neg\n",
      "This is a good day.\n",
      "neutral\n"
     ]
    }
   ],
   "source": [
    "my_cl = NaiveBayesClassifier(my_train)\n",
    "#Breaks down text into seperate sentences and analyses them\n",
    "my_blob = TextBlob(\"The course is good. But the stress is horrible. This is a good day.\", classifier=my_cl)\n",
    "for s in my_blob.sentences:\n",
    "    print(s)\n",
    "    print(s.classify())"
   ]
  },
  {
   "cell_type": "markdown",
   "metadata": {},
   "source": [
    "Adding neutral comments to a small dataset can stuff up other analysis"
   ]
  },
  {
   "cell_type": "code",
   "execution_count": 139,
   "metadata": {},
   "outputs": [
    {
     "name": "stdout",
     "output_type": "stream",
     "text": [
      "The course is ok.\n",
      "pos\n",
      "But the stress is horrible.\n",
      "neg\n"
     ]
    }
   ],
   "source": [
    "blob = TextBlob(\"The course is ok. But the stress is horrible.\", classifier=cl)\n",
    "for s in blob.sentences:\n",
    "    print(s)\n",
    "    print(s.classify())\n",
    "    "
   ]
  },
  {
   "cell_type": "markdown",
   "metadata": {},
   "source": [
    "# Text Feature Extraction "
   ]
  },
  {
   "cell_type": "markdown",
   "metadata": {},
   "source": [
    "## Collocations and n-grams"
   ]
  },
  {
   "cell_type": "markdown",
   "metadata": {},
   "source": [
    "A collocation is a sequence of words that occur together unusually often. Examples: *red\n",
    "wine*, *cosmetic surgery*, *large house* or a verbal phrase like *pick up*. \n",
    "\n",
    "The above are examples of bigrams, but of course this can be expanded to n-grams. \n",
    "\n",
    "n-gram models are very effective in modeling language data. This is a core part in statistical language applications. While n-gram analysis is a crucial part of many of the exiting applications NLP models such as machine translation applications, they are also complemented with other models such as Bayesian inference.\n",
    " \n",
    "To get a handle on collocations, we start off by extracting from a text a list of word\n",
    "pairs, also known as bigrams. This is easily accomplished with the function bigrams():"
   ]
  },
  {
   "cell_type": "code",
   "execution_count": 140,
   "metadata": {},
   "outputs": [
    {
     "name": "stdout",
     "output_type": "stream",
     "text": [
      "('more', 'is')\n",
      "('is', 'said')\n",
      "('said', 'than')\n",
      "('than', 'done')\n"
     ]
    }
   ],
   "source": [
    "from nltk import bigrams\n",
    "bgrs = bigrams(['more', 'is', 'said', 'than', 'done'])\n",
    "\n",
    "for i in range(4):\n",
    "    print bgrs.next()"
   ]
  },
  {
   "cell_type": "markdown",
   "metadata": {},
   "source": [
    "Now, collocations are essentially just frequent bigrams or n-grams.\n",
    "\n",
    "Below is an example of performing collocation analysis in order to draw out some meaning from the text by performing 2 and 3 word collocation analysis: \n",
    "\n"
   ]
  },
  {
   "cell_type": "code",
   "execution_count": 141,
   "metadata": {},
   "outputs": [
    {
     "name": "stdout",
     "output_type": "stream",
     "text": [
      "Bigram analysis\n",
      "[('detailed', 'descriptions'), ('most', 'accurate'), ('finance', 'ministers'), ('gives', 'one'), ('ever', 'written'), ('has', 'been'), ('an', 'outsider'), ('not', 'only'), ('power', 'ever'), ('modern', 'power'), ('would', 'have'), ('In', 'this'), ('desire', 'for'), ('together', 'with'), ('with', 'those')]\n"
     ]
    }
   ],
   "source": [
    "from nltk.collocations import *\n",
    "\n",
    "#tokenized_article = [word for word in tokenized_article if word not in stopwords]\n",
    "bigram_measures = nltk.collocations.BigramAssocMeasures()\n",
    "\n",
    "\n",
    "# change this to read in your data\n",
    "finder = BigramCollocationFinder.from_words(tokenized_article)\n",
    "\n",
    "# only bigrams that appear 2+ times\n",
    "finder.apply_freq_filter(2) \n",
    "\n",
    "# return the 10 n-grams with the highest PMI\n",
    "print \"Bigram analysis\"\n",
    "print finder.nbest(bigram_measures.pmi, 15) "
   ]
  },
  {
   "cell_type": "code",
   "execution_count": 142,
   "metadata": {},
   "outputs": [
    {
     "name": "stdout",
     "output_type": "stream",
     "text": [
      "Trigram analysis\n",
      "[('modern', 'power', 'ever'), ('power', 'ever', 'written'), ('Varoufakis', 'gives', 'one'), ('accurate', 'and', 'detailed'), ('and', 'detailed', 'descriptions'), ('most', 'accurate', 'and'), ('detailed', 'descriptions', 'of'), ('French', 'and', 'German'), ('descriptions', 'of', 'modern'), ('gives', 'one', 'of'), ('the', 'most', 'accurate'), ('Varoufakis', 'not', 'only'), ('revelation', 'is', 'that'), ('of', 'modern', 'power'), ('at', 'the', 'time')]\n"
     ]
    }
   ],
   "source": [
    "# change this to read in your data\n",
    "finder = nltk.collocations.TrigramCollocationFinder.from_words(tokenized_article)\n",
    "\n",
    "# only trigrams that appear 2+ times\n",
    "finder.apply_freq_filter(2) \n",
    "\n",
    "trigram_measures = nltk.collocations.TrigramAssocMeasures()\n",
    "\n",
    "print \"Trigram analysis\"\n",
    "print finder.nbest(trigram_measures.pmi, 15) "
   ]
  },
  {
   "cell_type": "markdown",
   "metadata": {},
   "source": [
    "**Exercise:** Perform bigram and trigram analysis of the article in the previous exercises that you have downloaded and list the 15 most commonly occuring."
   ]
  },
  {
   "cell_type": "code",
   "execution_count": 144,
   "metadata": {},
   "outputs": [
    {
     "name": "stdout",
     "output_type": "stream",
     "text": [
      "Bigram analysis\n",
      "[('part', 'time'), ('higher', 'education'), ('Read', 'more'), ('50', '000'), ('average', 'debt'), ('tuition', 'fees'), ('government', 'should'), ('individual', 'institutions'), ('number', 'control'), ('will', 'find'), ('current', 'system'), ('there', 'should'), ('resulted', 'in'), ('This', 'has'), ('graduates', 'will')]\n"
     ]
    }
   ],
   "source": [
    "#my_cleaned_article\n",
    "#my_clean_tokens\n",
    "\n",
    "bigram_measures = nltk.collocations.BigramAssocMeasures()\n",
    "\n",
    "\n",
    "# change this to read in your data\n",
    "finder = BigramCollocationFinder.from_words(my_clean_tokens)\n",
    "\n",
    "# only bigrams that appear 2+ times\n",
    "finder.apply_freq_filter(2) \n",
    "\n",
    "# return the 10 n-grams with the highest PMI\n",
    "print \"Bigram analysis\"\n",
    "print finder.nbest(bigram_measures.pmi, 15)"
   ]
  },
  {
   "cell_type": "code",
   "execution_count": 143,
   "metadata": {},
   "outputs": [
    {
     "name": "stdout",
     "output_type": "stream",
     "text": [
      "Trigram analysis\n",
      "[('part', 'time', 'students'), ('there', 'should', 'be'), ('nurses', 'and', 'midwives'), ('of', 'part', 'time'), ('the', 'current', 'system'), ('the', 'number', 'of')]\n"
     ]
    }
   ],
   "source": [
    "finder = nltk.collocations.TrigramCollocationFinder.from_words(my_clean_tokens)\n",
    "\n",
    "# only trigrams that appear 2+ times\n",
    "finder.apply_freq_filter(2) \n",
    "\n",
    "trigram_measures = nltk.collocations.TrigramAssocMeasures()\n",
    "\n",
    "print \"Trigram analysis\"\n",
    "print finder.nbest(trigram_measures.pmi, 15) "
   ]
  },
  {
   "cell_type": "markdown",
   "metadata": {},
   "source": [
    "# TF-IDF\n"
   ]
  },
  {
   "cell_type": "markdown",
   "metadata": {},
   "source": [
    "Term-frequency can offer a good representation of textual information/content in documents as seen above.\n",
    "\n",
    "However, the main problem with the term-frequency approach is that it elevates frequent terms and demotes rare terms which can, and often are more informative than the high frequency terms. \n",
    "\n",
    "When considering a document classification problem and the need to extract meaningful features from many documents, intuition informs us then that a terms that occur most often in many documents are probably not the best discriminators. Would we really want a feature that in a classification problem, emphasizes a term that is found across the entire corpus of all your documents?\n",
    "\n",
    "TF-IDF addresses this. It quantifies the importance of a term to a specific document and also the importance of the term in the entire collection. TF-IDF balances and incorporates both local and global importance of a term.\n",
    "\n",
    "TF-IDF effectively penalises frequent terms while emphasising rare terms; a term that occurs 100 times more than another isn’t 100 times more important than it. This is why TF-IDF uses the logarithmic scale to achieve this that.\n",
    "\n",
    "TF-IDF stands for term frequency-inverse document frequency. TF-IDF is a measure of **relevance**.  TF-IDF tends to be more useful than \"term frequency\" for identifying \"important\" words in each document (high frequency in that document, low frequency in other documents).\n",
    "\n",
    "**TF:** measures how frequently a term occurs in a document. Since every document is different in length, it is possible that a term would appear more frequently in longer documents. Thus, the term frequency is often normalized by dividing by the document length: \n",
    "\n",
    "\\begin{equation}\n",
    "TF(t) = ( \\frac{Number\\ of\\ times\\ term\\ t\\ appears\\ in\\ a\\ document}{Total\\ number\\ of\\ terms\\ in\\ the\\ document})\n",
    "\\end{equation}\n",
    "\n",
    "\n",
    "**IDF:** calculates the importance of  term. In TF, all terms are considered equally important. However we saw how stop words appear frequently but offer little discriminating value. Therefore, the frequent terms need to be weighted down, while the rarer terms needed to be scaled up: \n",
    "\n",
    "\\begin{equation}\n",
    "IDF(t) = 1 + \\ln( \\frac{Total\\ number\\ of\\ documents}{Number\\ of\\ documents\\ with\\ term\\ t\\ in\\ it})\n",
    "\\end{equation}\n",
    "\n",
    "\n",
    "\\begin{equation}\n",
    "TF-IDF = TF \\times IDF\n",
    "\\end{equation}\n",
    "\n",
    "\n",
    "TF-IDF yields a very large feature vector. Essentially, we create a column to represent every word in the entire training set since we need a vector of equal length, and this becomes the feature for each individual document.\n",
    "\n",
    "The vector tends to be quite sparse and will thus contain many zeros, since documents will not contain all the words that are found in other documents of the entire corpus. \n",
    "\n",
    "When using TF-IDF in conjunction with Information Retrieval Document Clustering, Cosine Similarity is often used as the measure of similarity. Both the TF-IDF calculation and the Cosine Similarity is built-in into scikit-learn, returning 1 minus the cosine of the angle between vectors 'v' and 'u' which is is equal to 1 - (u.v / |u||v|). 0 indicates perfect similarity score and 1.0 indicates a complete opposite score.  "
   ]
  },
  {
   "cell_type": "markdown",
   "metadata": {
    "collapsed": true
   },
   "source": [
    "## Document Topic Discovery "
   ]
  },
  {
   "cell_type": "markdown",
   "metadata": {},
   "source": [
    "Automatic text summarization reduces a text document in order to create a summary that retains the most important points from the original. \n",
    "\n",
    "Due to the increasing problem of information overload, applications and research into interest automatic summarization has also increased and this has become an important area within machine learning and data mining.\n",
    "\n",
    "Summarization technologies are used today in many industry sectors. Google is the best example. But news and media outlets also heavily use these technologies."
   ]
  },
  {
   "cell_type": "code",
   "execution_count": null,
   "metadata": {},
   "outputs": [],
   "source": [
    "!pip install lda"
   ]
  },
  {
   "cell_type": "markdown",
   "metadata": {},
   "source": [
    "Latent Dirichlet Allocation (LDA) is a powerful algorithm which can automatically discover topics from sentences and thus, both summerise document and extract potentially meaningful features.\n",
    "\n",
    "LDA defines each topic as a bag of words, though it does not determine what the topic is. You have to label the topics as you deem fit.\n",
    "\n",
    "The algorithm is essentially iterative. It will check and update topic assignments, looping through each word in every document. For each word, its topic assignment is updated based on two criteria:\n",
    "\n",
    "    How prevalent is that word across topics?\n",
    "\n",
    "    How prevalent are topics in the document?\n",
    "    "
   ]
  },
  {
   "cell_type": "markdown",
   "metadata": {},
   "source": [
    "Sources for extra info:\n",
    "\n",
    "http://chrisstrelioff.ws/sandbox/2014/11/13/getting_started_with_latent_dirichlet_allocation_in_python.html\n",
    "https://www.analyticsvidhya.com/blog/2016/08/beginners-guide-to-topic-modeling-in-python/\n",
    "http://blog.echen.me/2011/06/27/topic-modeling-the-sarah-palin-emails/\n",
    "\n",
    "\n",
    "Pseudo Algorithm: (adapted from  http://blog.echen.me/2011/08/22/introduction-to-latent-dirichlet-allocation/)\n",
    "\n",
    "* Suppose we have a set of documents D and each document has a mixture of topics in them.\n",
    "* We choose a fixed K number of T topics to discover\n",
    "* We go through each document, and randomly assign each word in the document to one of the K topics. The random assignment defines both a topic representations of all the documents and word distributions of all the topics, though not in an accurate way.\n",
    "* In order to improve: \n",
    "    - for each document d in D:\n",
    "        - for each word w in d:\n",
    "            - for each topic t, compute: \n",
    "                   1) p(topic t | document d) = the proportion of words in document d that are currently assigned to topic t, and \n",
    "                   2) p(word w | topic t) = the proportion of assignments to topic t over all documents that come from this word w. \n",
    "                       Reassign w to a new topic, where we choose topic t with probability p(topic t | document d) * p(word w | topic t) (according to our generative model, this is essentially the probability that topic t generated word w, so it makes sense that we resample the current word’s topic with this probability). In other words, in this step, we’re assuming that all topic assignments except for the current word in question are correct, and then updating the assignment of the current word using our model of how documents are generated.\n",
    "                   \n",
    "After a number of iterations, eventually a stable state should be reached where the assignments are meaningful. \n",
    "\n",
    "These assignments are then used to estimate the topic mixtures of each document (by counting the proportion of words assigned to each topic within that document) and the words associated to each topic (by counting the proportion of words assigned to each topic overall).\n"
   ]
  },
  {
   "cell_type": "code",
   "execution_count": 145,
   "metadata": {},
   "outputs": [],
   "source": [
    "stop_words2 = nltk.corpus.stopwords.words('english') + [\n",
    "    '.',\n",
    "    ',',\n",
    "    '--',\n",
    "    '\\'s',\n",
    "    '?',\n",
    "    ')',\n",
    "    '(',\n",
    "    ':',\n",
    "    '\\'',\n",
    "    '\\'re',\n",
    "    '\"',\n",
    "    '-',\n",
    "    '}',\n",
    "    '{',\n",
    "    u'—',\n",
    "    'like',\n",
    "    'would',\n",
    "    'may',\n",
    "    '',\n",
    "    '``',\n",
    "    'new'\n",
    "    ]\n",
    "\n",
    "def prep(x):\n",
    "    #return [porter_stemmer.stem(w) for w in nltk.tokenize.word_tokenize(x) if w not in stop_words]\n",
    "    return [w for w in nltk.tokenize.word_tokenize(x) if w.lower() not in stop_words2]"
   ]
  },
  {
   "cell_type": "code",
   "execution_count": 146,
   "metadata": {},
   "outputs": [],
   "source": [
    "import lda\n",
    "from sklearn.feature_extraction.text import CountVectorizer\n",
    "\n",
    "# Instantiate a count vectorizer with two additional parameters\n",
    "vect = CountVectorizer(stop_words='english', ngram_range=[1,1]) \n",
    "sentences_train = vect.fit_transform( nltk.tokenize.sent_tokenize(cleaned_article) )"
   ]
  },
  {
   "cell_type": "code",
   "execution_count": 149,
   "metadata": {},
   "outputs": [
    {
     "name": "stderr",
     "output_type": "stream",
     "text": [
      "INFO:lda:n_documents: 61\n",
      "INFO:lda:vocab_size: 578\n",
      "INFO:lda:n_words: 778\n",
      "INFO:lda:n_topics: 3\n",
      "INFO:lda:n_iter: 1000\n",
      "INFO:lda:<0> log likelihood: -7820\n",
      "INFO:lda:<10> log likelihood: -6825\n",
      "INFO:lda:<20> log likelihood: -6754\n",
      "INFO:lda:<30> log likelihood: -6713\n",
      "INFO:lda:<40> log likelihood: -6708\n",
      "INFO:lda:<50> log likelihood: -6696\n",
      "INFO:lda:<60> log likelihood: -6676\n",
      "INFO:lda:<70> log likelihood: -6679\n",
      "INFO:lda:<80> log likelihood: -6643\n",
      "INFO:lda:<90> log likelihood: -6671\n",
      "INFO:lda:<100> log likelihood: -6690\n",
      "INFO:lda:<110> log likelihood: -6692\n",
      "INFO:lda:<120> log likelihood: -6706\n",
      "INFO:lda:<130> log likelihood: -6609\n",
      "INFO:lda:<140> log likelihood: -6642\n",
      "INFO:lda:<150> log likelihood: -6664\n",
      "INFO:lda:<160> log likelihood: -6697\n",
      "INFO:lda:<170> log likelihood: -6656\n",
      "INFO:lda:<180> log likelihood: -6683\n",
      "INFO:lda:<190> log likelihood: -6642\n",
      "INFO:lda:<200> log likelihood: -6633\n",
      "INFO:lda:<210> log likelihood: -6664\n",
      "INFO:lda:<220> log likelihood: -6693\n",
      "INFO:lda:<230> log likelihood: -6637\n",
      "INFO:lda:<240> log likelihood: -6695\n",
      "INFO:lda:<250> log likelihood: -6647\n",
      "INFO:lda:<260> log likelihood: -6611\n",
      "INFO:lda:<270> log likelihood: -6682\n",
      "INFO:lda:<280> log likelihood: -6720\n",
      "INFO:lda:<290> log likelihood: -6673\n",
      "INFO:lda:<300> log likelihood: -6621\n",
      "INFO:lda:<310> log likelihood: -6666\n",
      "INFO:lda:<320> log likelihood: -6702\n",
      "INFO:lda:<330> log likelihood: -6669\n",
      "INFO:lda:<340> log likelihood: -6662\n",
      "INFO:lda:<350> log likelihood: -6662\n",
      "INFO:lda:<360> log likelihood: -6659\n",
      "INFO:lda:<370> log likelihood: -6676\n",
      "INFO:lda:<380> log likelihood: -6722\n",
      "INFO:lda:<390> log likelihood: -6667\n",
      "INFO:lda:<400> log likelihood: -6615\n",
      "INFO:lda:<410> log likelihood: -6735\n",
      "INFO:lda:<420> log likelihood: -6633\n",
      "INFO:lda:<430> log likelihood: -6648\n",
      "INFO:lda:<440> log likelihood: -6640\n",
      "INFO:lda:<450> log likelihood: -6605\n",
      "INFO:lda:<460> log likelihood: -6603\n",
      "INFO:lda:<470> log likelihood: -6656\n",
      "INFO:lda:<480> log likelihood: -6673\n",
      "INFO:lda:<490> log likelihood: -6648\n",
      "INFO:lda:<500> log likelihood: -6606\n",
      "INFO:lda:<510> log likelihood: -6643\n",
      "INFO:lda:<520> log likelihood: -6664\n",
      "INFO:lda:<530> log likelihood: -6645\n",
      "INFO:lda:<540> log likelihood: -6609\n",
      "INFO:lda:<550> log likelihood: -6674\n",
      "INFO:lda:<560> log likelihood: -6620\n",
      "INFO:lda:<570> log likelihood: -6626\n",
      "INFO:lda:<580> log likelihood: -6694\n",
      "INFO:lda:<590> log likelihood: -6605\n",
      "INFO:lda:<600> log likelihood: -6651\n",
      "INFO:lda:<610> log likelihood: -6619\n",
      "INFO:lda:<620> log likelihood: -6657\n",
      "INFO:lda:<630> log likelihood: -6641\n",
      "INFO:lda:<640> log likelihood: -6653\n",
      "INFO:lda:<650> log likelihood: -6652\n",
      "INFO:lda:<660> log likelihood: -6664\n",
      "INFO:lda:<670> log likelihood: -6657\n",
      "INFO:lda:<680> log likelihood: -6637\n",
      "INFO:lda:<690> log likelihood: -6662\n",
      "INFO:lda:<700> log likelihood: -6674\n",
      "INFO:lda:<710> log likelihood: -6605\n",
      "INFO:lda:<720> log likelihood: -6667\n",
      "INFO:lda:<730> log likelihood: -6619\n",
      "INFO:lda:<740> log likelihood: -6630\n",
      "INFO:lda:<750> log likelihood: -6617\n",
      "INFO:lda:<760> log likelihood: -6618\n",
      "INFO:lda:<770> log likelihood: -6635\n",
      "INFO:lda:<780> log likelihood: -6620\n",
      "INFO:lda:<790> log likelihood: -6670\n",
      "INFO:lda:<800> log likelihood: -6650\n",
      "INFO:lda:<810> log likelihood: -6653\n",
      "INFO:lda:<820> log likelihood: -6623\n",
      "INFO:lda:<830> log likelihood: -6617\n",
      "INFO:lda:<840> log likelihood: -6634\n",
      "INFO:lda:<850> log likelihood: -6661\n",
      "INFO:lda:<860> log likelihood: -6629\n",
      "INFO:lda:<870> log likelihood: -6640\n",
      "INFO:lda:<880> log likelihood: -6644\n",
      "INFO:lda:<890> log likelihood: -6658\n",
      "INFO:lda:<900> log likelihood: -6620\n",
      "INFO:lda:<910> log likelihood: -6655\n",
      "INFO:lda:<920> log likelihood: -6630\n",
      "INFO:lda:<930> log likelihood: -6664\n",
      "INFO:lda:<940> log likelihood: -6659\n",
      "INFO:lda:<950> log likelihood: -6675\n",
      "INFO:lda:<960> log likelihood: -6620\n",
      "INFO:lda:<970> log likelihood: -6653\n",
      "INFO:lda:<980> log likelihood: -6695\n",
      "INFO:lda:<990> log likelihood: -6648\n",
      "INFO:lda:<999> log likelihood: -6662\n"
     ]
    },
    {
     "name": "stdout",
     "output_type": "stream",
     "text": [
      "Topic 0: greek, left, july, syriza, syrizas, designed, people, face, remains, strategy, referendum, eu, mass, beans, believe\n",
      "Topic 1: varoufakis, tsipras, power, built, time, written, politics, crisis, party, political, story, elite, modern, needs, game\n",
      "Topic 2: greece, price, 2015, zorbas, 2010, pay, banks, finance, german, gets, inside, summers, conspirators, debt, told\n"
     ]
    }
   ],
   "source": [
    "# Instantiate an LDA model\n",
    "model = lda.LDA(n_topics=3, n_iter=1000)\n",
    "model.fit(sentences_train) # Fit the model \n",
    "n_top_words = 15\n",
    "topic_word = model.topic_word_\n",
    "for i, topic_dist in enumerate(topic_word):\n",
    "    topic_words = np.array(vect.get_feature_names())[np.argsort(topic_dist)][:-n_top_words-1:-1]\n",
    "    print('Topic {}: {}'.format(i, ', '.join(topic_words)))"
   ]
  },
  {
   "cell_type": "code",
   "execution_count": 148,
   "metadata": {},
   "outputs": [
    {
     "name": "stdout",
     "output_type": "stream",
     "text": [
      "Topic 0: varoufakis 0.050, greek 0.040, power 0.027, left 0.020, time 0.017, built 0.017, politics 0.013, crisis 0.013, price 0.013, written 0.013, party 0.013, modern 0.010, july 0.010, political 0.010, compromise 0.007\n",
      "Topic 1: tsipras 0.044, varoufakis 0.024, 2015 0.016, people 0.012, elite 0.012, finance 0.012, left 0.012, summers 0.012, needs 0.012, inside 0.012, told 0.008, like 0.008, june 0.008, alliances 0.008, events 0.008\n",
      "Topic 2: greece 0.024, zorbas 0.012, designed 0.012, banks 0.012, syrizas 0.012, euro 0.012, german 0.012, gets 0.012, game 0.012, pay 0.012, 2010 0.012, stands 0.008, debt 0.008, revelation 0.008, economic 0.008\n"
     ]
    }
   ],
   "source": [
    "for i, topic_dist in enumerate(model.topic_word_):\n",
    "    topic_words = np.array(vect.get_feature_names())[np.argsort(topic_dist)][:-n_top_words-1:-1]\n",
    "    weights = np.sort(topic_dist)[:-n_top_words-1:-1]\n",
    "    weights = [\"%.3f\"%item for item in weights]\n",
    "    #print [str(i) + ' ' + str(j) for i,j in zip(topic_words, weights)] \n",
    "    z= [str(tw) + ' ' + str(w) for tw, w in zip(topic_words, weights)] \n",
    "    #z = str(zip(topic_words, weights))\n",
    "    #print z \n",
    "    print('Topic {}: {}'.format(i, ', '.join(z)))"
   ]
  },
  {
   "cell_type": "markdown",
   "metadata": {},
   "source": [
    "**Exercise:** Perform topic discovery on the article you extracted from the previous exercises. How meaningful are the results? Experiment with different numbers of topics and top ranking words."
   ]
  },
  {
   "cell_type": "code",
   "execution_count": null,
   "metadata": {
    "collapsed": true
   },
   "outputs": [],
   "source": []
  },
  {
   "cell_type": "code",
   "execution_count": null,
   "metadata": {},
   "outputs": [],
   "source": []
  },
  {
   "cell_type": "markdown",
   "metadata": {},
   "source": [
    "# Text Classification "
   ]
  },
  {
   "cell_type": "markdown",
   "metadata": {},
   "source": [
    "## Training a Classifier for Sentiment Classification  From Scratch"
   ]
  },
  {
   "cell_type": "markdown",
   "metadata": {},
   "source": [
    "We will use a sample of Yelp reviews from https://raw.githubusercontent.com/justmarkham/DAT7/master/data/yelp.csv \n",
    "\n",
    "Yelp (http://www.yelp.com/) is an American multinational corporation headquartered in San Francisco, California. It publishes crowd-sourced reviews about local businesses.\n",
    "\n",
    "We will go though the machine learning process, experimenting and tweaking the features until we arrive at a desirable accuracy."
   ]
  },
  {
   "cell_type": "code",
   "execution_count": 150,
   "metadata": {},
   "outputs": [
    {
     "name": "stderr",
     "output_type": "stream",
     "text": [
      "/anaconda2/lib/python2.7/site-packages/sklearn/cross_validation.py:41: DeprecationWarning: This module was deprecated in version 0.18 in favor of the model_selection module into which all the refactored classes and functions are moved. Also note that the interface of the new CV iterators are different from that of this module. This module will be removed in 0.20.\n",
      "  \"This module will be removed in 0.20.\", DeprecationWarning)\n"
     ]
    }
   ],
   "source": [
    "import pandas as pd\n",
    "import numpy as np\n",
    "import scipy as sp\n",
    "from sklearn.cross_validation import train_test_split\n",
    "from sklearn.feature_extraction.text import CountVectorizer, TfidfVectorizer\n",
    "from sklearn.naive_bayes import MultinomialNB, GaussianNB\n",
    "from sklearn.linear_model import LogisticRegression\n",
    "from sklearn import metrics\n",
    "from textblob import TextBlob, Word\n",
    "from nltk.stem.snowball import SnowballStemmer"
   ]
  },
  {
   "cell_type": "code",
   "execution_count": 152,
   "metadata": {},
   "outputs": [],
   "source": [
    "yelp = pd.read_csv(\"./DataSets/yelp_reviews.csv\")\n"
   ]
  },
  {
   "cell_type": "code",
   "execution_count": 153,
   "metadata": {},
   "outputs": [
    {
     "data": {
      "text/plain": [
       "10000"
      ]
     },
     "execution_count": 153,
     "metadata": {},
     "output_type": "execute_result"
    }
   ],
   "source": [
    "len(yelp)"
   ]
  },
  {
   "cell_type": "code",
   "execution_count": 154,
   "metadata": {
    "scrolled": true
   },
   "outputs": [
    {
     "data": {
      "text/html": [
       "<div>\n",
       "<style scoped>\n",
       "    .dataframe tbody tr th:only-of-type {\n",
       "        vertical-align: middle;\n",
       "    }\n",
       "\n",
       "    .dataframe tbody tr th {\n",
       "        vertical-align: top;\n",
       "    }\n",
       "\n",
       "    .dataframe thead th {\n",
       "        text-align: right;\n",
       "    }\n",
       "</style>\n",
       "<table border=\"1\" class=\"dataframe\">\n",
       "  <thead>\n",
       "    <tr style=\"text-align: right;\">\n",
       "      <th></th>\n",
       "      <th>business_id</th>\n",
       "      <th>date</th>\n",
       "      <th>review_id</th>\n",
       "      <th>stars</th>\n",
       "      <th>text</th>\n",
       "      <th>type</th>\n",
       "      <th>user_id</th>\n",
       "      <th>cool</th>\n",
       "      <th>useful</th>\n",
       "      <th>funny</th>\n",
       "    </tr>\n",
       "  </thead>\n",
       "  <tbody>\n",
       "    <tr>\n",
       "      <th>0</th>\n",
       "      <td>9yKzy9PApeiPPOUJEtnvkg</td>\n",
       "      <td>2011-01-26</td>\n",
       "      <td>fWKvX83p0-ka4JS3dc6E5A</td>\n",
       "      <td>5</td>\n",
       "      <td>My wife took me here on my birthday for breakf...</td>\n",
       "      <td>review</td>\n",
       "      <td>rLtl8ZkDX5vH5nAx9C3q5Q</td>\n",
       "      <td>2</td>\n",
       "      <td>5</td>\n",
       "      <td>0</td>\n",
       "    </tr>\n",
       "    <tr>\n",
       "      <th>1</th>\n",
       "      <td>ZRJwVLyzEJq1VAihDhYiow</td>\n",
       "      <td>2011-07-27</td>\n",
       "      <td>IjZ33sJrzXqU-0X6U8NwyA</td>\n",
       "      <td>5</td>\n",
       "      <td>I have no idea why some people give bad review...</td>\n",
       "      <td>review</td>\n",
       "      <td>0a2KyEL0d3Yb1V6aivbIuQ</td>\n",
       "      <td>0</td>\n",
       "      <td>0</td>\n",
       "      <td>0</td>\n",
       "    </tr>\n",
       "    <tr>\n",
       "      <th>2</th>\n",
       "      <td>6oRAC4uyJCsJl1X0WZpVSA</td>\n",
       "      <td>2012-06-14</td>\n",
       "      <td>IESLBzqUCLdSzSqm0eCSxQ</td>\n",
       "      <td>4</td>\n",
       "      <td>love the gyro plate. Rice is so good and I als...</td>\n",
       "      <td>review</td>\n",
       "      <td>0hT2KtfLiobPvh6cDC8JQg</td>\n",
       "      <td>0</td>\n",
       "      <td>1</td>\n",
       "      <td>0</td>\n",
       "    </tr>\n",
       "    <tr>\n",
       "      <th>3</th>\n",
       "      <td>_1QQZuf4zZOyFCvXc0o6Vg</td>\n",
       "      <td>2010-05-27</td>\n",
       "      <td>G-WvGaISbqqaMHlNnByodA</td>\n",
       "      <td>5</td>\n",
       "      <td>Rosie, Dakota, and I LOVE Chaparral Dog Park!!...</td>\n",
       "      <td>review</td>\n",
       "      <td>uZetl9T0NcROGOyFfughhg</td>\n",
       "      <td>1</td>\n",
       "      <td>2</td>\n",
       "      <td>0</td>\n",
       "    </tr>\n",
       "    <tr>\n",
       "      <th>4</th>\n",
       "      <td>6ozycU1RpktNG2-1BroVtw</td>\n",
       "      <td>2012-01-05</td>\n",
       "      <td>1uJFq2r5QfJG_6ExMRCaGw</td>\n",
       "      <td>5</td>\n",
       "      <td>General Manager Scott Petello is a good egg!!!...</td>\n",
       "      <td>review</td>\n",
       "      <td>vYmM4KTsC8ZfQBg-j5MWkw</td>\n",
       "      <td>0</td>\n",
       "      <td>0</td>\n",
       "      <td>0</td>\n",
       "    </tr>\n",
       "  </tbody>\n",
       "</table>\n",
       "</div>"
      ],
      "text/plain": [
       "              business_id        date               review_id  stars  \\\n",
       "0  9yKzy9PApeiPPOUJEtnvkg  2011-01-26  fWKvX83p0-ka4JS3dc6E5A      5   \n",
       "1  ZRJwVLyzEJq1VAihDhYiow  2011-07-27  IjZ33sJrzXqU-0X6U8NwyA      5   \n",
       "2  6oRAC4uyJCsJl1X0WZpVSA  2012-06-14  IESLBzqUCLdSzSqm0eCSxQ      4   \n",
       "3  _1QQZuf4zZOyFCvXc0o6Vg  2010-05-27  G-WvGaISbqqaMHlNnByodA      5   \n",
       "4  6ozycU1RpktNG2-1BroVtw  2012-01-05  1uJFq2r5QfJG_6ExMRCaGw      5   \n",
       "\n",
       "                                                text    type  \\\n",
       "0  My wife took me here on my birthday for breakf...  review   \n",
       "1  I have no idea why some people give bad review...  review   \n",
       "2  love the gyro plate. Rice is so good and I als...  review   \n",
       "3  Rosie, Dakota, and I LOVE Chaparral Dog Park!!...  review   \n",
       "4  General Manager Scott Petello is a good egg!!!...  review   \n",
       "\n",
       "                  user_id  cool  useful  funny  \n",
       "0  rLtl8ZkDX5vH5nAx9C3q5Q     2       5      0  \n",
       "1  0a2KyEL0d3Yb1V6aivbIuQ     0       0      0  \n",
       "2  0hT2KtfLiobPvh6cDC8JQg     0       1      0  \n",
       "3  uZetl9T0NcROGOyFfughhg     1       2      0  \n",
       "4  vYmM4KTsC8ZfQBg-j5MWkw     0       0      0  "
      ]
     },
     "execution_count": 154,
     "metadata": {},
     "output_type": "execute_result"
    }
   ],
   "source": [
    "yelp.head()\n"
   ]
  },
  {
   "cell_type": "code",
   "execution_count": 155,
   "metadata": {},
   "outputs": [],
   "source": [
    "# create a new DataFrame that only contains the 5-star and 1-star reviews\n",
    "yelp_best_worst = yelp[(yelp.stars==5) | (yelp.stars==1)]\n"
   ]
  },
  {
   "cell_type": "code",
   "execution_count": 156,
   "metadata": {},
   "outputs": [
    {
     "name": "stdout",
     "output_type": "stream",
     "text": [
      "total dataset size:  4086\n"
     ]
    }
   ],
   "source": [
    "print 'total dataset size: ',len(yelp_best_worst)\n"
   ]
  },
  {
   "cell_type": "markdown",
   "metadata": {},
   "source": [
    "### Use default CountVectorizer to train entire dataset first and test it against the training set too"
   ]
  },
  {
   "cell_type": "markdown",
   "metadata": {},
   "source": [
    "Performing training and testing on just the training test gives us an idea of what the upper boundary of classification would be given a particular machine learning algorithm and dataset and is thus a useful exercise. Using the Naive Bayes classifier for this is particularly advantageous because NB is less prone to overfitting and generates a simple liner decision boundary between classes."
   ]
  },
  {
   "cell_type": "code",
   "execution_count": 157,
   "metadata": {},
   "outputs": [],
   "source": [
    "X_train = yelp_best_worst.text.values\n",
    "y_train = yelp_best_worst.stars.values\n"
   ]
  },
  {
   "cell_type": "code",
   "execution_count": 158,
   "metadata": {},
   "outputs": [
    {
     "name": "stdout",
     "output_type": "stream",
     "text": [
      "(4086,)\n",
      "(4086,)\n"
     ]
    }
   ],
   "source": [
    "print X_train.shape\n",
    "print y_train.shape\n"
   ]
  },
  {
   "cell_type": "code",
   "execution_count": 159,
   "metadata": {},
   "outputs": [],
   "source": [
    "#Initialises an object of count vectorizers\n",
    "# rows are documents, columns are terms (aka \"tokens\" or \"features\")\n",
    "#It adds features to the review to represent all words in the dataset. = sparse matrix.\n",
    "#most counts will be zero.\n",
    "# use CountVectorizer to create document-term matrices from X_train and X_test\n",
    "vect = CountVectorizer()\n",
    "train_dtm = vect.fit_transform(X_train)\n"
   ]
  },
  {
   "cell_type": "code",
   "execution_count": 160,
   "metadata": {},
   "outputs": [
    {
     "data": {
      "text/plain": [
       "(4086, 19183)"
      ]
     },
     "execution_count": 160,
     "metadata": {},
     "output_type": "execute_result"
    }
   ],
   "source": [
    "#We end up with a training dataset of 4086 rows and 19183 features\n",
    "train_dtm.shape\n"
   ]
  },
  {
   "cell_type": "code",
   "execution_count": 161,
   "metadata": {},
   "outputs": [
    {
     "name": "stdout",
     "output_type": "stream",
     "text": [
      "19183\n",
      "Features:  19183\n"
     ]
    }
   ],
   "source": [
    "#number of features\n",
    "print len(vect.get_feature_names())\n",
    "print 'Features: ', train_dtm.shape[1]\n"
   ]
  },
  {
   "cell_type": "code",
   "execution_count": 162,
   "metadata": {
    "scrolled": true
   },
   "outputs": [
    {
     "name": "stdout",
     "output_type": "stream",
     "text": [
      "[u'00', u'000', u'00a', u'00am', u'00pm', u'01', u'02', u'03', u'03342', u'04', u'05', u'06', u'07', u'09', u'0buxoc0crqjpvkezo3bqog', u'0l', u'10', u'100', u'1000', u'1000x', u'1001', u'100s', u'100th', u'101', u'102', u'1030', u'105', u'1070', u'108', u'109', u'10am', u'10ish', u'10min', u'10mins', u'10minutes', u'10pm', u'10th', u'10x', u'10yo', u'11', u'110', u'1100', u'111', u'111th', u'112', u'115', u'115th', u'116', u'118', u'11a', u'11am', u'11p', u'11pm', u'12', u'120', u'128i', u'129', u'12am', u'12oz', u'12pm', u'12th', u'13', u'1300', u'13331', u'13th', u'14', u'140', u'147', u'14lbs', u'15', u'150', u'1500', u'150mm', u'157', u'15am', u'15mins', u'15pm', u'15th', u'16', u'160', u'165', u'169', u'16th', u'17', u'175', u'17p', u'17th', u'18', u'180', u'1800', u'1895', u'18th', u'19', u'1900', u'1913', u'1928', u'1929', u'1930s', u'1940', u'1952', u'1955', u'1956', u'1960', u'1961', u'1968', u'1969', u'1970', u'1978', u'1980', u'1980s', u'1987', u'1990', u'1990s', u'1992', u'1995', u'1996', u'1997', u'1998', u'1999', u'19th', u'1cent', u'1k', u'1p', u'1pm', u'1st', u'20', u'200', u'2002', u'2003', u'2004', u'2005', u'2006', u'2007', u'2008', u'2009', u'200lbs', u'2010', u'2011', u'2012', u'202', u'20mbs', u'20miles', u'20min', u'20minutes', u'20pm', u'20s', u'20th', u'20x', u'21', u'21st', u'22', u'220', u'2240', u'22oz', u'23', u'24', u'24hrs', u'24st', u'24th', u'25', u'250', u'25b', u'25min', u'25th', u'26', u'260', u'2600', u'2608', u'2669', u'26th', u'27', u'272', u'27th', u'28', u'29', u'29th', u'2am', u'2mbps', u'2nd', u'2pm', u'2rd', u'2wice', u'2x', u'30', u'300', u'3000', u'30am', u'30ish', u'30p', u'30pm', u'30s', u'30th', u'31', u'311', u'312', u'316', u'32', u'33', u'33rd', u'34', u'34th', u'35', u'350', u'350ib', u'35c', u'35th', u'36', u'37', u'370', u'38', u'38th', u'39', u'39th', u'3am', u'3d', u'3g', u'3k', u'3lbs', u'3n9u549zse8up', u'3p', u'3pm', u'3rd', u'3x', u'40', u'400', u'4000', u'400s', u'40ish', u'40lm', u'40min', u'40th', u'41', u'411', u'4113416766', u'42', u'420', u'43', u'44', u'4458', u'44th', u'45', u'453990', u'45min', u'45pm', u'46', u'4655', u'46th', u'475', u'48', u'480', u'48th', u'49', u'490', u'4b', u'4cxbhzxxtmexf9krjmfviq', u'4hr', u'4ish', u'4pm', u'4th', u'4x6', u'50', u'500', u'50cents', u'50lm', u'50s', u'51', u'51pm', u'52', u'5231', u'53', u'53pm', u'54', u'547', u'55', u'56', u'57', u'59', u'59th', u'5k', u'5min', u'5p', u'5pm', u'5stars', u'5th', u'5yo', u'60', u'600', u'6000', u'602', u'60miles', u'60s', u'61', u'61st', u'62010', u'623', u'63', u'630am', u'64', u'64th', u'65', u'66', u'6600', u'67', u'68', u'680', u'69', u'6am', u'6p', u'6pm', u'6th', u'70', u'700', u'70s', u'70th', u'71', u'71st', u'74th', u'75', u'750', u'755891987', u'76', u'7807', u'79', u'7am', u'7pm', u'7th', u'80', u'800', u'8000hp', u'80s', u'81', u'83', u'832', u'83rd', u'85', u'85154658', u'85340', u'86', u'88', u'89', u'8am', u'8pm', u'8th', u'8v', u'8x10', u'8yo', u'90', u'9000', u'90s', u'91', u'911', u'92nd', u'945am', u'95', u'96', u'977', u'98', u'99', u'9999', u'99cent', u'9am', u'9oz', u'9p', u'9pm', u'9th', u'9year', u'9yo', u'______', u'_______________', u'_c', u'_gyib8ea4hdfylss17zc_g', u'a1', u'a2', u'aa', u'aaa', u'aaaamazing', u'aaammmazzing', u'aaron', u'ab', u'aback', u'abandoned', u'abandoning', u'abba', u'abbreviate', u'abbreviated', u'abby', u'abc', u'abdomen', u'abhor', u'abiding', u'abilities', u'ability', u'abilty', u'able', u'abodoba', u'abou', u'abound', u'about', u'above', u'abrasion', u'abroad', u'abrupt', u'absence', u'absent', u'absinthe', u'absoloutely', u'absolut', u'absolute', u'absolutely', u'absolutley', u'absolutly', u'absorb', u'absorption', u'abstain', u'abstained', u'abstract', u'absurd', u'abuelo', u'abundance', u'abundant', u'abuse', u'abused', u'abusive', u'abysmal', u'ac', u'acacia', u'academy', u'acai', u'acapulco', u'accent', u'accented', u'accents', u'accept', u'acceptable', u'accepted', u'accepting', u'accepts', u'access', u'accessed', u'accessible', u'accessories', u'accessorize', u'accessory', u'accident', u'accidental', u'accidentally', u'accidently', u'acclaimed', u'accolades', u'accommodate', u'accommodated', u'accommodates', u'accommodating', u'accommodation', u'accommodations', u'accomodate', u'accomodated', u'accomodating', u'accompanied', u'accompanies', u'accompaniment', u'accompany', u'accompanying', u'accomplish', u'accomplished', u'accomplishment', u'according', u'accordingly', u'account', u'accountable', u'accounts', u'accoutrement', u'accredited', u'accross', u'accumulated', u'accurate', u'accurately', u'accusation', u'accused', u'accustom', u'accustomed', u'accutemp', u'ace', u'ache', u'aches', u'achieve', u'achieved', u'achievement', u'acid', u'acidic', u'acknowledge', u'acknowledged', u'acknowledgement', u'acknowledging', u'ackward', u'acne', u'acoustic', u'acoustics', u'acquaintance', u'acquaintence']\n"
     ]
    }
   ],
   "source": [
    "# first 500 features\n",
    "print vect.get_feature_names()[:500]\n"
   ]
  },
  {
   "cell_type": "markdown",
   "metadata": {},
   "source": [
    "The array will be mostly empty - sparse. eg: first three rows and ten columns"
   ]
  },
  {
   "cell_type": "code",
   "execution_count": 163,
   "metadata": {},
   "outputs": [
    {
     "data": {
      "text/plain": [
       "array([[0, 0, 0, 0, 0, 0, 0, 0, 0, 0],\n",
       "       [0, 0, 0, 0, 0, 0, 1, 0, 0, 0],\n",
       "       [0, 0, 0, 0, 0, 0, 0, 0, 0, 0]])"
      ]
     },
     "execution_count": 163,
     "metadata": {},
     "output_type": "execute_result"
    }
   ],
   "source": [
    "train_dtm[0:3, 0:10].toarray()\n"
   ]
  },
  {
   "cell_type": "code",
   "execution_count": 164,
   "metadata": {},
   "outputs": [
    {
     "name": "stdout",
     "output_type": "stream",
     "text": [
      "19183\n",
      "Features:  19183\n"
     ]
    }
   ],
   "source": [
    "#number of features\n",
    "print len(vect.get_feature_names())\n",
    "print 'Features: ', train_dtm.shape[1]\n"
   ]
  },
  {
   "cell_type": "code",
   "execution_count": 165,
   "metadata": {},
   "outputs": [
    {
     "data": {
      "text/plain": [
       "MultinomialNB(alpha=1.0, class_prior=None, fit_prior=True)"
      ]
     },
     "execution_count": 165,
     "metadata": {},
     "output_type": "execute_result"
    }
   ],
   "source": [
    "#We use MultinomialNB since we are dealing with counts\n",
    "nb = MultinomialNB()\n",
    "nb.fit(train_dtm, y_train)\n"
   ]
  },
  {
   "cell_type": "code",
   "execution_count": 166,
   "metadata": {},
   "outputs": [
    {
     "name": "stdout",
     "output_type": "stream",
     "text": [
      "Accuracy:  0.9718551150269212\n"
     ]
    }
   ],
   "source": [
    "y_pred_class = nb.predict(train_dtm)\n",
    "print 'Accuracy: ', metrics.accuracy_score(y_train, y_pred_class)\n"
   ]
  },
  {
   "cell_type": "markdown",
   "metadata": {},
   "source": [
    "Anything that approaches this level of accuracy will be regarded as a good classification performance."
   ]
  },
  {
   "cell_type": "code",
   "execution_count": 167,
   "metadata": {},
   "outputs": [
    {
     "name": "stdout",
     "output_type": "stream",
     "text": [
      "F1:  0.921715452688904\n"
     ]
    }
   ],
   "source": [
    "print 'F1: ', metrics.f1_score(y_train, y_pred_class)"
   ]
  },
  {
   "cell_type": "markdown",
   "metadata": {},
   "source": [
    "### Use default CountVectorizer which creates a list of term/frequency features for every review on  a split dataset"
   ]
  },
  {
   "cell_type": "code",
   "execution_count": 168,
   "metadata": {},
   "outputs": [],
   "source": [
    "# split the new DataFrame into training and testing sets\n",
    "# Gives us 75 train : 25 test split\n",
    "X_train, X_test, y_train, y_test = train_test_split(yelp_best_worst.text, yelp_best_worst.stars, random_state=1, train_size=0.75)\n"
   ]
  },
  {
   "cell_type": "code",
   "execution_count": 169,
   "metadata": {},
   "outputs": [
    {
     "name": "stdout",
     "output_type": "stream",
     "text": [
      "training dataset size:  3064\n",
      "test dataset size:  1022\n"
     ]
    }
   ],
   "source": [
    "print 'training dataset size: ', len(X_train)\n",
    "print 'test dataset size: ',  len(X_test)\n"
   ]
  },
  {
   "cell_type": "code",
   "execution_count": 170,
   "metadata": {},
   "outputs": [
    {
     "name": "stdout",
     "output_type": "stream",
     "text": [
      "(3064,)\n",
      "(1022,)\n"
     ]
    }
   ],
   "source": [
    "print y_train.shape\n",
    "print y_test.shape\n"
   ]
  },
  {
   "cell_type": "code",
   "execution_count": 171,
   "metadata": {},
   "outputs": [],
   "source": [
    "#Initialises an object of count vectorizers\n",
    "# rows are documents, columns are terms (aka \"tokens\" or \"features\")\n",
    "#It adds features to the review to represent all words (16825) in the dataset. = sparse matrix.\n",
    "#most counts will be zero.\n",
    "# use CountVectorizer to create document-term matrices from X_train and X_test\n",
    "vect = CountVectorizer()\n",
    "train_dtm = vect.fit_transform(X_train)\n",
    "test_dtm = vect.transform(X_test)\n"
   ]
  },
  {
   "cell_type": "code",
   "execution_count": 172,
   "metadata": {},
   "outputs": [
    {
     "data": {
      "text/plain": [
       "(3064, 16825)"
      ]
     },
     "execution_count": 172,
     "metadata": {},
     "output_type": "execute_result"
    }
   ],
   "source": [
    "#We end up with a training dataset of 3064 rows and 16825 features\n",
    "train_dtm.shape\n"
   ]
  },
  {
   "cell_type": "code",
   "execution_count": 173,
   "metadata": {},
   "outputs": [
    {
     "data": {
      "text/plain": [
       "(1022, 16825)"
      ]
     },
     "execution_count": 173,
     "metadata": {},
     "output_type": "execute_result"
    }
   ],
   "source": [
    "test_dtm.shape"
   ]
  },
  {
   "cell_type": "code",
   "execution_count": 174,
   "metadata": {},
   "outputs": [
    {
     "data": {
      "text/plain": [
       "MultinomialNB(alpha=1.0, class_prior=None, fit_prior=True)"
      ]
     },
     "execution_count": 174,
     "metadata": {},
     "output_type": "execute_result"
    }
   ],
   "source": [
    "#We use MultinomialNB since we are dealing with counts\n",
    "nb = MultinomialNB()\n",
    "nb.fit(train_dtm, y_train)\n"
   ]
  },
  {
   "cell_type": "code",
   "execution_count": 175,
   "metadata": {},
   "outputs": [
    {
     "name": "stdout",
     "output_type": "stream",
     "text": [
      "Accuracy:  0.9187866927592955\n"
     ]
    }
   ],
   "source": [
    "y_pred_class = nb.predict(test_dtm)\n",
    "print 'Accuracy: ', metrics.accuracy_score(y_test, y_pred_class)\n"
   ]
  },
  {
   "cell_type": "markdown",
   "metadata": {},
   "source": [
    "### Use default CountVectorizer with filtered stopwords "
   ]
  },
  {
   "cell_type": "code",
   "execution_count": 176,
   "metadata": {},
   "outputs": [
    {
     "name": "stdout",
     "output_type": "stream",
     "text": [
      "Features:  16528\n",
      "Accuracy:  0.9158512720156555\n"
     ]
    }
   ],
   "source": [
    "# remove English stop words\n",
    "vect = CountVectorizer(stop_words='english')\n",
    "train_dtm = vect.fit_transform(X_train)\n",
    "print 'Features: ', train_dtm.shape[1]\n",
    "test_dtm = vect.transform(X_test)\n",
    "nb = MultinomialNB()\n",
    "nb.fit(train_dtm, y_train)\n",
    "y_pred_class = nb.predict(test_dtm)\n",
    "print 'Accuracy: ', metrics.accuracy_score(y_test, y_pred_class)\n"
   ]
  },
  {
   "cell_type": "markdown",
   "metadata": {},
   "source": [
    "### Use default CountVectorizer with filtered stopwords and select top 100"
   ]
  },
  {
   "cell_type": "code",
   "execution_count": 177,
   "metadata": {},
   "outputs": [
    {
     "name": "stdout",
     "output_type": "stream",
     "text": [
      "Features:  100\n",
      "Accuracy:  0.8698630136986302\n"
     ]
    }
   ],
   "source": [
    "# remove English stop words and only keep 100 features\n",
    "vect = CountVectorizer(stop_words='english', max_features=100)\n",
    "train_dtm = vect.fit_transform(X_train)\n",
    "print 'Features: ', train_dtm.shape[1]\n",
    "test_dtm = vect.transform(X_test)\n",
    "nb = MultinomialNB()\n",
    "nb.fit(train_dtm, y_train)\n",
    "y_pred_class = nb.predict(test_dtm)\n",
    "print 'Accuracy: ', metrics.accuracy_score(y_test, y_pred_class)\n",
    "\n"
   ]
  },
  {
   "cell_type": "markdown",
   "metadata": {},
   "source": [
    "**Exercise:** Train a classifier on top 10000 words"
   ]
  },
  {
   "cell_type": "code",
   "execution_count": 179,
   "metadata": {},
   "outputs": [
    {
     "name": "stdout",
     "output_type": "stream",
     "text": [
      "Features:  10000\n",
      "Accuracy:  0.9246575342465754\n"
     ]
    }
   ],
   "source": [
    "\n",
    "vect = CountVectorizer(stop_words='english', max_features=10000)\n",
    "train_dtm = vect.fit_transform(X_train)\n",
    "print 'Features: ', train_dtm.shape[1]\n",
    "test_dtm = vect.transform(X_test)\n",
    "nb = MultinomialNB()\n",
    "nb.fit(train_dtm, y_train)\n",
    "y_pred_class = nb.predict(test_dtm)\n",
    "print 'Accuracy: ', metrics.accuracy_score(y_test, y_pred_class)\n",
    "\n"
   ]
  },
  {
   "cell_type": "markdown",
   "metadata": {},
   "source": [
    "**Exercise:** Train a classifier on bigram frequencies "
   ]
  },
  {
   "cell_type": "code",
   "execution_count": 181,
   "metadata": {},
   "outputs": [
    {
     "name": "stdout",
     "output_type": "stream",
     "text": [
      "Features:  153022\n",
      "Accuracy:  0.8737769080234834\n"
     ]
    }
   ],
   "source": [
    "vect = CountVectorizer(ngram_range=[2,2])\n",
    "train_dtm = vect.fit_transform(X_train)\n",
    "print 'Features: ', train_dtm.shape[1]\n",
    "test_dtm = vect.transform(X_test)\n",
    "nb = MultinomialNB()\n",
    "nb.fit(train_dtm, y_train)\n",
    "y_pred_class = nb.predict(test_dtm)\n",
    "print 'Accuracy: ', metrics.accuracy_score(y_test, y_pred_class)\n"
   ]
  },
  {
   "cell_type": "markdown",
   "metadata": {},
   "source": [
    "**Exercise:** Train a classifier on bigrams and restricting to top 10000 "
   ]
  },
  {
   "cell_type": "code",
   "execution_count": 182,
   "metadata": {},
   "outputs": [
    {
     "name": "stdout",
     "output_type": "stream",
     "text": [
      "Features:  10000\n",
      "Accuracy:  0.9099804305283757\n"
     ]
    }
   ],
   "source": [
    "vect = CountVectorizer(ngram_range=[2,2], max_features=10000)\n",
    "train_dtm = vect.fit_transform(X_train)\n",
    "print 'Features: ', train_dtm.shape[1]\n",
    "test_dtm = vect.transform(X_test)\n",
    "nb = MultinomialNB()\n",
    "nb.fit(train_dtm, y_train)\n",
    "y_pred_class = nb.predict(test_dtm)\n",
    "print 'Accuracy: ', metrics.accuracy_score(y_test, y_pred_class)"
   ]
  },
  {
   "cell_type": "markdown",
   "metadata": {},
   "source": [
    "**Exercise:** Train a classifier on bigrams including terms that appear at least 2 times"
   ]
  },
  {
   "cell_type": "code",
   "execution_count": 183,
   "metadata": {},
   "outputs": [
    {
     "name": "stdout",
     "output_type": "stream",
     "text": [
      "Features:  35174\n",
      "Accuracy:  0.9324853228962818\n"
     ]
    }
   ],
   "source": [
    "vect = CountVectorizer(ngram_range=[2,2], min_df=2)\n",
    "train_dtm = vect.fit_transform(X_train)\n",
    "print 'Features: ', train_dtm.shape[1]\n",
    "test_dtm = vect.transform(X_test)\n",
    "nb = MultinomialNB()\n",
    "nb.fit(train_dtm, y_train)\n",
    "y_pred_class = nb.predict(test_dtm)\n",
    "print 'Accuracy: ', metrics.accuracy_score(y_test, y_pred_class)"
   ]
  },
  {
   "cell_type": "markdown",
   "metadata": {},
   "source": [
    "**Exercise:** Train a classifier on word counts, but this time normalise all the words using a SnowballStemmer lemmatizer."
   ]
  },
  {
   "cell_type": "code",
   "execution_count": null,
   "metadata": {},
   "outputs": [],
   "source": [
    "vect = CountVectorizer(ngram_range=[2,2], min_df=2)\n",
    "train_dtm = vect.fit_transform(X_train)\n",
    "print 'Features: ', train_dtm.shape[1]\n",
    "test_dtm = vect.transform(X_test)\n",
    "nb = MultinomialNB()\n",
    "nb.fit(train_dtm, y_train)\n",
    "y_pred_class = nb.predict(test_dtm)\n",
    "print 'Accuracy: ', metrics.accuracy_score(y_test, y_pred_class)"
   ]
  },
  {
   "cell_type": "code",
   "execution_count": null,
   "metadata": {},
   "outputs": [],
   "source": []
  },
  {
   "cell_type": "markdown",
   "metadata": {},
   "source": [
    "Passing numeric regular expression into account vectoriser may improve results further. Or use the dictionary to filter out misspelled words. There are a number of other trial and error tweaks to the training that could be performed."
   ]
  },
  {
   "cell_type": "markdown",
   "metadata": {},
   "source": [
    "### Use TF-IDF"
   ]
  },
  {
   "cell_type": "code",
   "execution_count": null,
   "metadata": {},
   "outputs": [],
   "source": [
    "# create a document-term matrix using TF-IDF\n",
    "vect = TfidfVectorizer(stop_words='english',max_features=1000)\n",
    "#dtm = vect.fit_transform(yelp.text)\n",
    "#features = vect.get_feature_names()\n",
    "\n",
    "\n",
    "train_dtm = vect.fit_transform(X_train)\n",
    "print train_dtm.shape\n",
    "print 'Features: ', train_dtm.shape[1]\n",
    "test_dtm = vect.transform(X_test)\n",
    "nb = MultinomialNB()\n",
    "nb.fit(train_dtm, y_train)\n",
    "y_pred_class = nb.predict(test_dtm)\n",
    "print 'Accuracy: ', metrics.accuracy_score(y_test, y_pred_class)"
   ]
  },
  {
   "cell_type": "markdown",
   "metadata": {},
   "source": [
    "**Exercise:** Train a classifier again using TF-IDF features, and this time experiment with different subsets/numbers of features and observe changes in accuracy"
   ]
  },
  {
   "cell_type": "code",
   "execution_count": null,
   "metadata": {},
   "outputs": [],
   "source": []
  },
  {
   "cell_type": "markdown",
   "metadata": {},
   "source": [
    "### Use LDA"
   ]
  },
  {
   "cell_type": "markdown",
   "metadata": {},
   "source": [
    "Here is an example of how to generate a list of words associated with five topics for each of the two categories of reviews:"
   ]
  },
  {
   "cell_type": "code",
   "execution_count": 184,
   "metadata": {},
   "outputs": [
    {
     "name": "stderr",
     "output_type": "stream",
     "text": [
      "INFO:lda:n_documents: 565\n",
      "INFO:lda:vocab_size: 7236\n",
      "INFO:lda:n_words: 37722\n",
      "INFO:lda:n_topics: 2\n",
      "INFO:lda:n_iter: 200\n",
      "INFO:lda:<0> log likelihood: -357066\n",
      "INFO:lda:<10> log likelihood: -330780\n",
      "INFO:lda:<20> log likelihood: -327453\n",
      "INFO:lda:<30> log likelihood: -326225\n",
      "INFO:lda:<40> log likelihood: -325369\n",
      "INFO:lda:<50> log likelihood: -324619\n",
      "INFO:lda:<60> log likelihood: -324430\n",
      "INFO:lda:<70> log likelihood: -324049\n",
      "INFO:lda:<80> log likelihood: -323917\n",
      "INFO:lda:<90> log likelihood: -323950\n",
      "INFO:lda:<100> log likelihood: -323713\n",
      "INFO:lda:<110> log likelihood: -323235\n",
      "INFO:lda:<120> log likelihood: -323342\n",
      "INFO:lda:<130> log likelihood: -323371\n",
      "INFO:lda:<140> log likelihood: -323296\n",
      "INFO:lda:<150> log likelihood: -323002\n",
      "INFO:lda:<160> log likelihood: -323017\n",
      "INFO:lda:<170> log likelihood: -323164\n",
      "INFO:lda:<180> log likelihood: -323205\n",
      "INFO:lda:<190> log likelihood: -323240\n",
      "INFO:lda:<199> log likelihood: -323160\n"
     ]
    },
    {
     "name": "stdout",
     "output_type": "stream",
     "text": [
      "Topic 0: food 0.025, place 0.017, like 0.015, good 0.014, ordered 0.009\n",
      "Topic 1: time 0.010, just 0.008, service 0.008, minutes 0.008, order 0.008\n"
     ]
    }
   ],
   "source": [
    "# Instantiate a count vectorizer with two additional parameters\n",
    "vect = CountVectorizer(stop_words='english', ngram_range=[1,1]) \n",
    "sentences_train = vect.fit_transform( X_train[y_train == 1] )\n",
    "\n",
    "# Instantiate an LDA model\n",
    "model = lda.LDA(n_topics=2, n_iter=200)\n",
    "model.fit(sentences_train) # Fit the model \n",
    "n_top_words = 5\n",
    "topic_word = model.topic_word_\n",
    "for i, topic_dist in enumerate(model.topic_word_):\n",
    "    topic_words = np.array(vect.get_feature_names())[np.argsort(topic_dist)][:-n_top_words-1:-1]\n",
    "    weights = np.sort(topic_dist)[:-n_top_words-1:-1]\n",
    "    weights = [\"%.3f\"%item for item in weights]\n",
    "    z= [str(tw) + ' ' + str(w) for tw, w in zip(topic_words, weights)] \n",
    "    print('Topic {}: {}'.format(i, ', '.join(z)))\n",
    "    "
   ]
  },
  {
   "cell_type": "code",
   "execution_count": 185,
   "metadata": {},
   "outputs": [
    {
     "name": "stderr",
     "output_type": "stream",
     "text": [
      "INFO:lda:n_documents: 2499\n",
      "INFO:lda:vocab_size: 14316\n",
      "INFO:lda:n_words: 131423\n",
      "INFO:lda:n_topics: 2\n",
      "INFO:lda:n_iter: 200\n",
      "INFO:lda:<0> log likelihood: -1218798\n",
      "INFO:lda:<10> log likelihood: -1153393\n",
      "INFO:lda:<20> log likelihood: -1142757\n",
      "INFO:lda:<30> log likelihood: -1134788\n",
      "INFO:lda:<40> log likelihood: -1130709\n",
      "INFO:lda:<50> log likelihood: -1127574\n",
      "INFO:lda:<60> log likelihood: -1125689\n",
      "INFO:lda:<70> log likelihood: -1123937\n",
      "INFO:lda:<80> log likelihood: -1122784\n",
      "INFO:lda:<90> log likelihood: -1120723\n",
      "INFO:lda:<100> log likelihood: -1119815\n",
      "INFO:lda:<110> log likelihood: -1119070\n",
      "INFO:lda:<120> log likelihood: -1118566\n",
      "INFO:lda:<130> log likelihood: -1117838\n",
      "INFO:lda:<140> log likelihood: -1117813\n",
      "INFO:lda:<150> log likelihood: -1117877\n",
      "INFO:lda:<160> log likelihood: -1117450\n",
      "INFO:lda:<170> log likelihood: -1117844\n",
      "INFO:lda:<180> log likelihood: -1117938\n",
      "INFO:lda:<190> log likelihood: -1117308\n",
      "INFO:lda:<199> log likelihood: -1117600\n"
     ]
    },
    {
     "name": "stdout",
     "output_type": "stream",
     "text": [
      "Topic 0: food 0.018, good 0.014, place 0.013, great 0.012, love 0.009\n",
      "Topic 1: great 0.011, place 0.009, just 0.007, time 0.007, like 0.007\n"
     ]
    }
   ],
   "source": [
    "# Instantiate a count vectorizer with two additional parameters\n",
    "vect = CountVectorizer(stop_words='english', ngram_range=[1,1]) \n",
    "sentences_train = vect.fit_transform( X_train[y_train == 5] )\n",
    "\n",
    "# Instantiate an LDA model\n",
    "model = lda.LDA(n_topics=2, n_iter=200)\n",
    "model.fit(sentences_train) # Fit the model \n",
    "n_top_words = 5\n",
    "topic_word = model.topic_word_\n",
    "for i, topic_dist in enumerate(model.topic_word_):\n",
    "    topic_words = np.array(vect.get_feature_names())[np.argsort(topic_dist)][:-n_top_words-1:-1]\n",
    "    weights = np.sort(topic_dist)[:-n_top_words-1:-1]\n",
    "    weights = [\"%.3f\"%item for item in weights]\n",
    "    z= [str(tw) + ' ' + str(w) for tw, w in zip(topic_words, weights)] \n",
    "    print('Topic {}: {}'.format(i, ', '.join(z)))"
   ]
  },
  {
   "cell_type": "code",
   "execution_count": 186,
   "metadata": {},
   "outputs": [
    {
     "data": {
      "image/png": "[encoded data removed]",
      "text/plain": [
       "<Figure size 1080x864 with 5 Axes>"
      ]
     },
     "metadata": {},
     "output_type": "display_data"
    }
   ],
   "source": [
    "rcParams['xtick.labelsize'] = 10\n",
    "rcParams['ytick.labelsize'] = 10\n",
    "\n",
    "f, ax= plt.subplots(5, 1, figsize=(15, 12), sharex=True)\n",
    "for i, k in enumerate(range(2)):\n",
    "    ax[i].stem(topic_word[k,:], linefmt='b-', markerfmt='bo', basefmt='w-')\n",
    "    ax[i].set_ylim(0, 0.08)\n",
    "    ax[i].set_ylabel(\"Probability\")\n",
    "    ax[i].set_title(\"topic {}\".format(k))\n",
    "\n",
    "ax[4].set_xlabel(\"word\")\n",
    "\n",
    "\n",
    "\n",
    "plt.tight_layout()\n",
    "plt.show()"
   ]
  },
  {
   "cell_type": "code",
   "execution_count": null,
   "metadata": {},
   "outputs": [],
   "source": [
    "doc_topic = model.doc_topic_\n",
    "rcParams['xtick.labelsize'] = 20\n",
    "rcParams['ytick.labelsize'] = 20\n",
    "\n",
    "f, ax= plt.subplots(5, 1, figsize=(25, 15), sharex=True)\n",
    "for i, k in enumerate(range(5)):\n",
    "    ax[i].stem(doc_topic[k,:], linefmt='r-', markerfmt='ro', basefmt='w-')\n",
    "    ax[i].set_xlim(-0.5, 2.5)\n",
    "    ax[i].set_ylim(0, 1)\n",
    "    ax[i].set_ylabel(\"Probability\")\n",
    "    ax[i].set_title(\"Document {}\".format(k))\n",
    "\n",
    "ax[4].set_xlabel(\"Topic\")\n",
    "\n",
    "plt.tight_layout()\n",
    "plt.show()"
   ]
  },
  {
   "cell_type": "code",
   "execution_count": null,
   "metadata": {},
   "outputs": [],
   "source": [
    "y_train[:5]"
   ]
  },
  {
   "cell_type": "markdown",
   "metadata": {},
   "source": [
    "**Exercise:** Consider how you would represent this as a feature for a classification problem."
   ]
  },
  {
   "cell_type": "code",
   "execution_count": null,
   "metadata": {
    "collapsed": true
   },
   "outputs": [],
   "source": []
  },
  {
   "cell_type": "markdown",
   "metadata": {},
   "source": [
    "### Alternative Features Engineering Techinques"
   ]
  },
  {
   "cell_type": "markdown",
   "metadata": {},
   "source": [
    "We are now going to continue experimenting with this problem and get more creative with the \"feature engineering\" component in the hope that we generate new features which are more discriminative in their predictive strength of the target class labels."
   ]
  },
  {
   "cell_type": "code",
   "execution_count": null,
   "metadata": {
    "collapsed": true
   },
   "outputs": [],
   "source": [
    "# understanding the apply method\n",
    "yelp['length'] = yelp.text.apply(len)\n"
   ]
  },
  {
   "cell_type": "code",
   "execution_count": null,
   "metadata": {},
   "outputs": [],
   "source": [
    "yelp.head()"
   ]
  },
  {
   "cell_type": "code",
   "execution_count": null,
   "metadata": {},
   "outputs": [],
   "source": [
    "# define a function that accepts text and returns the polarity\n",
    "def detect_sentiment(text):\n",
    "    return TextBlob(text.decode('utf-8')).sentiment.polarity\n",
    "\n",
    "\n",
    "# create a new DataFrame column for sentiment\n",
    "yelp['sentiment'] = yelp.text.apply(detect_sentiment)\n",
    "yelp.head()"
   ]
  },
  {
   "cell_type": "code",
   "execution_count": null,
   "metadata": {},
   "outputs": [],
   "source": [
    "# boxplot of sentiment grouped by stars\n",
    "yelp.boxplot(column='sentiment', by='stars', figsize=(25,10))\n",
    "plt.xticks(fontsize='large')\n",
    "plt.yticks(fontsize='large')\n"
   ]
  },
  {
   "cell_type": "code",
   "execution_count": null,
   "metadata": {},
   "outputs": [],
   "source": [
    "yelp_best_worst.head()\n"
   ]
  },
  {
   "cell_type": "code",
   "execution_count": null,
   "metadata": {
    "collapsed": true
   },
   "outputs": [],
   "source": [
    "# create a new DataFrame that only contains the 5-star and 1-star reviews\n",
    "yelp_best_worst = yelp[(yelp.stars==5) | (yelp.stars==1)]\n",
    "\n",
    "# split the new DataFrame into training and testing sets\n",
    "feature_cols = ['sentiment', 'cool', 'useful', 'funny', 'length']\n",
    "X = yelp_best_worst[feature_cols]\n",
    "y = yelp_best_worst.stars\n"
   ]
  },
  {
   "cell_type": "markdown",
   "metadata": {},
   "source": [
    "This will now be our classification dataset features:"
   ]
  },
  {
   "cell_type": "code",
   "execution_count": null,
   "metadata": {},
   "outputs": [],
   "source": [
    "X.head()\n"
   ]
  },
  {
   "cell_type": "code",
   "execution_count": null,
   "metadata": {},
   "outputs": [],
   "source": [
    "X_train, X_test, y_train, y_test = train_test_split(X, y, random_state=1)\n"
   ]
  },
  {
   "cell_type": "code",
   "execution_count": null,
   "metadata": {},
   "outputs": [],
   "source": [
    "print 'Features: ', X_train.shape[1]\n",
    "nb = GaussianNB()\n",
    "nb.fit(X_train, y_train)\n",
    "y_pred_class = nb.predict(X_test)\n",
    "print 'Accuracy: ', metrics.accuracy_score(y_test, y_pred_class)\n"
   ]
  },
  {
   "cell_type": "markdown",
   "metadata": {},
   "source": [
    "**Exercise:** Add a new feature called subjectivity which represents the subjectivity of the review. Train a classifier with the new feature and observe changes in accuracy."
   ]
  },
  {
   "cell_type": "code",
   "execution_count": null,
   "metadata": {
    "collapsed": true
   },
   "outputs": [],
   "source": []
  },
  {
   "cell_type": "markdown",
   "metadata": {},
   "source": [
    "---\n"
   ]
  },
  {
   "cell_type": "markdown",
   "metadata": {},
   "source": [
    "# Information Retreival "
   ]
  },
  {
   "cell_type": "code",
   "execution_count": null,
   "metadata": {},
   "outputs": [],
   "source": [
    "from sklearn.feature_extraction.text import TfidfVectorizer\n",
    "from sklearn.metrics.pairwise import cosine_similarity\n",
    "\n",
    "# Assume thats the data we have (4 short documents)\n",
    "data = [\n",
    "    'I like tennis and swimming',\n",
    "    'I love swimming and skiing',\n",
    "    'I prefer skiing over tennis',\n",
    "    'Playing sport is awful'\n",
    "]\n",
    "\n",
    "# Vectorise the data\n",
    "vec = TfidfVectorizer()\n",
    "X = vec.fit_transform(data) # `X` will now be a TF-IDF representation of the data, the first row of `X` corresponds to the first sentence in `data`\n",
    "\n",
    "# Calculate the pairwise cosine similarities (depending on the amount of data that you are going to have this could take a while)\n",
    "S = cosine_similarity(X)\n",
    "S"
   ]
  },
  {
   "cell_type": "markdown",
   "metadata": {},
   "source": [
    "**Exercise:** Complete the function below which takes the target text, a k number of requested closest texts, the tf-idf matrix and the original dataset. It should return the k number of closest texts to the target text."
   ]
  },
  {
   "cell_type": "code",
   "execution_count": null,
   "metadata": {
    "collapsed": true
   },
   "outputs": [],
   "source": [
    "def select_k_closest(target, k, distance_matrix, data):\n",
    "    \n",
    "    # YOUR CODE HERE\n",
    "\n",
    "    \n",
    "    return result\n",
    "    "
   ]
  },
  {
   "cell_type": "code",
   "execution_count": null,
   "metadata": {},
   "outputs": [],
   "source": [
    "k = 2\n",
    "target = 0\n",
    "select_k_closest(target, k, S, data)\n",
    "#should return\n",
    "#[(0.43395520933080783, 'I love swimming and skiing'),\n",
    "#(0.20392689827876312, 'I prefer skiing over tennis')]"
   ]
  },
  {
   "cell_type": "markdown",
   "metadata": {},
   "source": [
    "**Exercise:** Use tf-idf and the cosine similarity to find the 3 closest reviews to the below review."
   ]
  },
  {
   "cell_type": "code",
   "execution_count": null,
   "metadata": {},
   "outputs": [],
   "source": [
    "yelp['text'].values[0]"
   ]
  },
  {
   "cell_type": "code",
   "execution_count": null,
   "metadata": {},
   "outputs": [],
   "source": [
    "# YOUR CODE HERE\n",
    "\n",
    "# Calculate the pairwise cosine similarities (depending on the amount of data that you are going to have this could take a while)\n"
   ]
  },
  {
   "cell_type": "code",
   "execution_count": null,
   "metadata": {},
   "outputs": [],
   "source": [
    "k = 3\n",
    "target = 0\n",
    "select_k_closest(target, k, S, yelp['text'].values)\n",
    "#should return:"
   ]
  },
  {
   "cell_type": "raw",
   "metadata": {},
   "source": [
    "[(0.32121567449835714,\n",
    "  \"I went here with a party of 6 on Saturday night.  Our table was ready and waiting when we got there which was nice.  It is an older place with tons of charm.  The place was pretty busy and you could tell that the waiters/servers/busers were clearly over worked.\\r\\r\\n\\r\\r\\nAfter sitting for about 10 minutes we had to flag someone down to get bread and place our appetizer order.  After that we only saw our waiter every 20 minutes or so so it was difficult to order additional items or to get soda refills.\\r\\r\\n\\r\\r\\nThe service was pretty blah but the food was excellent.  Everything I tried was top notch.  Everything was freshly made and delicious  Probably some of the best Italian cuisine around.  Definitely some of the best gnocchi I've ever had.\\r\\r\\n\\r\\r\\nI would definitely return but hope the service is better.\"),\n",
    " (0.31644792569850555,\n",
    "  \"I went here with a party of 4 on Saturday night and it was surprisingly dead.  Not that that's a bad thing because I don't like crowds.  The place is pretty sheik but you still feel like you're in a hotel.  Service was fast and friendly but I think it was our waiter's first night or something.  He was very awkward but it was ok.\\r\\r\\n\\r\\r\\nI was pissed we couldn't get the happy hour menu/prices in the main dining room.  I know it is common practice for crowded places full of douchebags, but the bar and the main dining room were pretty empty so wtf?\\r\\r\\n\\r\\r\\nI'm a vodka guy and their vodka menu is pretty neat.  They have 8 or 9 unique vodkas from around the US and clearly list their name, where they are from and the price.  What I didn't like was their martinis.  Pretty much the worst I've ever had anywhere.  Tiny pours and full of ice chips.  It was like a vodka slushy (oh snap I think I just invented something!!!).\\r\\r\\n\\r\\r\\nHere is a rundown of the food:\\r\\r\\n\\r\\r\\n* bread to start - excellent...love the lightly buttered and salted top\\r\\r\\n* tomato and mozzarella salad - excellent - one of the best i've ever had.  great dressing and ample balls of fresh mozzarella.\\r\\r\\n* pretzel fondue - the pretzels were excellent but the fondue and mustard were no bueno.  the fondu was gritty and the mustard lacked the kick that I love on pretzels.\\r\\r\\n* burger - pretty solid but nothing special\\r\\r\\n* mac n' cheese with Shriner's sausage - very unique and very tasty.  it was worth having once but I wouldn't get it again.\\r\\r\\n* tater tots - perfectly cooked.  salty/crunchy on the outside, fluffy on the inside.  The only thing that would have made these better is some type of aioli or other special dipping sauce other than ketchup.\\r\\r\\n\\r\\r\\nThe main dishes of the other people in my party looked excellent.  I should have been more adventurous and gone with something more than a standard burger.  Maybe next time. \\r\\r\\n\\r\\r\\nI was going to give this place 3 stars but I just can't.  They try to think out of the box to create dishes that are unique, have fresh ingredients, and have a local twist.  I will return.\"),\n",
    " (0.30585616472896576,\n",
    "  \"If only they had a place like Tryst Cafe back in California! The first and only problem I had with the place was the fact that I wanted nearly everything on the menu. They have amazing specials, and while the Monte Cristo breakfast sandwich and glazed-walnut French toast looked amazing, I was hungry and opted for the Hawaiian breakfast.\\r\\r\\n\\r\\r\\nThe food came pretty quickly and was warm. We didn't order any drinks because the fresh-squeezed one's are so expensive it's actually cheaper to buy one of their smoothies. The hawaain special- composed of 2 fried eggs, shredded Kalua Pork, cabbage and rice- was tasty, but a little bland. They gave my brother and I (we ordered the same thing) some soy sauce, but I would have preferred a nice dollop of ketchup instead of the sodium infested kikkoman. Other than that, the dish was delicious. They fried the eggs perfectly, the runny yolk making the rice and pork taste even better! I usually only like my eggs over-hard, so it was a pleasant surprise.\\r\\r\\n\\r\\r\\nMy mom opted for the healthy option, getting the yogurt parfait. In my opinion, this was the disappointment of the table. My mom claimed that she loved it and that it tasted like Beijing's yogurt. My mom must have some really refined tastebuds because all I tastes was some store bought low-fat vanilla. The granola was good and the berries fresh and few. What can you expect for $5? In my opinion, a little better than that. My dad, opting for the unhealthy option got the huevos rancheros. He ate it so quickly I didn't get a taste, so I can only assume it was tasty.\\r\\r\\n\\r\\r\\nOverall? Great choices, great venue, and good food.\")]"
   ]
  },
  {
   "cell_type": "markdown",
   "metadata": {},
   "source": [
    "**Exercise:** Extend the above exercise and use tf-idf and the cosine similarity to classify the test set from the previous classification problem involving 1 and 5 start reviews. "
   ]
  },
  {
   "cell_type": "code",
   "execution_count": null,
   "metadata": {
    "collapsed": true
   },
   "outputs": [],
   "source": []
  },
  {
   "cell_type": "code",
   "execution_count": null,
   "metadata": {
    "collapsed": true
   },
   "outputs": [],
   "source": []
  },
  {
   "cell_type": "markdown",
   "metadata": {},
   "source": [
    "**Exercise:** Combine both the tf-idf and the cosine similarity classification and the trained classifiers from previous examples in order to perform the classification of the yelp dataset from the above example."
   ]
  },
  {
   "cell_type": "code",
   "execution_count": null,
   "metadata": {
    "collapsed": true
   },
   "outputs": [],
   "source": []
  },
  {
   "cell_type": "code",
   "execution_count": null,
   "metadata": {
    "collapsed": true
   },
   "outputs": [],
   "source": []
  },
  {
   "cell_type": "code",
   "execution_count": null,
   "metadata": {
    "collapsed": true
   },
   "outputs": [],
   "source": []
  },
  {
   "cell_type": "code",
   "execution_count": null,
   "metadata": {},
   "outputs": [],
   "source": [
    "%%javascript\n",
    "require(['base/js/utils'],\n",
    "function(utils) {\n",
    "   utils.load_extensions('calico-spell-check', 'calico-document-tools', 'calico-cell-tools');\n",
    "});"
   ]
  },
  {
   "cell_type": "code",
   "execution_count": null,
   "metadata": {
    "collapsed": true
   },
   "outputs": [],
   "source": []
  }
 ],
 "metadata": {
  "kernelspec": {
   "display_name": "Python 3",
   "language": "python",
   "name": "python3"
  },
  "language_info": {
   "codemirror_mode": {
    "name": "ipython",
    "version": 3
   },
   "file_extension": ".py",
   "mimetype": "text/x-python",
   "name": "python",
   "nbconvert_exporter": "python",
   "pygments_lexer": "ipython3",
   "version": "3.6.5"
  }
 },
 "nbformat": 4,
 "nbformat_minor": 1
}
