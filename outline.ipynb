{
 "cells": [
  {
   "cell_type": "markdown",
   "metadata": {},
   "source": [
    "1、data处理\n",
    "df加一品类列，2个品类，【productID， q， A， class，questionType，answerType】\n",
    "\n",
    "EDA 不同提问类型，不同的回答类型统计数据\n",
    "\n",
    "http://www.shareditor.com/blogshow?blogId=121\n",
    "\n"
   ]
  },
  {
   "cell_type": "raw",
   "metadata": {},
   "source": [
    "\n",
    "1、获得segment file-2个：\n",
    "quesiton|answer， answer\n",
    "\n",
    "参考：https://github.com/warmheartli/ChatBotCourse/blob/master/word_segment.py 从file to file\n",
    "需要处理英文分词 存储成文件，df to file\n",
    "\n"
   ]
  },
  {
   "cell_type": "raw",
   "metadata": {},
   "source": [
    "2、生成词向量文件\n",
    "work to vector\n",
    "\n",
    "参考：https://github.com/warmheartli/ChatBotCourse/blob/master/word_vectors_loader.py 根据goole改的\n",
    "研究，参数设置， 改成处理英文 \n",
    "原始的google算法，ppt会解释一下。用C实现的处理英文，我们需要用python实现。 一行一条记录，我们是一行一对记录中间用|分隔\n",
    "\n",
    "另一个参考：https://blog.csdn.net/lom9357bye/article/details/73136117\n",
    "文章 生成vector\n"
   ]
  },
  {
   "cell_type": "markdown",
   "metadata": {},
   "source": [
    "3、创建model  使用tensorflow+tflearn\n",
    "\n"
   ]
  },
  {
   "cell_type": "markdown",
   "metadata": {},
   "source": [
    "4、train   tflearn.DNN(net)\n",
    "保存model\n"
   ]
  },
  {
   "cell_type": "markdown",
   "metadata": {},
   "source": [
    "5、prediction\n",
    "\n"
   ]
  },
  {
   "cell_type": "markdown",
   "metadata": {},
   "source": [
    "6、Amazon 参考，http://cseweb.ucsd.edu/~jmcauley/pdfs/icdm16c.pdf"
   ]
  }
 ],
 "metadata": {
  "kernelspec": {
   "display_name": "Python 3",
   "language": "python",
   "name": "python3"
  },
  "language_info": {
   "codemirror_mode": {
    "name": "ipython",
    "version": 3
   },
   "file_extension": ".py",
   "mimetype": "text/x-python",
   "name": "python",
   "nbconvert_exporter": "python",
   "pygments_lexer": "ipython3",
   "version": "3.6.5"
  }
 },
 "nbformat": 4,
 "nbformat_minor": 2
}
